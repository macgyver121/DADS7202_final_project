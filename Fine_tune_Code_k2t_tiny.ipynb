{
  "nbformat": 4,
  "nbformat_minor": 0,
  "metadata": {
    "accelerator": "GPU",
    "colab": {
      "provenance": [],
      "include_colab_link": true
    },
    "kernelspec": {
      "display_name": "Python 3",
      "name": "python3"
    },
    "language_info": {
      "name": "python"
    },
    "widgets": {
      "application/vnd.jupyter.widget-state+json": {
        "b194e01ec8e4445ea89e658ff3a16e31": {
          "model_module": "@jupyter-widgets/controls",
          "model_name": "HBoxModel",
          "model_module_version": "1.5.0",
          "state": {
            "_view_name": "HBoxView",
            "_dom_classes": [],
            "_model_name": "HBoxModel",
            "_view_module": "@jupyter-widgets/controls",
            "_model_module_version": "1.5.0",
            "_view_count": null,
            "_view_module_version": "1.5.0",
            "box_style": "",
            "layout": "IPY_MODEL_607e13af157a4e3db72925f0e838ce09",
            "_model_module": "@jupyter-widgets/controls",
            "children": [
              "IPY_MODEL_f426b19fbf4d4b688192c43e31710e6a",
              "IPY_MODEL_551ec23b892d4d5dbc36dd58efe2ca01",
              "IPY_MODEL_6ddb79d1d79d4d87b1fecbf92226d39b"
            ]
          }
        },
        "607e13af157a4e3db72925f0e838ce09": {
          "model_module": "@jupyter-widgets/base",
          "model_name": "LayoutModel",
          "model_module_version": "1.2.0",
          "state": {
            "_view_name": "LayoutView",
            "grid_template_rows": null,
            "right": null,
            "justify_content": null,
            "_view_module": "@jupyter-widgets/base",
            "overflow": null,
            "_model_module_version": "1.2.0",
            "_view_count": null,
            "flex_flow": null,
            "width": null,
            "min_width": null,
            "border": null,
            "align_items": null,
            "bottom": null,
            "_model_module": "@jupyter-widgets/base",
            "top": null,
            "grid_column": null,
            "overflow_y": null,
            "overflow_x": null,
            "grid_auto_flow": null,
            "grid_area": null,
            "grid_template_columns": null,
            "flex": null,
            "_model_name": "LayoutModel",
            "justify_items": null,
            "grid_row": null,
            "max_height": null,
            "align_content": null,
            "visibility": null,
            "align_self": null,
            "height": null,
            "min_height": null,
            "padding": null,
            "grid_auto_rows": null,
            "grid_gap": null,
            "max_width": null,
            "order": null,
            "_view_module_version": "1.2.0",
            "grid_template_areas": null,
            "object_position": null,
            "object_fit": null,
            "grid_auto_columns": null,
            "margin": null,
            "display": null,
            "left": null
          }
        },
        "f426b19fbf4d4b688192c43e31710e6a": {
          "model_module": "@jupyter-widgets/controls",
          "model_name": "HTMLModel",
          "model_module_version": "1.5.0",
          "state": {
            "_view_name": "HTMLView",
            "style": "IPY_MODEL_a4476b44ef6844e5b096299476e95b4f",
            "_dom_classes": [],
            "description": "",
            "_model_name": "HTMLModel",
            "placeholder": "​",
            "_view_module": "@jupyter-widgets/controls",
            "_model_module_version": "1.5.0",
            "value": "Upload file pytorch_model.bin: 100%",
            "_view_count": null,
            "_view_module_version": "1.5.0",
            "description_tooltip": null,
            "_model_module": "@jupyter-widgets/controls",
            "layout": "IPY_MODEL_bd7eeaa744884b98a64b38af9cd5ff84"
          }
        },
        "551ec23b892d4d5dbc36dd58efe2ca01": {
          "model_module": "@jupyter-widgets/controls",
          "model_name": "FloatProgressModel",
          "model_module_version": "1.5.0",
          "state": {
            "_view_name": "ProgressView",
            "style": "IPY_MODEL_e0fe868886b54b0c833d7469aeeb5eb9",
            "_dom_classes": [],
            "description": "",
            "_model_name": "FloatProgressModel",
            "bar_style": "success",
            "max": 242026427,
            "_view_module": "@jupyter-widgets/controls",
            "_model_module_version": "1.5.0",
            "value": 242026427,
            "_view_count": null,
            "_view_module_version": "1.5.0",
            "orientation": "horizontal",
            "min": 0,
            "description_tooltip": null,
            "_model_module": "@jupyter-widgets/controls",
            "layout": "IPY_MODEL_a927ba91200f45ff84a20511dc1ca738"
          }
        },
        "6ddb79d1d79d4d87b1fecbf92226d39b": {
          "model_module": "@jupyter-widgets/controls",
          "model_name": "HTMLModel",
          "model_module_version": "1.5.0",
          "state": {
            "_view_name": "HTMLView",
            "style": "IPY_MODEL_a7c75ea8186c4fb8ac274a00ea95a4d3",
            "_dom_classes": [],
            "description": "",
            "_model_name": "HTMLModel",
            "placeholder": "​",
            "_view_module": "@jupyter-widgets/controls",
            "_model_module_version": "1.5.0",
            "value": " 231M/231M [03:33&lt;00:00, 964kB/s]",
            "_view_count": null,
            "_view_module_version": "1.5.0",
            "description_tooltip": null,
            "_model_module": "@jupyter-widgets/controls",
            "layout": "IPY_MODEL_cc626c2bb0fa4da38f11e0df0d08bf08"
          }
        },
        "a4476b44ef6844e5b096299476e95b4f": {
          "model_module": "@jupyter-widgets/controls",
          "model_name": "DescriptionStyleModel",
          "model_module_version": "1.5.0",
          "state": {
            "_view_name": "StyleView",
            "_model_name": "DescriptionStyleModel",
            "description_width": "",
            "_view_module": "@jupyter-widgets/base",
            "_model_module_version": "1.5.0",
            "_view_count": null,
            "_view_module_version": "1.2.0",
            "_model_module": "@jupyter-widgets/controls"
          }
        },
        "bd7eeaa744884b98a64b38af9cd5ff84": {
          "model_module": "@jupyter-widgets/base",
          "model_name": "LayoutModel",
          "model_module_version": "1.2.0",
          "state": {
            "_view_name": "LayoutView",
            "grid_template_rows": null,
            "right": null,
            "justify_content": null,
            "_view_module": "@jupyter-widgets/base",
            "overflow": null,
            "_model_module_version": "1.2.0",
            "_view_count": null,
            "flex_flow": null,
            "width": null,
            "min_width": null,
            "border": null,
            "align_items": null,
            "bottom": null,
            "_model_module": "@jupyter-widgets/base",
            "top": null,
            "grid_column": null,
            "overflow_y": null,
            "overflow_x": null,
            "grid_auto_flow": null,
            "grid_area": null,
            "grid_template_columns": null,
            "flex": null,
            "_model_name": "LayoutModel",
            "justify_items": null,
            "grid_row": null,
            "max_height": null,
            "align_content": null,
            "visibility": null,
            "align_self": null,
            "height": null,
            "min_height": null,
            "padding": null,
            "grid_auto_rows": null,
            "grid_gap": null,
            "max_width": null,
            "order": null,
            "_view_module_version": "1.2.0",
            "grid_template_areas": null,
            "object_position": null,
            "object_fit": null,
            "grid_auto_columns": null,
            "margin": null,
            "display": null,
            "left": null
          }
        },
        "e0fe868886b54b0c833d7469aeeb5eb9": {
          "model_module": "@jupyter-widgets/controls",
          "model_name": "ProgressStyleModel",
          "model_module_version": "1.5.0",
          "state": {
            "_view_name": "StyleView",
            "_model_name": "ProgressStyleModel",
            "description_width": "",
            "_view_module": "@jupyter-widgets/base",
            "_model_module_version": "1.5.0",
            "_view_count": null,
            "_view_module_version": "1.2.0",
            "bar_color": null,
            "_model_module": "@jupyter-widgets/controls"
          }
        },
        "a927ba91200f45ff84a20511dc1ca738": {
          "model_module": "@jupyter-widgets/base",
          "model_name": "LayoutModel",
          "model_module_version": "1.2.0",
          "state": {
            "_view_name": "LayoutView",
            "grid_template_rows": null,
            "right": null,
            "justify_content": null,
            "_view_module": "@jupyter-widgets/base",
            "overflow": null,
            "_model_module_version": "1.2.0",
            "_view_count": null,
            "flex_flow": null,
            "width": null,
            "min_width": null,
            "border": null,
            "align_items": null,
            "bottom": null,
            "_model_module": "@jupyter-widgets/base",
            "top": null,
            "grid_column": null,
            "overflow_y": null,
            "overflow_x": null,
            "grid_auto_flow": null,
            "grid_area": null,
            "grid_template_columns": null,
            "flex": null,
            "_model_name": "LayoutModel",
            "justify_items": null,
            "grid_row": null,
            "max_height": null,
            "align_content": null,
            "visibility": null,
            "align_self": null,
            "height": null,
            "min_height": null,
            "padding": null,
            "grid_auto_rows": null,
            "grid_gap": null,
            "max_width": null,
            "order": null,
            "_view_module_version": "1.2.0",
            "grid_template_areas": null,
            "object_position": null,
            "object_fit": null,
            "grid_auto_columns": null,
            "margin": null,
            "display": null,
            "left": null
          }
        },
        "a7c75ea8186c4fb8ac274a00ea95a4d3": {
          "model_module": "@jupyter-widgets/controls",
          "model_name": "DescriptionStyleModel",
          "model_module_version": "1.5.0",
          "state": {
            "_view_name": "StyleView",
            "_model_name": "DescriptionStyleModel",
            "description_width": "",
            "_view_module": "@jupyter-widgets/base",
            "_model_module_version": "1.5.0",
            "_view_count": null,
            "_view_module_version": "1.2.0",
            "_model_module": "@jupyter-widgets/controls"
          }
        },
        "cc626c2bb0fa4da38f11e0df0d08bf08": {
          "model_module": "@jupyter-widgets/base",
          "model_name": "LayoutModel",
          "model_module_version": "1.2.0",
          "state": {
            "_view_name": "LayoutView",
            "grid_template_rows": null,
            "right": null,
            "justify_content": null,
            "_view_module": "@jupyter-widgets/base",
            "overflow": null,
            "_model_module_version": "1.2.0",
            "_view_count": null,
            "flex_flow": null,
            "width": null,
            "min_width": null,
            "border": null,
            "align_items": null,
            "bottom": null,
            "_model_module": "@jupyter-widgets/base",
            "top": null,
            "grid_column": null,
            "overflow_y": null,
            "overflow_x": null,
            "grid_auto_flow": null,
            "grid_area": null,
            "grid_template_columns": null,
            "flex": null,
            "_model_name": "LayoutModel",
            "justify_items": null,
            "grid_row": null,
            "max_height": null,
            "align_content": null,
            "visibility": null,
            "align_self": null,
            "height": null,
            "min_height": null,
            "padding": null,
            "grid_auto_rows": null,
            "grid_gap": null,
            "max_width": null,
            "order": null,
            "_view_module_version": "1.2.0",
            "grid_template_areas": null,
            "object_position": null,
            "object_fit": null,
            "grid_auto_columns": null,
            "margin": null,
            "display": null,
            "left": null
          }
        },
        "253b922d9b5447479bae6ac0a92d3c77": {
          "model_module": "@jupyter-widgets/controls",
          "model_name": "HBoxModel",
          "model_module_version": "1.5.0",
          "state": {
            "_dom_classes": [],
            "_model_module": "@jupyter-widgets/controls",
            "_model_module_version": "1.5.0",
            "_model_name": "HBoxModel",
            "_view_count": null,
            "_view_module": "@jupyter-widgets/controls",
            "_view_module_version": "1.5.0",
            "_view_name": "HBoxView",
            "box_style": "",
            "children": [
              "IPY_MODEL_e1a750371e93443baa24f9365ad2c2a5",
              "IPY_MODEL_32ed0c75405b4e639330c945d46a39b3",
              "IPY_MODEL_9640b67a5263467791951d774d6f6989"
            ],
            "layout": "IPY_MODEL_3b20c64920de4db8b214b671ce45978b"
          }
        },
        "e1a750371e93443baa24f9365ad2c2a5": {
          "model_module": "@jupyter-widgets/controls",
          "model_name": "HTMLModel",
          "model_module_version": "1.5.0",
          "state": {
            "_dom_classes": [],
            "_model_module": "@jupyter-widgets/controls",
            "_model_module_version": "1.5.0",
            "_model_name": "HTMLModel",
            "_view_count": null,
            "_view_module": "@jupyter-widgets/controls",
            "_view_module_version": "1.5.0",
            "_view_name": "HTMLView",
            "description": "",
            "description_tooltip": null,
            "layout": "IPY_MODEL_76caaa417d5740a4bbc5524614a9a400",
            "placeholder": "​",
            "style": "IPY_MODEL_5b3cd4d06fd040769e47043f19be621a",
            "value": "100%"
          }
        },
        "32ed0c75405b4e639330c945d46a39b3": {
          "model_module": "@jupyter-widgets/controls",
          "model_name": "FloatProgressModel",
          "model_module_version": "1.5.0",
          "state": {
            "_dom_classes": [],
            "_model_module": "@jupyter-widgets/controls",
            "_model_module_version": "1.5.0",
            "_model_name": "FloatProgressModel",
            "_view_count": null,
            "_view_module": "@jupyter-widgets/controls",
            "_view_module_version": "1.5.0",
            "_view_name": "ProgressView",
            "bar_style": "success",
            "description": "",
            "description_tooltip": null,
            "layout": "IPY_MODEL_f81501b3aab345b2b265cc76faf1b3a4",
            "max": 3,
            "min": 0,
            "orientation": "horizontal",
            "style": "IPY_MODEL_f8f921c5627946829a558cbf48f2b73e",
            "value": 3
          }
        },
        "9640b67a5263467791951d774d6f6989": {
          "model_module": "@jupyter-widgets/controls",
          "model_name": "HTMLModel",
          "model_module_version": "1.5.0",
          "state": {
            "_dom_classes": [],
            "_model_module": "@jupyter-widgets/controls",
            "_model_module_version": "1.5.0",
            "_model_name": "HTMLModel",
            "_view_count": null,
            "_view_module": "@jupyter-widgets/controls",
            "_view_module_version": "1.5.0",
            "_view_name": "HTMLView",
            "description": "",
            "description_tooltip": null,
            "layout": "IPY_MODEL_482a0493b0d641a6a0545a27076b8235",
            "placeholder": "​",
            "style": "IPY_MODEL_740815dfeacb48718d9f4244d4104e9a",
            "value": " 3/3 [00:00&lt;00:00,  5.75it/s]"
          }
        },
        "3b20c64920de4db8b214b671ce45978b": {
          "model_module": "@jupyter-widgets/base",
          "model_name": "LayoutModel",
          "model_module_version": "1.2.0",
          "state": {
            "_model_module": "@jupyter-widgets/base",
            "_model_module_version": "1.2.0",
            "_model_name": "LayoutModel",
            "_view_count": null,
            "_view_module": "@jupyter-widgets/base",
            "_view_module_version": "1.2.0",
            "_view_name": "LayoutView",
            "align_content": null,
            "align_items": null,
            "align_self": null,
            "border": null,
            "bottom": null,
            "display": null,
            "flex": null,
            "flex_flow": null,
            "grid_area": null,
            "grid_auto_columns": null,
            "grid_auto_flow": null,
            "grid_auto_rows": null,
            "grid_column": null,
            "grid_gap": null,
            "grid_row": null,
            "grid_template_areas": null,
            "grid_template_columns": null,
            "grid_template_rows": null,
            "height": null,
            "justify_content": null,
            "justify_items": null,
            "left": null,
            "margin": null,
            "max_height": null,
            "max_width": null,
            "min_height": null,
            "min_width": null,
            "object_fit": null,
            "object_position": null,
            "order": null,
            "overflow": null,
            "overflow_x": null,
            "overflow_y": null,
            "padding": null,
            "right": null,
            "top": null,
            "visibility": null,
            "width": null
          }
        },
        "76caaa417d5740a4bbc5524614a9a400": {
          "model_module": "@jupyter-widgets/base",
          "model_name": "LayoutModel",
          "model_module_version": "1.2.0",
          "state": {
            "_model_module": "@jupyter-widgets/base",
            "_model_module_version": "1.2.0",
            "_model_name": "LayoutModel",
            "_view_count": null,
            "_view_module": "@jupyter-widgets/base",
            "_view_module_version": "1.2.0",
            "_view_name": "LayoutView",
            "align_content": null,
            "align_items": null,
            "align_self": null,
            "border": null,
            "bottom": null,
            "display": null,
            "flex": null,
            "flex_flow": null,
            "grid_area": null,
            "grid_auto_columns": null,
            "grid_auto_flow": null,
            "grid_auto_rows": null,
            "grid_column": null,
            "grid_gap": null,
            "grid_row": null,
            "grid_template_areas": null,
            "grid_template_columns": null,
            "grid_template_rows": null,
            "height": null,
            "justify_content": null,
            "justify_items": null,
            "left": null,
            "margin": null,
            "max_height": null,
            "max_width": null,
            "min_height": null,
            "min_width": null,
            "object_fit": null,
            "object_position": null,
            "order": null,
            "overflow": null,
            "overflow_x": null,
            "overflow_y": null,
            "padding": null,
            "right": null,
            "top": null,
            "visibility": null,
            "width": null
          }
        },
        "5b3cd4d06fd040769e47043f19be621a": {
          "model_module": "@jupyter-widgets/controls",
          "model_name": "DescriptionStyleModel",
          "model_module_version": "1.5.0",
          "state": {
            "_model_module": "@jupyter-widgets/controls",
            "_model_module_version": "1.5.0",
            "_model_name": "DescriptionStyleModel",
            "_view_count": null,
            "_view_module": "@jupyter-widgets/base",
            "_view_module_version": "1.2.0",
            "_view_name": "StyleView",
            "description_width": ""
          }
        },
        "f81501b3aab345b2b265cc76faf1b3a4": {
          "model_module": "@jupyter-widgets/base",
          "model_name": "LayoutModel",
          "model_module_version": "1.2.0",
          "state": {
            "_model_module": "@jupyter-widgets/base",
            "_model_module_version": "1.2.0",
            "_model_name": "LayoutModel",
            "_view_count": null,
            "_view_module": "@jupyter-widgets/base",
            "_view_module_version": "1.2.0",
            "_view_name": "LayoutView",
            "align_content": null,
            "align_items": null,
            "align_self": null,
            "border": null,
            "bottom": null,
            "display": null,
            "flex": null,
            "flex_flow": null,
            "grid_area": null,
            "grid_auto_columns": null,
            "grid_auto_flow": null,
            "grid_auto_rows": null,
            "grid_column": null,
            "grid_gap": null,
            "grid_row": null,
            "grid_template_areas": null,
            "grid_template_columns": null,
            "grid_template_rows": null,
            "height": null,
            "justify_content": null,
            "justify_items": null,
            "left": null,
            "margin": null,
            "max_height": null,
            "max_width": null,
            "min_height": null,
            "min_width": null,
            "object_fit": null,
            "object_position": null,
            "order": null,
            "overflow": null,
            "overflow_x": null,
            "overflow_y": null,
            "padding": null,
            "right": null,
            "top": null,
            "visibility": null,
            "width": null
          }
        },
        "f8f921c5627946829a558cbf48f2b73e": {
          "model_module": "@jupyter-widgets/controls",
          "model_name": "ProgressStyleModel",
          "model_module_version": "1.5.0",
          "state": {
            "_model_module": "@jupyter-widgets/controls",
            "_model_module_version": "1.5.0",
            "_model_name": "ProgressStyleModel",
            "_view_count": null,
            "_view_module": "@jupyter-widgets/base",
            "_view_module_version": "1.2.0",
            "_view_name": "StyleView",
            "bar_color": null,
            "description_width": ""
          }
        },
        "482a0493b0d641a6a0545a27076b8235": {
          "model_module": "@jupyter-widgets/base",
          "model_name": "LayoutModel",
          "model_module_version": "1.2.0",
          "state": {
            "_model_module": "@jupyter-widgets/base",
            "_model_module_version": "1.2.0",
            "_model_name": "LayoutModel",
            "_view_count": null,
            "_view_module": "@jupyter-widgets/base",
            "_view_module_version": "1.2.0",
            "_view_name": "LayoutView",
            "align_content": null,
            "align_items": null,
            "align_self": null,
            "border": null,
            "bottom": null,
            "display": null,
            "flex": null,
            "flex_flow": null,
            "grid_area": null,
            "grid_auto_columns": null,
            "grid_auto_flow": null,
            "grid_auto_rows": null,
            "grid_column": null,
            "grid_gap": null,
            "grid_row": null,
            "grid_template_areas": null,
            "grid_template_columns": null,
            "grid_template_rows": null,
            "height": null,
            "justify_content": null,
            "justify_items": null,
            "left": null,
            "margin": null,
            "max_height": null,
            "max_width": null,
            "min_height": null,
            "min_width": null,
            "object_fit": null,
            "object_position": null,
            "order": null,
            "overflow": null,
            "overflow_x": null,
            "overflow_y": null,
            "padding": null,
            "right": null,
            "top": null,
            "visibility": null,
            "width": null
          }
        },
        "740815dfeacb48718d9f4244d4104e9a": {
          "model_module": "@jupyter-widgets/controls",
          "model_name": "DescriptionStyleModel",
          "model_module_version": "1.5.0",
          "state": {
            "_model_module": "@jupyter-widgets/controls",
            "_model_module_version": "1.5.0",
            "_model_name": "DescriptionStyleModel",
            "_view_count": null,
            "_view_module": "@jupyter-widgets/base",
            "_view_module_version": "1.2.0",
            "_view_name": "StyleView",
            "description_width": ""
          }
        },
        "d2fee8797d384496b7553a7f37d8a384": {
          "model_module": "@jupyter-widgets/controls",
          "model_name": "HBoxModel",
          "model_module_version": "1.5.0",
          "state": {
            "_dom_classes": [],
            "_model_module": "@jupyter-widgets/controls",
            "_model_module_version": "1.5.0",
            "_model_name": "HBoxModel",
            "_view_count": null,
            "_view_module": "@jupyter-widgets/controls",
            "_view_module_version": "1.5.0",
            "_view_name": "HBoxView",
            "box_style": "",
            "children": [
              "IPY_MODEL_6c05b10b3bd54ec6843a40af711980a6",
              "IPY_MODEL_5e65516fb50149d6bf5008ff913c2a8e",
              "IPY_MODEL_fe93e202086f40d1a6488f1609fd0bca"
            ],
            "layout": "IPY_MODEL_0b4e4205be2e4b7a9a856acfd884c0a2"
          }
        },
        "6c05b10b3bd54ec6843a40af711980a6": {
          "model_module": "@jupyter-widgets/controls",
          "model_name": "HTMLModel",
          "model_module_version": "1.5.0",
          "state": {
            "_dom_classes": [],
            "_model_module": "@jupyter-widgets/controls",
            "_model_module_version": "1.5.0",
            "_model_name": "HTMLModel",
            "_view_count": null,
            "_view_module": "@jupyter-widgets/controls",
            "_view_module_version": "1.5.0",
            "_view_name": "HTMLView",
            "description": "",
            "description_tooltip": null,
            "layout": "IPY_MODEL_3812d9b217ac4a748247dd0303b38fbf",
            "placeholder": "​",
            "style": "IPY_MODEL_8d16c94be48b4e1997b739a479d78de7",
            "value": "Downloading data files: 100%"
          }
        },
        "5e65516fb50149d6bf5008ff913c2a8e": {
          "model_module": "@jupyter-widgets/controls",
          "model_name": "FloatProgressModel",
          "model_module_version": "1.5.0",
          "state": {
            "_dom_classes": [],
            "_model_module": "@jupyter-widgets/controls",
            "_model_module_version": "1.5.0",
            "_model_name": "FloatProgressModel",
            "_view_count": null,
            "_view_module": "@jupyter-widgets/controls",
            "_view_module_version": "1.5.0",
            "_view_name": "ProgressView",
            "bar_style": "success",
            "description": "",
            "description_tooltip": null,
            "layout": "IPY_MODEL_132ebf1d07134584b4670688d8cae2ea",
            "max": 1,
            "min": 0,
            "orientation": "horizontal",
            "style": "IPY_MODEL_ac058c2401694158863290da11643886",
            "value": 1
          }
        },
        "fe93e202086f40d1a6488f1609fd0bca": {
          "model_module": "@jupyter-widgets/controls",
          "model_name": "HTMLModel",
          "model_module_version": "1.5.0",
          "state": {
            "_dom_classes": [],
            "_model_module": "@jupyter-widgets/controls",
            "_model_module_version": "1.5.0",
            "_model_name": "HTMLModel",
            "_view_count": null,
            "_view_module": "@jupyter-widgets/controls",
            "_view_module_version": "1.5.0",
            "_view_name": "HTMLView",
            "description": "",
            "description_tooltip": null,
            "layout": "IPY_MODEL_4fc1a56b3ea541febb02caed58a1fa30",
            "placeholder": "​",
            "style": "IPY_MODEL_793832e373244f2ab9809532a0efff87",
            "value": " 1/1 [00:00&lt;00:00, 31.00it/s]"
          }
        },
        "0b4e4205be2e4b7a9a856acfd884c0a2": {
          "model_module": "@jupyter-widgets/base",
          "model_name": "LayoutModel",
          "model_module_version": "1.2.0",
          "state": {
            "_model_module": "@jupyter-widgets/base",
            "_model_module_version": "1.2.0",
            "_model_name": "LayoutModel",
            "_view_count": null,
            "_view_module": "@jupyter-widgets/base",
            "_view_module_version": "1.2.0",
            "_view_name": "LayoutView",
            "align_content": null,
            "align_items": null,
            "align_self": null,
            "border": null,
            "bottom": null,
            "display": null,
            "flex": null,
            "flex_flow": null,
            "grid_area": null,
            "grid_auto_columns": null,
            "grid_auto_flow": null,
            "grid_auto_rows": null,
            "grid_column": null,
            "grid_gap": null,
            "grid_row": null,
            "grid_template_areas": null,
            "grid_template_columns": null,
            "grid_template_rows": null,
            "height": null,
            "justify_content": null,
            "justify_items": null,
            "left": null,
            "margin": null,
            "max_height": null,
            "max_width": null,
            "min_height": null,
            "min_width": null,
            "object_fit": null,
            "object_position": null,
            "order": null,
            "overflow": null,
            "overflow_x": null,
            "overflow_y": null,
            "padding": null,
            "right": null,
            "top": null,
            "visibility": null,
            "width": null
          }
        },
        "3812d9b217ac4a748247dd0303b38fbf": {
          "model_module": "@jupyter-widgets/base",
          "model_name": "LayoutModel",
          "model_module_version": "1.2.0",
          "state": {
            "_model_module": "@jupyter-widgets/base",
            "_model_module_version": "1.2.0",
            "_model_name": "LayoutModel",
            "_view_count": null,
            "_view_module": "@jupyter-widgets/base",
            "_view_module_version": "1.2.0",
            "_view_name": "LayoutView",
            "align_content": null,
            "align_items": null,
            "align_self": null,
            "border": null,
            "bottom": null,
            "display": null,
            "flex": null,
            "flex_flow": null,
            "grid_area": null,
            "grid_auto_columns": null,
            "grid_auto_flow": null,
            "grid_auto_rows": null,
            "grid_column": null,
            "grid_gap": null,
            "grid_row": null,
            "grid_template_areas": null,
            "grid_template_columns": null,
            "grid_template_rows": null,
            "height": null,
            "justify_content": null,
            "justify_items": null,
            "left": null,
            "margin": null,
            "max_height": null,
            "max_width": null,
            "min_height": null,
            "min_width": null,
            "object_fit": null,
            "object_position": null,
            "order": null,
            "overflow": null,
            "overflow_x": null,
            "overflow_y": null,
            "padding": null,
            "right": null,
            "top": null,
            "visibility": null,
            "width": null
          }
        },
        "8d16c94be48b4e1997b739a479d78de7": {
          "model_module": "@jupyter-widgets/controls",
          "model_name": "DescriptionStyleModel",
          "model_module_version": "1.5.0",
          "state": {
            "_model_module": "@jupyter-widgets/controls",
            "_model_module_version": "1.5.0",
            "_model_name": "DescriptionStyleModel",
            "_view_count": null,
            "_view_module": "@jupyter-widgets/base",
            "_view_module_version": "1.2.0",
            "_view_name": "StyleView",
            "description_width": ""
          }
        },
        "132ebf1d07134584b4670688d8cae2ea": {
          "model_module": "@jupyter-widgets/base",
          "model_name": "LayoutModel",
          "model_module_version": "1.2.0",
          "state": {
            "_model_module": "@jupyter-widgets/base",
            "_model_module_version": "1.2.0",
            "_model_name": "LayoutModel",
            "_view_count": null,
            "_view_module": "@jupyter-widgets/base",
            "_view_module_version": "1.2.0",
            "_view_name": "LayoutView",
            "align_content": null,
            "align_items": null,
            "align_self": null,
            "border": null,
            "bottom": null,
            "display": null,
            "flex": null,
            "flex_flow": null,
            "grid_area": null,
            "grid_auto_columns": null,
            "grid_auto_flow": null,
            "grid_auto_rows": null,
            "grid_column": null,
            "grid_gap": null,
            "grid_row": null,
            "grid_template_areas": null,
            "grid_template_columns": null,
            "grid_template_rows": null,
            "height": null,
            "justify_content": null,
            "justify_items": null,
            "left": null,
            "margin": null,
            "max_height": null,
            "max_width": null,
            "min_height": null,
            "min_width": null,
            "object_fit": null,
            "object_position": null,
            "order": null,
            "overflow": null,
            "overflow_x": null,
            "overflow_y": null,
            "padding": null,
            "right": null,
            "top": null,
            "visibility": null,
            "width": null
          }
        },
        "ac058c2401694158863290da11643886": {
          "model_module": "@jupyter-widgets/controls",
          "model_name": "ProgressStyleModel",
          "model_module_version": "1.5.0",
          "state": {
            "_model_module": "@jupyter-widgets/controls",
            "_model_module_version": "1.5.0",
            "_model_name": "ProgressStyleModel",
            "_view_count": null,
            "_view_module": "@jupyter-widgets/base",
            "_view_module_version": "1.2.0",
            "_view_name": "StyleView",
            "bar_color": null,
            "description_width": ""
          }
        },
        "4fc1a56b3ea541febb02caed58a1fa30": {
          "model_module": "@jupyter-widgets/base",
          "model_name": "LayoutModel",
          "model_module_version": "1.2.0",
          "state": {
            "_model_module": "@jupyter-widgets/base",
            "_model_module_version": "1.2.0",
            "_model_name": "LayoutModel",
            "_view_count": null,
            "_view_module": "@jupyter-widgets/base",
            "_view_module_version": "1.2.0",
            "_view_name": "LayoutView",
            "align_content": null,
            "align_items": null,
            "align_self": null,
            "border": null,
            "bottom": null,
            "display": null,
            "flex": null,
            "flex_flow": null,
            "grid_area": null,
            "grid_auto_columns": null,
            "grid_auto_flow": null,
            "grid_auto_rows": null,
            "grid_column": null,
            "grid_gap": null,
            "grid_row": null,
            "grid_template_areas": null,
            "grid_template_columns": null,
            "grid_template_rows": null,
            "height": null,
            "justify_content": null,
            "justify_items": null,
            "left": null,
            "margin": null,
            "max_height": null,
            "max_width": null,
            "min_height": null,
            "min_width": null,
            "object_fit": null,
            "object_position": null,
            "order": null,
            "overflow": null,
            "overflow_x": null,
            "overflow_y": null,
            "padding": null,
            "right": null,
            "top": null,
            "visibility": null,
            "width": null
          }
        },
        "793832e373244f2ab9809532a0efff87": {
          "model_module": "@jupyter-widgets/controls",
          "model_name": "DescriptionStyleModel",
          "model_module_version": "1.5.0",
          "state": {
            "_model_module": "@jupyter-widgets/controls",
            "_model_module_version": "1.5.0",
            "_model_name": "DescriptionStyleModel",
            "_view_count": null,
            "_view_module": "@jupyter-widgets/base",
            "_view_module_version": "1.2.0",
            "_view_name": "StyleView",
            "description_width": ""
          }
        },
        "f6b5f73d720f42e0bbff20397484cae3": {
          "model_module": "@jupyter-widgets/controls",
          "model_name": "HBoxModel",
          "model_module_version": "1.5.0",
          "state": {
            "_dom_classes": [],
            "_model_module": "@jupyter-widgets/controls",
            "_model_module_version": "1.5.0",
            "_model_name": "HBoxModel",
            "_view_count": null,
            "_view_module": "@jupyter-widgets/controls",
            "_view_module_version": "1.5.0",
            "_view_name": "HBoxView",
            "box_style": "",
            "children": [
              "IPY_MODEL_229ed48593684ba3bee2e2fff1763d49",
              "IPY_MODEL_55184065361c47f5b3889dbd1149d158",
              "IPY_MODEL_f8ee64cef5f74f0ba8ac058f5db7db7c"
            ],
            "layout": "IPY_MODEL_93a139bc82614339a3d5303e44cfb4d6"
          }
        },
        "229ed48593684ba3bee2e2fff1763d49": {
          "model_module": "@jupyter-widgets/controls",
          "model_name": "HTMLModel",
          "model_module_version": "1.5.0",
          "state": {
            "_dom_classes": [],
            "_model_module": "@jupyter-widgets/controls",
            "_model_module_version": "1.5.0",
            "_model_name": "HTMLModel",
            "_view_count": null,
            "_view_module": "@jupyter-widgets/controls",
            "_view_module_version": "1.5.0",
            "_view_name": "HTMLView",
            "description": "",
            "description_tooltip": null,
            "layout": "IPY_MODEL_5378887c48484f5ea03de350c81e2c5d",
            "placeholder": "​",
            "style": "IPY_MODEL_dde112663c474be4bcf133905a54a306",
            "value": "Extracting data files: 100%"
          }
        },
        "55184065361c47f5b3889dbd1149d158": {
          "model_module": "@jupyter-widgets/controls",
          "model_name": "FloatProgressModel",
          "model_module_version": "1.5.0",
          "state": {
            "_dom_classes": [],
            "_model_module": "@jupyter-widgets/controls",
            "_model_module_version": "1.5.0",
            "_model_name": "FloatProgressModel",
            "_view_count": null,
            "_view_module": "@jupyter-widgets/controls",
            "_view_module_version": "1.5.0",
            "_view_name": "ProgressView",
            "bar_style": "success",
            "description": "",
            "description_tooltip": null,
            "layout": "IPY_MODEL_612c3975b88f4fb59502182ccd9325c9",
            "max": 1,
            "min": 0,
            "orientation": "horizontal",
            "style": "IPY_MODEL_58d869a646b54683a128288cca93018b",
            "value": 1
          }
        },
        "f8ee64cef5f74f0ba8ac058f5db7db7c": {
          "model_module": "@jupyter-widgets/controls",
          "model_name": "HTMLModel",
          "model_module_version": "1.5.0",
          "state": {
            "_dom_classes": [],
            "_model_module": "@jupyter-widgets/controls",
            "_model_module_version": "1.5.0",
            "_model_name": "HTMLModel",
            "_view_count": null,
            "_view_module": "@jupyter-widgets/controls",
            "_view_module_version": "1.5.0",
            "_view_name": "HTMLView",
            "description": "",
            "description_tooltip": null,
            "layout": "IPY_MODEL_ddbcde74202c4d56881692d454aca86a",
            "placeholder": "​",
            "style": "IPY_MODEL_f378f3fda04f4294ab4029fd494f9036",
            "value": " 1/1 [00:00&lt;00:00, 22.24it/s]"
          }
        },
        "93a139bc82614339a3d5303e44cfb4d6": {
          "model_module": "@jupyter-widgets/base",
          "model_name": "LayoutModel",
          "model_module_version": "1.2.0",
          "state": {
            "_model_module": "@jupyter-widgets/base",
            "_model_module_version": "1.2.0",
            "_model_name": "LayoutModel",
            "_view_count": null,
            "_view_module": "@jupyter-widgets/base",
            "_view_module_version": "1.2.0",
            "_view_name": "LayoutView",
            "align_content": null,
            "align_items": null,
            "align_self": null,
            "border": null,
            "bottom": null,
            "display": null,
            "flex": null,
            "flex_flow": null,
            "grid_area": null,
            "grid_auto_columns": null,
            "grid_auto_flow": null,
            "grid_auto_rows": null,
            "grid_column": null,
            "grid_gap": null,
            "grid_row": null,
            "grid_template_areas": null,
            "grid_template_columns": null,
            "grid_template_rows": null,
            "height": null,
            "justify_content": null,
            "justify_items": null,
            "left": null,
            "margin": null,
            "max_height": null,
            "max_width": null,
            "min_height": null,
            "min_width": null,
            "object_fit": null,
            "object_position": null,
            "order": null,
            "overflow": null,
            "overflow_x": null,
            "overflow_y": null,
            "padding": null,
            "right": null,
            "top": null,
            "visibility": null,
            "width": null
          }
        },
        "5378887c48484f5ea03de350c81e2c5d": {
          "model_module": "@jupyter-widgets/base",
          "model_name": "LayoutModel",
          "model_module_version": "1.2.0",
          "state": {
            "_model_module": "@jupyter-widgets/base",
            "_model_module_version": "1.2.0",
            "_model_name": "LayoutModel",
            "_view_count": null,
            "_view_module": "@jupyter-widgets/base",
            "_view_module_version": "1.2.0",
            "_view_name": "LayoutView",
            "align_content": null,
            "align_items": null,
            "align_self": null,
            "border": null,
            "bottom": null,
            "display": null,
            "flex": null,
            "flex_flow": null,
            "grid_area": null,
            "grid_auto_columns": null,
            "grid_auto_flow": null,
            "grid_auto_rows": null,
            "grid_column": null,
            "grid_gap": null,
            "grid_row": null,
            "grid_template_areas": null,
            "grid_template_columns": null,
            "grid_template_rows": null,
            "height": null,
            "justify_content": null,
            "justify_items": null,
            "left": null,
            "margin": null,
            "max_height": null,
            "max_width": null,
            "min_height": null,
            "min_width": null,
            "object_fit": null,
            "object_position": null,
            "order": null,
            "overflow": null,
            "overflow_x": null,
            "overflow_y": null,
            "padding": null,
            "right": null,
            "top": null,
            "visibility": null,
            "width": null
          }
        },
        "dde112663c474be4bcf133905a54a306": {
          "model_module": "@jupyter-widgets/controls",
          "model_name": "DescriptionStyleModel",
          "model_module_version": "1.5.0",
          "state": {
            "_model_module": "@jupyter-widgets/controls",
            "_model_module_version": "1.5.0",
            "_model_name": "DescriptionStyleModel",
            "_view_count": null,
            "_view_module": "@jupyter-widgets/base",
            "_view_module_version": "1.2.0",
            "_view_name": "StyleView",
            "description_width": ""
          }
        },
        "612c3975b88f4fb59502182ccd9325c9": {
          "model_module": "@jupyter-widgets/base",
          "model_name": "LayoutModel",
          "model_module_version": "1.2.0",
          "state": {
            "_model_module": "@jupyter-widgets/base",
            "_model_module_version": "1.2.0",
            "_model_name": "LayoutModel",
            "_view_count": null,
            "_view_module": "@jupyter-widgets/base",
            "_view_module_version": "1.2.0",
            "_view_name": "LayoutView",
            "align_content": null,
            "align_items": null,
            "align_self": null,
            "border": null,
            "bottom": null,
            "display": null,
            "flex": null,
            "flex_flow": null,
            "grid_area": null,
            "grid_auto_columns": null,
            "grid_auto_flow": null,
            "grid_auto_rows": null,
            "grid_column": null,
            "grid_gap": null,
            "grid_row": null,
            "grid_template_areas": null,
            "grid_template_columns": null,
            "grid_template_rows": null,
            "height": null,
            "justify_content": null,
            "justify_items": null,
            "left": null,
            "margin": null,
            "max_height": null,
            "max_width": null,
            "min_height": null,
            "min_width": null,
            "object_fit": null,
            "object_position": null,
            "order": null,
            "overflow": null,
            "overflow_x": null,
            "overflow_y": null,
            "padding": null,
            "right": null,
            "top": null,
            "visibility": null,
            "width": null
          }
        },
        "58d869a646b54683a128288cca93018b": {
          "model_module": "@jupyter-widgets/controls",
          "model_name": "ProgressStyleModel",
          "model_module_version": "1.5.0",
          "state": {
            "_model_module": "@jupyter-widgets/controls",
            "_model_module_version": "1.5.0",
            "_model_name": "ProgressStyleModel",
            "_view_count": null,
            "_view_module": "@jupyter-widgets/base",
            "_view_module_version": "1.2.0",
            "_view_name": "StyleView",
            "bar_color": null,
            "description_width": ""
          }
        },
        "ddbcde74202c4d56881692d454aca86a": {
          "model_module": "@jupyter-widgets/base",
          "model_name": "LayoutModel",
          "model_module_version": "1.2.0",
          "state": {
            "_model_module": "@jupyter-widgets/base",
            "_model_module_version": "1.2.0",
            "_model_name": "LayoutModel",
            "_view_count": null,
            "_view_module": "@jupyter-widgets/base",
            "_view_module_version": "1.2.0",
            "_view_name": "LayoutView",
            "align_content": null,
            "align_items": null,
            "align_self": null,
            "border": null,
            "bottom": null,
            "display": null,
            "flex": null,
            "flex_flow": null,
            "grid_area": null,
            "grid_auto_columns": null,
            "grid_auto_flow": null,
            "grid_auto_rows": null,
            "grid_column": null,
            "grid_gap": null,
            "grid_row": null,
            "grid_template_areas": null,
            "grid_template_columns": null,
            "grid_template_rows": null,
            "height": null,
            "justify_content": null,
            "justify_items": null,
            "left": null,
            "margin": null,
            "max_height": null,
            "max_width": null,
            "min_height": null,
            "min_width": null,
            "object_fit": null,
            "object_position": null,
            "order": null,
            "overflow": null,
            "overflow_x": null,
            "overflow_y": null,
            "padding": null,
            "right": null,
            "top": null,
            "visibility": null,
            "width": null
          }
        },
        "f378f3fda04f4294ab4029fd494f9036": {
          "model_module": "@jupyter-widgets/controls",
          "model_name": "DescriptionStyleModel",
          "model_module_version": "1.5.0",
          "state": {
            "_model_module": "@jupyter-widgets/controls",
            "_model_module_version": "1.5.0",
            "_model_name": "DescriptionStyleModel",
            "_view_count": null,
            "_view_module": "@jupyter-widgets/base",
            "_view_module_version": "1.2.0",
            "_view_name": "StyleView",
            "description_width": ""
          }
        },
        "8db17c8b3cb74816ab0adee005212a54": {
          "model_module": "@jupyter-widgets/controls",
          "model_name": "HBoxModel",
          "model_module_version": "1.5.0",
          "state": {
            "_dom_classes": [],
            "_model_module": "@jupyter-widgets/controls",
            "_model_module_version": "1.5.0",
            "_model_name": "HBoxModel",
            "_view_count": null,
            "_view_module": "@jupyter-widgets/controls",
            "_view_module_version": "1.5.0",
            "_view_name": "HBoxView",
            "box_style": "",
            "children": [
              "IPY_MODEL_26463252a6d14ac99120132f3424b921",
              "IPY_MODEL_a01724b1aaa94b40beaa5863e96bfa21",
              "IPY_MODEL_1c918763e0064ac29eb6973620a5c50f"
            ],
            "layout": "IPY_MODEL_17684fe39b064d2496cfbab209b8abc8"
          }
        },
        "26463252a6d14ac99120132f3424b921": {
          "model_module": "@jupyter-widgets/controls",
          "model_name": "HTMLModel",
          "model_module_version": "1.5.0",
          "state": {
            "_dom_classes": [],
            "_model_module": "@jupyter-widgets/controls",
            "_model_module_version": "1.5.0",
            "_model_name": "HTMLModel",
            "_view_count": null,
            "_view_module": "@jupyter-widgets/controls",
            "_view_module_version": "1.5.0",
            "_view_name": "HTMLView",
            "description": "",
            "description_tooltip": null,
            "layout": "IPY_MODEL_7fb719c48a0a4028b802f8201a43aaac",
            "placeholder": "​",
            "style": "IPY_MODEL_7394ec9f5b97414892cc61aef51bf616",
            "value": "Generating train split: "
          }
        },
        "a01724b1aaa94b40beaa5863e96bfa21": {
          "model_module": "@jupyter-widgets/controls",
          "model_name": "FloatProgressModel",
          "model_module_version": "1.5.0",
          "state": {
            "_dom_classes": [],
            "_model_module": "@jupyter-widgets/controls",
            "_model_module_version": "1.5.0",
            "_model_name": "FloatProgressModel",
            "_view_count": null,
            "_view_module": "@jupyter-widgets/controls",
            "_view_module_version": "1.5.0",
            "_view_name": "ProgressView",
            "bar_style": "info",
            "description": "",
            "description_tooltip": null,
            "layout": "IPY_MODEL_b606861901e9465685bb60ff9f11432b",
            "max": 1,
            "min": 0,
            "orientation": "horizontal",
            "style": "IPY_MODEL_5591d318abcc478c8787ed99f7f4bc51",
            "value": 0
          }
        },
        "1c918763e0064ac29eb6973620a5c50f": {
          "model_module": "@jupyter-widgets/controls",
          "model_name": "HTMLModel",
          "model_module_version": "1.5.0",
          "state": {
            "_dom_classes": [],
            "_model_module": "@jupyter-widgets/controls",
            "_model_module_version": "1.5.0",
            "_model_name": "HTMLModel",
            "_view_count": null,
            "_view_module": "@jupyter-widgets/controls",
            "_view_module_version": "1.5.0",
            "_view_name": "HTMLView",
            "description": "",
            "description_tooltip": null,
            "layout": "IPY_MODEL_27fe9963d8054c828e58457efb01879f",
            "placeholder": "​",
            "style": "IPY_MODEL_4824211b4b8049a7a59b5f5aff6242e3",
            "value": " 0/0 [00:00&lt;?, ? examples/s]"
          }
        },
        "17684fe39b064d2496cfbab209b8abc8": {
          "model_module": "@jupyter-widgets/base",
          "model_name": "LayoutModel",
          "model_module_version": "1.2.0",
          "state": {
            "_model_module": "@jupyter-widgets/base",
            "_model_module_version": "1.2.0",
            "_model_name": "LayoutModel",
            "_view_count": null,
            "_view_module": "@jupyter-widgets/base",
            "_view_module_version": "1.2.0",
            "_view_name": "LayoutView",
            "align_content": null,
            "align_items": null,
            "align_self": null,
            "border": null,
            "bottom": null,
            "display": null,
            "flex": null,
            "flex_flow": null,
            "grid_area": null,
            "grid_auto_columns": null,
            "grid_auto_flow": null,
            "grid_auto_rows": null,
            "grid_column": null,
            "grid_gap": null,
            "grid_row": null,
            "grid_template_areas": null,
            "grid_template_columns": null,
            "grid_template_rows": null,
            "height": null,
            "justify_content": null,
            "justify_items": null,
            "left": null,
            "margin": null,
            "max_height": null,
            "max_width": null,
            "min_height": null,
            "min_width": null,
            "object_fit": null,
            "object_position": null,
            "order": null,
            "overflow": null,
            "overflow_x": null,
            "overflow_y": null,
            "padding": null,
            "right": null,
            "top": null,
            "visibility": null,
            "width": null
          }
        },
        "7fb719c48a0a4028b802f8201a43aaac": {
          "model_module": "@jupyter-widgets/base",
          "model_name": "LayoutModel",
          "model_module_version": "1.2.0",
          "state": {
            "_model_module": "@jupyter-widgets/base",
            "_model_module_version": "1.2.0",
            "_model_name": "LayoutModel",
            "_view_count": null,
            "_view_module": "@jupyter-widgets/base",
            "_view_module_version": "1.2.0",
            "_view_name": "LayoutView",
            "align_content": null,
            "align_items": null,
            "align_self": null,
            "border": null,
            "bottom": null,
            "display": null,
            "flex": null,
            "flex_flow": null,
            "grid_area": null,
            "grid_auto_columns": null,
            "grid_auto_flow": null,
            "grid_auto_rows": null,
            "grid_column": null,
            "grid_gap": null,
            "grid_row": null,
            "grid_template_areas": null,
            "grid_template_columns": null,
            "grid_template_rows": null,
            "height": null,
            "justify_content": null,
            "justify_items": null,
            "left": null,
            "margin": null,
            "max_height": null,
            "max_width": null,
            "min_height": null,
            "min_width": null,
            "object_fit": null,
            "object_position": null,
            "order": null,
            "overflow": null,
            "overflow_x": null,
            "overflow_y": null,
            "padding": null,
            "right": null,
            "top": null,
            "visibility": null,
            "width": null
          }
        },
        "7394ec9f5b97414892cc61aef51bf616": {
          "model_module": "@jupyter-widgets/controls",
          "model_name": "DescriptionStyleModel",
          "model_module_version": "1.5.0",
          "state": {
            "_model_module": "@jupyter-widgets/controls",
            "_model_module_version": "1.5.0",
            "_model_name": "DescriptionStyleModel",
            "_view_count": null,
            "_view_module": "@jupyter-widgets/base",
            "_view_module_version": "1.2.0",
            "_view_name": "StyleView",
            "description_width": ""
          }
        },
        "b606861901e9465685bb60ff9f11432b": {
          "model_module": "@jupyter-widgets/base",
          "model_name": "LayoutModel",
          "model_module_version": "1.2.0",
          "state": {
            "_model_module": "@jupyter-widgets/base",
            "_model_module_version": "1.2.0",
            "_model_name": "LayoutModel",
            "_view_count": null,
            "_view_module": "@jupyter-widgets/base",
            "_view_module_version": "1.2.0",
            "_view_name": "LayoutView",
            "align_content": null,
            "align_items": null,
            "align_self": null,
            "border": null,
            "bottom": null,
            "display": null,
            "flex": null,
            "flex_flow": null,
            "grid_area": null,
            "grid_auto_columns": null,
            "grid_auto_flow": null,
            "grid_auto_rows": null,
            "grid_column": null,
            "grid_gap": null,
            "grid_row": null,
            "grid_template_areas": null,
            "grid_template_columns": null,
            "grid_template_rows": null,
            "height": null,
            "justify_content": null,
            "justify_items": null,
            "left": null,
            "margin": null,
            "max_height": null,
            "max_width": null,
            "min_height": null,
            "min_width": null,
            "object_fit": null,
            "object_position": null,
            "order": null,
            "overflow": null,
            "overflow_x": null,
            "overflow_y": null,
            "padding": null,
            "right": null,
            "top": null,
            "visibility": null,
            "width": "20px"
          }
        },
        "5591d318abcc478c8787ed99f7f4bc51": {
          "model_module": "@jupyter-widgets/controls",
          "model_name": "ProgressStyleModel",
          "model_module_version": "1.5.0",
          "state": {
            "_model_module": "@jupyter-widgets/controls",
            "_model_module_version": "1.5.0",
            "_model_name": "ProgressStyleModel",
            "_view_count": null,
            "_view_module": "@jupyter-widgets/base",
            "_view_module_version": "1.2.0",
            "_view_name": "StyleView",
            "bar_color": null,
            "description_width": ""
          }
        },
        "27fe9963d8054c828e58457efb01879f": {
          "model_module": "@jupyter-widgets/base",
          "model_name": "LayoutModel",
          "model_module_version": "1.2.0",
          "state": {
            "_model_module": "@jupyter-widgets/base",
            "_model_module_version": "1.2.0",
            "_model_name": "LayoutModel",
            "_view_count": null,
            "_view_module": "@jupyter-widgets/base",
            "_view_module_version": "1.2.0",
            "_view_name": "LayoutView",
            "align_content": null,
            "align_items": null,
            "align_self": null,
            "border": null,
            "bottom": null,
            "display": null,
            "flex": null,
            "flex_flow": null,
            "grid_area": null,
            "grid_auto_columns": null,
            "grid_auto_flow": null,
            "grid_auto_rows": null,
            "grid_column": null,
            "grid_gap": null,
            "grid_row": null,
            "grid_template_areas": null,
            "grid_template_columns": null,
            "grid_template_rows": null,
            "height": null,
            "justify_content": null,
            "justify_items": null,
            "left": null,
            "margin": null,
            "max_height": null,
            "max_width": null,
            "min_height": null,
            "min_width": null,
            "object_fit": null,
            "object_position": null,
            "order": null,
            "overflow": null,
            "overflow_x": null,
            "overflow_y": null,
            "padding": null,
            "right": null,
            "top": null,
            "visibility": null,
            "width": null
          }
        },
        "4824211b4b8049a7a59b5f5aff6242e3": {
          "model_module": "@jupyter-widgets/controls",
          "model_name": "DescriptionStyleModel",
          "model_module_version": "1.5.0",
          "state": {
            "_model_module": "@jupyter-widgets/controls",
            "_model_module_version": "1.5.0",
            "_model_name": "DescriptionStyleModel",
            "_view_count": null,
            "_view_module": "@jupyter-widgets/base",
            "_view_module_version": "1.2.0",
            "_view_name": "StyleView",
            "description_width": ""
          }
        },
        "4c093ed84abe46d7b0bbad679b710f57": {
          "model_module": "@jupyter-widgets/controls",
          "model_name": "HBoxModel",
          "model_module_version": "1.5.0",
          "state": {
            "_dom_classes": [],
            "_model_module": "@jupyter-widgets/controls",
            "_model_module_version": "1.5.0",
            "_model_name": "HBoxModel",
            "_view_count": null,
            "_view_module": "@jupyter-widgets/controls",
            "_view_module_version": "1.5.0",
            "_view_name": "HBoxView",
            "box_style": "",
            "children": [
              "IPY_MODEL_eb136572953f49629678b1cf362da51c",
              "IPY_MODEL_cd17d9be3eef4d1bbafebcca2be77599",
              "IPY_MODEL_61b8c53dc0f94bbb9b88d54583eb1b7c"
            ],
            "layout": "IPY_MODEL_d219899daf4c407e8485f475c105c7c7"
          }
        },
        "eb136572953f49629678b1cf362da51c": {
          "model_module": "@jupyter-widgets/controls",
          "model_name": "HTMLModel",
          "model_module_version": "1.5.0",
          "state": {
            "_dom_classes": [],
            "_model_module": "@jupyter-widgets/controls",
            "_model_module_version": "1.5.0",
            "_model_name": "HTMLModel",
            "_view_count": null,
            "_view_module": "@jupyter-widgets/controls",
            "_view_module_version": "1.5.0",
            "_view_name": "HTMLView",
            "description": "",
            "description_tooltip": null,
            "layout": "IPY_MODEL_5b1bdd76c41647aeb4843d7505d76e52",
            "placeholder": "​",
            "style": "IPY_MODEL_e5e20bffa4394cf1acf353da4c3fcef0",
            "value": "100%"
          }
        },
        "cd17d9be3eef4d1bbafebcca2be77599": {
          "model_module": "@jupyter-widgets/controls",
          "model_name": "FloatProgressModel",
          "model_module_version": "1.5.0",
          "state": {
            "_dom_classes": [],
            "_model_module": "@jupyter-widgets/controls",
            "_model_module_version": "1.5.0",
            "_model_name": "FloatProgressModel",
            "_view_count": null,
            "_view_module": "@jupyter-widgets/controls",
            "_view_module_version": "1.5.0",
            "_view_name": "ProgressView",
            "bar_style": "success",
            "description": "",
            "description_tooltip": null,
            "layout": "IPY_MODEL_44236afb48354288a76d170b24b7fce4",
            "max": 1,
            "min": 0,
            "orientation": "horizontal",
            "style": "IPY_MODEL_93046b750a4844e88f5d6ced70cc86f8",
            "value": 1
          }
        },
        "61b8c53dc0f94bbb9b88d54583eb1b7c": {
          "model_module": "@jupyter-widgets/controls",
          "model_name": "HTMLModel",
          "model_module_version": "1.5.0",
          "state": {
            "_dom_classes": [],
            "_model_module": "@jupyter-widgets/controls",
            "_model_module_version": "1.5.0",
            "_model_name": "HTMLModel",
            "_view_count": null,
            "_view_module": "@jupyter-widgets/controls",
            "_view_module_version": "1.5.0",
            "_view_name": "HTMLView",
            "description": "",
            "description_tooltip": null,
            "layout": "IPY_MODEL_83fe88a6886547008c864656be0a661b",
            "placeholder": "​",
            "style": "IPY_MODEL_3e3c6555d78f4aa9b516251ad7843773",
            "value": " 1/1 [00:00&lt;00:00, 23.85it/s]"
          }
        },
        "d219899daf4c407e8485f475c105c7c7": {
          "model_module": "@jupyter-widgets/base",
          "model_name": "LayoutModel",
          "model_module_version": "1.2.0",
          "state": {
            "_model_module": "@jupyter-widgets/base",
            "_model_module_version": "1.2.0",
            "_model_name": "LayoutModel",
            "_view_count": null,
            "_view_module": "@jupyter-widgets/base",
            "_view_module_version": "1.2.0",
            "_view_name": "LayoutView",
            "align_content": null,
            "align_items": null,
            "align_self": null,
            "border": null,
            "bottom": null,
            "display": null,
            "flex": null,
            "flex_flow": null,
            "grid_area": null,
            "grid_auto_columns": null,
            "grid_auto_flow": null,
            "grid_auto_rows": null,
            "grid_column": null,
            "grid_gap": null,
            "grid_row": null,
            "grid_template_areas": null,
            "grid_template_columns": null,
            "grid_template_rows": null,
            "height": null,
            "justify_content": null,
            "justify_items": null,
            "left": null,
            "margin": null,
            "max_height": null,
            "max_width": null,
            "min_height": null,
            "min_width": null,
            "object_fit": null,
            "object_position": null,
            "order": null,
            "overflow": null,
            "overflow_x": null,
            "overflow_y": null,
            "padding": null,
            "right": null,
            "top": null,
            "visibility": null,
            "width": null
          }
        },
        "5b1bdd76c41647aeb4843d7505d76e52": {
          "model_module": "@jupyter-widgets/base",
          "model_name": "LayoutModel",
          "model_module_version": "1.2.0",
          "state": {
            "_model_module": "@jupyter-widgets/base",
            "_model_module_version": "1.2.0",
            "_model_name": "LayoutModel",
            "_view_count": null,
            "_view_module": "@jupyter-widgets/base",
            "_view_module_version": "1.2.0",
            "_view_name": "LayoutView",
            "align_content": null,
            "align_items": null,
            "align_self": null,
            "border": null,
            "bottom": null,
            "display": null,
            "flex": null,
            "flex_flow": null,
            "grid_area": null,
            "grid_auto_columns": null,
            "grid_auto_flow": null,
            "grid_auto_rows": null,
            "grid_column": null,
            "grid_gap": null,
            "grid_row": null,
            "grid_template_areas": null,
            "grid_template_columns": null,
            "grid_template_rows": null,
            "height": null,
            "justify_content": null,
            "justify_items": null,
            "left": null,
            "margin": null,
            "max_height": null,
            "max_width": null,
            "min_height": null,
            "min_width": null,
            "object_fit": null,
            "object_position": null,
            "order": null,
            "overflow": null,
            "overflow_x": null,
            "overflow_y": null,
            "padding": null,
            "right": null,
            "top": null,
            "visibility": null,
            "width": null
          }
        },
        "e5e20bffa4394cf1acf353da4c3fcef0": {
          "model_module": "@jupyter-widgets/controls",
          "model_name": "DescriptionStyleModel",
          "model_module_version": "1.5.0",
          "state": {
            "_model_module": "@jupyter-widgets/controls",
            "_model_module_version": "1.5.0",
            "_model_name": "DescriptionStyleModel",
            "_view_count": null,
            "_view_module": "@jupyter-widgets/base",
            "_view_module_version": "1.2.0",
            "_view_name": "StyleView",
            "description_width": ""
          }
        },
        "44236afb48354288a76d170b24b7fce4": {
          "model_module": "@jupyter-widgets/base",
          "model_name": "LayoutModel",
          "model_module_version": "1.2.0",
          "state": {
            "_model_module": "@jupyter-widgets/base",
            "_model_module_version": "1.2.0",
            "_model_name": "LayoutModel",
            "_view_count": null,
            "_view_module": "@jupyter-widgets/base",
            "_view_module_version": "1.2.0",
            "_view_name": "LayoutView",
            "align_content": null,
            "align_items": null,
            "align_self": null,
            "border": null,
            "bottom": null,
            "display": null,
            "flex": null,
            "flex_flow": null,
            "grid_area": null,
            "grid_auto_columns": null,
            "grid_auto_flow": null,
            "grid_auto_rows": null,
            "grid_column": null,
            "grid_gap": null,
            "grid_row": null,
            "grid_template_areas": null,
            "grid_template_columns": null,
            "grid_template_rows": null,
            "height": null,
            "justify_content": null,
            "justify_items": null,
            "left": null,
            "margin": null,
            "max_height": null,
            "max_width": null,
            "min_height": null,
            "min_width": null,
            "object_fit": null,
            "object_position": null,
            "order": null,
            "overflow": null,
            "overflow_x": null,
            "overflow_y": null,
            "padding": null,
            "right": null,
            "top": null,
            "visibility": null,
            "width": null
          }
        },
        "93046b750a4844e88f5d6ced70cc86f8": {
          "model_module": "@jupyter-widgets/controls",
          "model_name": "ProgressStyleModel",
          "model_module_version": "1.5.0",
          "state": {
            "_model_module": "@jupyter-widgets/controls",
            "_model_module_version": "1.5.0",
            "_model_name": "ProgressStyleModel",
            "_view_count": null,
            "_view_module": "@jupyter-widgets/base",
            "_view_module_version": "1.2.0",
            "_view_name": "StyleView",
            "bar_color": null,
            "description_width": ""
          }
        },
        "83fe88a6886547008c864656be0a661b": {
          "model_module": "@jupyter-widgets/base",
          "model_name": "LayoutModel",
          "model_module_version": "1.2.0",
          "state": {
            "_model_module": "@jupyter-widgets/base",
            "_model_module_version": "1.2.0",
            "_model_name": "LayoutModel",
            "_view_count": null,
            "_view_module": "@jupyter-widgets/base",
            "_view_module_version": "1.2.0",
            "_view_name": "LayoutView",
            "align_content": null,
            "align_items": null,
            "align_self": null,
            "border": null,
            "bottom": null,
            "display": null,
            "flex": null,
            "flex_flow": null,
            "grid_area": null,
            "grid_auto_columns": null,
            "grid_auto_flow": null,
            "grid_auto_rows": null,
            "grid_column": null,
            "grid_gap": null,
            "grid_row": null,
            "grid_template_areas": null,
            "grid_template_columns": null,
            "grid_template_rows": null,
            "height": null,
            "justify_content": null,
            "justify_items": null,
            "left": null,
            "margin": null,
            "max_height": null,
            "max_width": null,
            "min_height": null,
            "min_width": null,
            "object_fit": null,
            "object_position": null,
            "order": null,
            "overflow": null,
            "overflow_x": null,
            "overflow_y": null,
            "padding": null,
            "right": null,
            "top": null,
            "visibility": null,
            "width": null
          }
        },
        "3e3c6555d78f4aa9b516251ad7843773": {
          "model_module": "@jupyter-widgets/controls",
          "model_name": "DescriptionStyleModel",
          "model_module_version": "1.5.0",
          "state": {
            "_model_module": "@jupyter-widgets/controls",
            "_model_module_version": "1.5.0",
            "_model_name": "DescriptionStyleModel",
            "_view_count": null,
            "_view_module": "@jupyter-widgets/base",
            "_view_module_version": "1.2.0",
            "_view_name": "StyleView",
            "description_width": ""
          }
        },
        "94a49e857d53425c8225dfba2bf2ae3e": {
          "model_module": "@jupyter-widgets/controls",
          "model_name": "HBoxModel",
          "model_module_version": "1.5.0",
          "state": {
            "_dom_classes": [],
            "_model_module": "@jupyter-widgets/controls",
            "_model_module_version": "1.5.0",
            "_model_name": "HBoxModel",
            "_view_count": null,
            "_view_module": "@jupyter-widgets/controls",
            "_view_module_version": "1.5.0",
            "_view_name": "HBoxView",
            "box_style": "",
            "children": [
              "IPY_MODEL_6da10e824cee4d3bb3c2439a8ca2f556",
              "IPY_MODEL_9eddce11e4ff495f9e162e68fcd5717b",
              "IPY_MODEL_f607b17f3447499c9203b5f63188408e"
            ],
            "layout": "IPY_MODEL_44fb3bf8766448289d4ac6ee2df36698"
          }
        },
        "6da10e824cee4d3bb3c2439a8ca2f556": {
          "model_module": "@jupyter-widgets/controls",
          "model_name": "HTMLModel",
          "model_module_version": "1.5.0",
          "state": {
            "_dom_classes": [],
            "_model_module": "@jupyter-widgets/controls",
            "_model_module_version": "1.5.0",
            "_model_name": "HTMLModel",
            "_view_count": null,
            "_view_module": "@jupyter-widgets/controls",
            "_view_module_version": "1.5.0",
            "_view_name": "HTMLView",
            "description": "",
            "description_tooltip": null,
            "layout": "IPY_MODEL_6c5e375ba48042a48129b79c9943fee9",
            "placeholder": "​",
            "style": "IPY_MODEL_c638742b83594accade9d8a385104dc9",
            "value": "100%"
          }
        },
        "9eddce11e4ff495f9e162e68fcd5717b": {
          "model_module": "@jupyter-widgets/controls",
          "model_name": "FloatProgressModel",
          "model_module_version": "1.5.0",
          "state": {
            "_dom_classes": [],
            "_model_module": "@jupyter-widgets/controls",
            "_model_module_version": "1.5.0",
            "_model_name": "FloatProgressModel",
            "_view_count": null,
            "_view_module": "@jupyter-widgets/controls",
            "_view_module_version": "1.5.0",
            "_view_name": "ProgressView",
            "bar_style": "success",
            "description": "",
            "description_tooltip": null,
            "layout": "IPY_MODEL_b5935f68a9d5419da85bd122b09dfed8",
            "max": 1,
            "min": 0,
            "orientation": "horizontal",
            "style": "IPY_MODEL_4504ae63b5f84def873110356956f525",
            "value": 1
          }
        },
        "f607b17f3447499c9203b5f63188408e": {
          "model_module": "@jupyter-widgets/controls",
          "model_name": "HTMLModel",
          "model_module_version": "1.5.0",
          "state": {
            "_dom_classes": [],
            "_model_module": "@jupyter-widgets/controls",
            "_model_module_version": "1.5.0",
            "_model_name": "HTMLModel",
            "_view_count": null,
            "_view_module": "@jupyter-widgets/controls",
            "_view_module_version": "1.5.0",
            "_view_name": "HTMLView",
            "description": "",
            "description_tooltip": null,
            "layout": "IPY_MODEL_5a2ff1c203b146d98867eb6d69cb618e",
            "placeholder": "​",
            "style": "IPY_MODEL_d1247a8c8f2244be824209aa7bd5e14b",
            "value": " 1/1 [00:00&lt;00:00, 21.54ba/s]"
          }
        },
        "44fb3bf8766448289d4ac6ee2df36698": {
          "model_module": "@jupyter-widgets/base",
          "model_name": "LayoutModel",
          "model_module_version": "1.2.0",
          "state": {
            "_model_module": "@jupyter-widgets/base",
            "_model_module_version": "1.2.0",
            "_model_name": "LayoutModel",
            "_view_count": null,
            "_view_module": "@jupyter-widgets/base",
            "_view_module_version": "1.2.0",
            "_view_name": "LayoutView",
            "align_content": null,
            "align_items": null,
            "align_self": null,
            "border": null,
            "bottom": null,
            "display": null,
            "flex": null,
            "flex_flow": null,
            "grid_area": null,
            "grid_auto_columns": null,
            "grid_auto_flow": null,
            "grid_auto_rows": null,
            "grid_column": null,
            "grid_gap": null,
            "grid_row": null,
            "grid_template_areas": null,
            "grid_template_columns": null,
            "grid_template_rows": null,
            "height": null,
            "justify_content": null,
            "justify_items": null,
            "left": null,
            "margin": null,
            "max_height": null,
            "max_width": null,
            "min_height": null,
            "min_width": null,
            "object_fit": null,
            "object_position": null,
            "order": null,
            "overflow": null,
            "overflow_x": null,
            "overflow_y": null,
            "padding": null,
            "right": null,
            "top": null,
            "visibility": null,
            "width": null
          }
        },
        "6c5e375ba48042a48129b79c9943fee9": {
          "model_module": "@jupyter-widgets/base",
          "model_name": "LayoutModel",
          "model_module_version": "1.2.0",
          "state": {
            "_model_module": "@jupyter-widgets/base",
            "_model_module_version": "1.2.0",
            "_model_name": "LayoutModel",
            "_view_count": null,
            "_view_module": "@jupyter-widgets/base",
            "_view_module_version": "1.2.0",
            "_view_name": "LayoutView",
            "align_content": null,
            "align_items": null,
            "align_self": null,
            "border": null,
            "bottom": null,
            "display": null,
            "flex": null,
            "flex_flow": null,
            "grid_area": null,
            "grid_auto_columns": null,
            "grid_auto_flow": null,
            "grid_auto_rows": null,
            "grid_column": null,
            "grid_gap": null,
            "grid_row": null,
            "grid_template_areas": null,
            "grid_template_columns": null,
            "grid_template_rows": null,
            "height": null,
            "justify_content": null,
            "justify_items": null,
            "left": null,
            "margin": null,
            "max_height": null,
            "max_width": null,
            "min_height": null,
            "min_width": null,
            "object_fit": null,
            "object_position": null,
            "order": null,
            "overflow": null,
            "overflow_x": null,
            "overflow_y": null,
            "padding": null,
            "right": null,
            "top": null,
            "visibility": null,
            "width": null
          }
        },
        "c638742b83594accade9d8a385104dc9": {
          "model_module": "@jupyter-widgets/controls",
          "model_name": "DescriptionStyleModel",
          "model_module_version": "1.5.0",
          "state": {
            "_model_module": "@jupyter-widgets/controls",
            "_model_module_version": "1.5.0",
            "_model_name": "DescriptionStyleModel",
            "_view_count": null,
            "_view_module": "@jupyter-widgets/base",
            "_view_module_version": "1.2.0",
            "_view_name": "StyleView",
            "description_width": ""
          }
        },
        "b5935f68a9d5419da85bd122b09dfed8": {
          "model_module": "@jupyter-widgets/base",
          "model_name": "LayoutModel",
          "model_module_version": "1.2.0",
          "state": {
            "_model_module": "@jupyter-widgets/base",
            "_model_module_version": "1.2.0",
            "_model_name": "LayoutModel",
            "_view_count": null,
            "_view_module": "@jupyter-widgets/base",
            "_view_module_version": "1.2.0",
            "_view_name": "LayoutView",
            "align_content": null,
            "align_items": null,
            "align_self": null,
            "border": null,
            "bottom": null,
            "display": null,
            "flex": null,
            "flex_flow": null,
            "grid_area": null,
            "grid_auto_columns": null,
            "grid_auto_flow": null,
            "grid_auto_rows": null,
            "grid_column": null,
            "grid_gap": null,
            "grid_row": null,
            "grid_template_areas": null,
            "grid_template_columns": null,
            "grid_template_rows": null,
            "height": null,
            "justify_content": null,
            "justify_items": null,
            "left": null,
            "margin": null,
            "max_height": null,
            "max_width": null,
            "min_height": null,
            "min_width": null,
            "object_fit": null,
            "object_position": null,
            "order": null,
            "overflow": null,
            "overflow_x": null,
            "overflow_y": null,
            "padding": null,
            "right": null,
            "top": null,
            "visibility": null,
            "width": null
          }
        },
        "4504ae63b5f84def873110356956f525": {
          "model_module": "@jupyter-widgets/controls",
          "model_name": "ProgressStyleModel",
          "model_module_version": "1.5.0",
          "state": {
            "_model_module": "@jupyter-widgets/controls",
            "_model_module_version": "1.5.0",
            "_model_name": "ProgressStyleModel",
            "_view_count": null,
            "_view_module": "@jupyter-widgets/base",
            "_view_module_version": "1.2.0",
            "_view_name": "StyleView",
            "bar_color": null,
            "description_width": ""
          }
        },
        "5a2ff1c203b146d98867eb6d69cb618e": {
          "model_module": "@jupyter-widgets/base",
          "model_name": "LayoutModel",
          "model_module_version": "1.2.0",
          "state": {
            "_model_module": "@jupyter-widgets/base",
            "_model_module_version": "1.2.0",
            "_model_name": "LayoutModel",
            "_view_count": null,
            "_view_module": "@jupyter-widgets/base",
            "_view_module_version": "1.2.0",
            "_view_name": "LayoutView",
            "align_content": null,
            "align_items": null,
            "align_self": null,
            "border": null,
            "bottom": null,
            "display": null,
            "flex": null,
            "flex_flow": null,
            "grid_area": null,
            "grid_auto_columns": null,
            "grid_auto_flow": null,
            "grid_auto_rows": null,
            "grid_column": null,
            "grid_gap": null,
            "grid_row": null,
            "grid_template_areas": null,
            "grid_template_columns": null,
            "grid_template_rows": null,
            "height": null,
            "justify_content": null,
            "justify_items": null,
            "left": null,
            "margin": null,
            "max_height": null,
            "max_width": null,
            "min_height": null,
            "min_width": null,
            "object_fit": null,
            "object_position": null,
            "order": null,
            "overflow": null,
            "overflow_x": null,
            "overflow_y": null,
            "padding": null,
            "right": null,
            "top": null,
            "visibility": null,
            "width": null
          }
        },
        "d1247a8c8f2244be824209aa7bd5e14b": {
          "model_module": "@jupyter-widgets/controls",
          "model_name": "DescriptionStyleModel",
          "model_module_version": "1.5.0",
          "state": {
            "_model_module": "@jupyter-widgets/controls",
            "_model_module_version": "1.5.0",
            "_model_name": "DescriptionStyleModel",
            "_view_count": null,
            "_view_module": "@jupyter-widgets/base",
            "_view_module_version": "1.2.0",
            "_view_name": "StyleView",
            "description_width": ""
          }
        },
        "6fda8a8dad164d01bcb3c67081753dd0": {
          "model_module": "@jupyter-widgets/controls",
          "model_name": "HBoxModel",
          "model_module_version": "1.5.0",
          "state": {
            "_dom_classes": [],
            "_model_module": "@jupyter-widgets/controls",
            "_model_module_version": "1.5.0",
            "_model_name": "HBoxModel",
            "_view_count": null,
            "_view_module": "@jupyter-widgets/controls",
            "_view_module_version": "1.5.0",
            "_view_name": "HBoxView",
            "box_style": "",
            "children": [
              "IPY_MODEL_30d741d7d1784d228cf5400ef9867d06",
              "IPY_MODEL_45acceadd0a540b6a97bab7bf3733097",
              "IPY_MODEL_3229c36b7fea4988a936cf19e703035e"
            ],
            "layout": "IPY_MODEL_db8903778e4845de8e7d8139c8a5c7b4"
          }
        },
        "30d741d7d1784d228cf5400ef9867d06": {
          "model_module": "@jupyter-widgets/controls",
          "model_name": "HTMLModel",
          "model_module_version": "1.5.0",
          "state": {
            "_dom_classes": [],
            "_model_module": "@jupyter-widgets/controls",
            "_model_module_version": "1.5.0",
            "_model_name": "HTMLModel",
            "_view_count": null,
            "_view_module": "@jupyter-widgets/controls",
            "_view_module_version": "1.5.0",
            "_view_name": "HTMLView",
            "description": "",
            "description_tooltip": null,
            "layout": "IPY_MODEL_5910964042694d93bfa26dfc2e3d21c0",
            "placeholder": "​",
            "style": "IPY_MODEL_8ff89bf0773943e1a69e2395aa8fe512",
            "value": "Downloading: 100%"
          }
        },
        "45acceadd0a540b6a97bab7bf3733097": {
          "model_module": "@jupyter-widgets/controls",
          "model_name": "FloatProgressModel",
          "model_module_version": "1.5.0",
          "state": {
            "_dom_classes": [],
            "_model_module": "@jupyter-widgets/controls",
            "_model_module_version": "1.5.0",
            "_model_name": "FloatProgressModel",
            "_view_count": null,
            "_view_module": "@jupyter-widgets/controls",
            "_view_module_version": "1.5.0",
            "_view_name": "ProgressView",
            "bar_style": "success",
            "description": "",
            "description_tooltip": null,
            "layout": "IPY_MODEL_dc44cfa0fdab400db7daf1eb140d65f3",
            "max": 1222,
            "min": 0,
            "orientation": "horizontal",
            "style": "IPY_MODEL_3b1c73f9536d46bc8afd34f77450777b",
            "value": 1222
          }
        },
        "3229c36b7fea4988a936cf19e703035e": {
          "model_module": "@jupyter-widgets/controls",
          "model_name": "HTMLModel",
          "model_module_version": "1.5.0",
          "state": {
            "_dom_classes": [],
            "_model_module": "@jupyter-widgets/controls",
            "_model_module_version": "1.5.0",
            "_model_name": "HTMLModel",
            "_view_count": null,
            "_view_module": "@jupyter-widgets/controls",
            "_view_module_version": "1.5.0",
            "_view_name": "HTMLView",
            "description": "",
            "description_tooltip": null,
            "layout": "IPY_MODEL_dc09ea9f666d484ab1cedeea0e1f0b51",
            "placeholder": "​",
            "style": "IPY_MODEL_7c3b796ff0f74b0baddf7bee958e4056",
            "value": " 1.22k/1.22k [00:00&lt;00:00, 13.9kB/s]"
          }
        },
        "db8903778e4845de8e7d8139c8a5c7b4": {
          "model_module": "@jupyter-widgets/base",
          "model_name": "LayoutModel",
          "model_module_version": "1.2.0",
          "state": {
            "_model_module": "@jupyter-widgets/base",
            "_model_module_version": "1.2.0",
            "_model_name": "LayoutModel",
            "_view_count": null,
            "_view_module": "@jupyter-widgets/base",
            "_view_module_version": "1.2.0",
            "_view_name": "LayoutView",
            "align_content": null,
            "align_items": null,
            "align_self": null,
            "border": null,
            "bottom": null,
            "display": null,
            "flex": null,
            "flex_flow": null,
            "grid_area": null,
            "grid_auto_columns": null,
            "grid_auto_flow": null,
            "grid_auto_rows": null,
            "grid_column": null,
            "grid_gap": null,
            "grid_row": null,
            "grid_template_areas": null,
            "grid_template_columns": null,
            "grid_template_rows": null,
            "height": null,
            "justify_content": null,
            "justify_items": null,
            "left": null,
            "margin": null,
            "max_height": null,
            "max_width": null,
            "min_height": null,
            "min_width": null,
            "object_fit": null,
            "object_position": null,
            "order": null,
            "overflow": null,
            "overflow_x": null,
            "overflow_y": null,
            "padding": null,
            "right": null,
            "top": null,
            "visibility": null,
            "width": null
          }
        },
        "5910964042694d93bfa26dfc2e3d21c0": {
          "model_module": "@jupyter-widgets/base",
          "model_name": "LayoutModel",
          "model_module_version": "1.2.0",
          "state": {
            "_model_module": "@jupyter-widgets/base",
            "_model_module_version": "1.2.0",
            "_model_name": "LayoutModel",
            "_view_count": null,
            "_view_module": "@jupyter-widgets/base",
            "_view_module_version": "1.2.0",
            "_view_name": "LayoutView",
            "align_content": null,
            "align_items": null,
            "align_self": null,
            "border": null,
            "bottom": null,
            "display": null,
            "flex": null,
            "flex_flow": null,
            "grid_area": null,
            "grid_auto_columns": null,
            "grid_auto_flow": null,
            "grid_auto_rows": null,
            "grid_column": null,
            "grid_gap": null,
            "grid_row": null,
            "grid_template_areas": null,
            "grid_template_columns": null,
            "grid_template_rows": null,
            "height": null,
            "justify_content": null,
            "justify_items": null,
            "left": null,
            "margin": null,
            "max_height": null,
            "max_width": null,
            "min_height": null,
            "min_width": null,
            "object_fit": null,
            "object_position": null,
            "order": null,
            "overflow": null,
            "overflow_x": null,
            "overflow_y": null,
            "padding": null,
            "right": null,
            "top": null,
            "visibility": null,
            "width": null
          }
        },
        "8ff89bf0773943e1a69e2395aa8fe512": {
          "model_module": "@jupyter-widgets/controls",
          "model_name": "DescriptionStyleModel",
          "model_module_version": "1.5.0",
          "state": {
            "_model_module": "@jupyter-widgets/controls",
            "_model_module_version": "1.5.0",
            "_model_name": "DescriptionStyleModel",
            "_view_count": null,
            "_view_module": "@jupyter-widgets/base",
            "_view_module_version": "1.2.0",
            "_view_name": "StyleView",
            "description_width": ""
          }
        },
        "dc44cfa0fdab400db7daf1eb140d65f3": {
          "model_module": "@jupyter-widgets/base",
          "model_name": "LayoutModel",
          "model_module_version": "1.2.0",
          "state": {
            "_model_module": "@jupyter-widgets/base",
            "_model_module_version": "1.2.0",
            "_model_name": "LayoutModel",
            "_view_count": null,
            "_view_module": "@jupyter-widgets/base",
            "_view_module_version": "1.2.0",
            "_view_name": "LayoutView",
            "align_content": null,
            "align_items": null,
            "align_self": null,
            "border": null,
            "bottom": null,
            "display": null,
            "flex": null,
            "flex_flow": null,
            "grid_area": null,
            "grid_auto_columns": null,
            "grid_auto_flow": null,
            "grid_auto_rows": null,
            "grid_column": null,
            "grid_gap": null,
            "grid_row": null,
            "grid_template_areas": null,
            "grid_template_columns": null,
            "grid_template_rows": null,
            "height": null,
            "justify_content": null,
            "justify_items": null,
            "left": null,
            "margin": null,
            "max_height": null,
            "max_width": null,
            "min_height": null,
            "min_width": null,
            "object_fit": null,
            "object_position": null,
            "order": null,
            "overflow": null,
            "overflow_x": null,
            "overflow_y": null,
            "padding": null,
            "right": null,
            "top": null,
            "visibility": null,
            "width": null
          }
        },
        "3b1c73f9536d46bc8afd34f77450777b": {
          "model_module": "@jupyter-widgets/controls",
          "model_name": "ProgressStyleModel",
          "model_module_version": "1.5.0",
          "state": {
            "_model_module": "@jupyter-widgets/controls",
            "_model_module_version": "1.5.0",
            "_model_name": "ProgressStyleModel",
            "_view_count": null,
            "_view_module": "@jupyter-widgets/base",
            "_view_module_version": "1.2.0",
            "_view_name": "StyleView",
            "bar_color": null,
            "description_width": ""
          }
        },
        "dc09ea9f666d484ab1cedeea0e1f0b51": {
          "model_module": "@jupyter-widgets/base",
          "model_name": "LayoutModel",
          "model_module_version": "1.2.0",
          "state": {
            "_model_module": "@jupyter-widgets/base",
            "_model_module_version": "1.2.0",
            "_model_name": "LayoutModel",
            "_view_count": null,
            "_view_module": "@jupyter-widgets/base",
            "_view_module_version": "1.2.0",
            "_view_name": "LayoutView",
            "align_content": null,
            "align_items": null,
            "align_self": null,
            "border": null,
            "bottom": null,
            "display": null,
            "flex": null,
            "flex_flow": null,
            "grid_area": null,
            "grid_auto_columns": null,
            "grid_auto_flow": null,
            "grid_auto_rows": null,
            "grid_column": null,
            "grid_gap": null,
            "grid_row": null,
            "grid_template_areas": null,
            "grid_template_columns": null,
            "grid_template_rows": null,
            "height": null,
            "justify_content": null,
            "justify_items": null,
            "left": null,
            "margin": null,
            "max_height": null,
            "max_width": null,
            "min_height": null,
            "min_width": null,
            "object_fit": null,
            "object_position": null,
            "order": null,
            "overflow": null,
            "overflow_x": null,
            "overflow_y": null,
            "padding": null,
            "right": null,
            "top": null,
            "visibility": null,
            "width": null
          }
        },
        "7c3b796ff0f74b0baddf7bee958e4056": {
          "model_module": "@jupyter-widgets/controls",
          "model_name": "DescriptionStyleModel",
          "model_module_version": "1.5.0",
          "state": {
            "_model_module": "@jupyter-widgets/controls",
            "_model_module_version": "1.5.0",
            "_model_name": "DescriptionStyleModel",
            "_view_count": null,
            "_view_module": "@jupyter-widgets/base",
            "_view_module_version": "1.2.0",
            "_view_name": "StyleView",
            "description_width": ""
          }
        },
        "a15a707acf0740c39424ccd72bd72ffe": {
          "model_module": "@jupyter-widgets/controls",
          "model_name": "HBoxModel",
          "model_module_version": "1.5.0",
          "state": {
            "_dom_classes": [],
            "_model_module": "@jupyter-widgets/controls",
            "_model_module_version": "1.5.0",
            "_model_name": "HBoxModel",
            "_view_count": null,
            "_view_module": "@jupyter-widgets/controls",
            "_view_module_version": "1.5.0",
            "_view_name": "HBoxView",
            "box_style": "",
            "children": [
              "IPY_MODEL_0edc25ae8b054381928e34b59e4d302d",
              "IPY_MODEL_f242515228c74c798093f795d87e8ee8",
              "IPY_MODEL_c79657c8fbfe4650a233e9fd3283a99e"
            ],
            "layout": "IPY_MODEL_d0e40dd8bc3f44ddb56f61fdf23c7996"
          }
        },
        "0edc25ae8b054381928e34b59e4d302d": {
          "model_module": "@jupyter-widgets/controls",
          "model_name": "HTMLModel",
          "model_module_version": "1.5.0",
          "state": {
            "_dom_classes": [],
            "_model_module": "@jupyter-widgets/controls",
            "_model_module_version": "1.5.0",
            "_model_name": "HTMLModel",
            "_view_count": null,
            "_view_module": "@jupyter-widgets/controls",
            "_view_module_version": "1.5.0",
            "_view_name": "HTMLView",
            "description": "",
            "description_tooltip": null,
            "layout": "IPY_MODEL_9ea92ae8dd9a4f178219134dbf6e2d04",
            "placeholder": "​",
            "style": "IPY_MODEL_04f4f3271f1e4b57aedab2b40cfc1c3d",
            "value": "Downloading: 100%"
          }
        },
        "f242515228c74c798093f795d87e8ee8": {
          "model_module": "@jupyter-widgets/controls",
          "model_name": "FloatProgressModel",
          "model_module_version": "1.5.0",
          "state": {
            "_dom_classes": [],
            "_model_module": "@jupyter-widgets/controls",
            "_model_module_version": "1.5.0",
            "_model_name": "FloatProgressModel",
            "_view_count": null,
            "_view_module": "@jupyter-widgets/controls",
            "_view_module_version": "1.5.0",
            "_view_name": "ProgressView",
            "bar_style": "success",
            "description": "",
            "description_tooltip": null,
            "layout": "IPY_MODEL_b5b846f06de2498f9e5735e524920f9c",
            "max": 8873494,
            "min": 0,
            "orientation": "horizontal",
            "style": "IPY_MODEL_9f651f3be99448ac9445e2e90310a721",
            "value": 8873494
          }
        },
        "c79657c8fbfe4650a233e9fd3283a99e": {
          "model_module": "@jupyter-widgets/controls",
          "model_name": "HTMLModel",
          "model_module_version": "1.5.0",
          "state": {
            "_dom_classes": [],
            "_model_module": "@jupyter-widgets/controls",
            "_model_module_version": "1.5.0",
            "_model_name": "HTMLModel",
            "_view_count": null,
            "_view_module": "@jupyter-widgets/controls",
            "_view_module_version": "1.5.0",
            "_view_name": "HTMLView",
            "description": "",
            "description_tooltip": null,
            "layout": "IPY_MODEL_bd19fc5050b74c3484f2b9ec44161836",
            "placeholder": "​",
            "style": "IPY_MODEL_2597b68ed766421687b7f7cf62c6a79a",
            "value": " 8.87M/8.87M [00:00&lt;00:00, 20.3MB/s]"
          }
        },
        "d0e40dd8bc3f44ddb56f61fdf23c7996": {
          "model_module": "@jupyter-widgets/base",
          "model_name": "LayoutModel",
          "model_module_version": "1.2.0",
          "state": {
            "_model_module": "@jupyter-widgets/base",
            "_model_module_version": "1.2.0",
            "_model_name": "LayoutModel",
            "_view_count": null,
            "_view_module": "@jupyter-widgets/base",
            "_view_module_version": "1.2.0",
            "_view_name": "LayoutView",
            "align_content": null,
            "align_items": null,
            "align_self": null,
            "border": null,
            "bottom": null,
            "display": null,
            "flex": null,
            "flex_flow": null,
            "grid_area": null,
            "grid_auto_columns": null,
            "grid_auto_flow": null,
            "grid_auto_rows": null,
            "grid_column": null,
            "grid_gap": null,
            "grid_row": null,
            "grid_template_areas": null,
            "grid_template_columns": null,
            "grid_template_rows": null,
            "height": null,
            "justify_content": null,
            "justify_items": null,
            "left": null,
            "margin": null,
            "max_height": null,
            "max_width": null,
            "min_height": null,
            "min_width": null,
            "object_fit": null,
            "object_position": null,
            "order": null,
            "overflow": null,
            "overflow_x": null,
            "overflow_y": null,
            "padding": null,
            "right": null,
            "top": null,
            "visibility": null,
            "width": null
          }
        },
        "9ea92ae8dd9a4f178219134dbf6e2d04": {
          "model_module": "@jupyter-widgets/base",
          "model_name": "LayoutModel",
          "model_module_version": "1.2.0",
          "state": {
            "_model_module": "@jupyter-widgets/base",
            "_model_module_version": "1.2.0",
            "_model_name": "LayoutModel",
            "_view_count": null,
            "_view_module": "@jupyter-widgets/base",
            "_view_module_version": "1.2.0",
            "_view_name": "LayoutView",
            "align_content": null,
            "align_items": null,
            "align_self": null,
            "border": null,
            "bottom": null,
            "display": null,
            "flex": null,
            "flex_flow": null,
            "grid_area": null,
            "grid_auto_columns": null,
            "grid_auto_flow": null,
            "grid_auto_rows": null,
            "grid_column": null,
            "grid_gap": null,
            "grid_row": null,
            "grid_template_areas": null,
            "grid_template_columns": null,
            "grid_template_rows": null,
            "height": null,
            "justify_content": null,
            "justify_items": null,
            "left": null,
            "margin": null,
            "max_height": null,
            "max_width": null,
            "min_height": null,
            "min_width": null,
            "object_fit": null,
            "object_position": null,
            "order": null,
            "overflow": null,
            "overflow_x": null,
            "overflow_y": null,
            "padding": null,
            "right": null,
            "top": null,
            "visibility": null,
            "width": null
          }
        },
        "04f4f3271f1e4b57aedab2b40cfc1c3d": {
          "model_module": "@jupyter-widgets/controls",
          "model_name": "DescriptionStyleModel",
          "model_module_version": "1.5.0",
          "state": {
            "_model_module": "@jupyter-widgets/controls",
            "_model_module_version": "1.5.0",
            "_model_name": "DescriptionStyleModel",
            "_view_count": null,
            "_view_module": "@jupyter-widgets/base",
            "_view_module_version": "1.2.0",
            "_view_name": "StyleView",
            "description_width": ""
          }
        },
        "b5b846f06de2498f9e5735e524920f9c": {
          "model_module": "@jupyter-widgets/base",
          "model_name": "LayoutModel",
          "model_module_version": "1.2.0",
          "state": {
            "_model_module": "@jupyter-widgets/base",
            "_model_module_version": "1.2.0",
            "_model_name": "LayoutModel",
            "_view_count": null,
            "_view_module": "@jupyter-widgets/base",
            "_view_module_version": "1.2.0",
            "_view_name": "LayoutView",
            "align_content": null,
            "align_items": null,
            "align_self": null,
            "border": null,
            "bottom": null,
            "display": null,
            "flex": null,
            "flex_flow": null,
            "grid_area": null,
            "grid_auto_columns": null,
            "grid_auto_flow": null,
            "grid_auto_rows": null,
            "grid_column": null,
            "grid_gap": null,
            "grid_row": null,
            "grid_template_areas": null,
            "grid_template_columns": null,
            "grid_template_rows": null,
            "height": null,
            "justify_content": null,
            "justify_items": null,
            "left": null,
            "margin": null,
            "max_height": null,
            "max_width": null,
            "min_height": null,
            "min_width": null,
            "object_fit": null,
            "object_position": null,
            "order": null,
            "overflow": null,
            "overflow_x": null,
            "overflow_y": null,
            "padding": null,
            "right": null,
            "top": null,
            "visibility": null,
            "width": null
          }
        },
        "9f651f3be99448ac9445e2e90310a721": {
          "model_module": "@jupyter-widgets/controls",
          "model_name": "ProgressStyleModel",
          "model_module_version": "1.5.0",
          "state": {
            "_model_module": "@jupyter-widgets/controls",
            "_model_module_version": "1.5.0",
            "_model_name": "ProgressStyleModel",
            "_view_count": null,
            "_view_module": "@jupyter-widgets/base",
            "_view_module_version": "1.2.0",
            "_view_name": "StyleView",
            "bar_color": null,
            "description_width": ""
          }
        },
        "bd19fc5050b74c3484f2b9ec44161836": {
          "model_module": "@jupyter-widgets/base",
          "model_name": "LayoutModel",
          "model_module_version": "1.2.0",
          "state": {
            "_model_module": "@jupyter-widgets/base",
            "_model_module_version": "1.2.0",
            "_model_name": "LayoutModel",
            "_view_count": null,
            "_view_module": "@jupyter-widgets/base",
            "_view_module_version": "1.2.0",
            "_view_name": "LayoutView",
            "align_content": null,
            "align_items": null,
            "align_self": null,
            "border": null,
            "bottom": null,
            "display": null,
            "flex": null,
            "flex_flow": null,
            "grid_area": null,
            "grid_auto_columns": null,
            "grid_auto_flow": null,
            "grid_auto_rows": null,
            "grid_column": null,
            "grid_gap": null,
            "grid_row": null,
            "grid_template_areas": null,
            "grid_template_columns": null,
            "grid_template_rows": null,
            "height": null,
            "justify_content": null,
            "justify_items": null,
            "left": null,
            "margin": null,
            "max_height": null,
            "max_width": null,
            "min_height": null,
            "min_width": null,
            "object_fit": null,
            "object_position": null,
            "order": null,
            "overflow": null,
            "overflow_x": null,
            "overflow_y": null,
            "padding": null,
            "right": null,
            "top": null,
            "visibility": null,
            "width": null
          }
        },
        "2597b68ed766421687b7f7cf62c6a79a": {
          "model_module": "@jupyter-widgets/controls",
          "model_name": "DescriptionStyleModel",
          "model_module_version": "1.5.0",
          "state": {
            "_model_module": "@jupyter-widgets/controls",
            "_model_module_version": "1.5.0",
            "_model_name": "DescriptionStyleModel",
            "_view_count": null,
            "_view_module": "@jupyter-widgets/base",
            "_view_module_version": "1.2.0",
            "_view_name": "StyleView",
            "description_width": ""
          }
        },
        "50019c5fde384d3fb01e3b21aa5c144e": {
          "model_module": "@jupyter-widgets/controls",
          "model_name": "HBoxModel",
          "model_module_version": "1.5.0",
          "state": {
            "_dom_classes": [],
            "_model_module": "@jupyter-widgets/controls",
            "_model_module_version": "1.5.0",
            "_model_name": "HBoxModel",
            "_view_count": null,
            "_view_module": "@jupyter-widgets/controls",
            "_view_module_version": "1.5.0",
            "_view_name": "HBoxView",
            "box_style": "",
            "children": [
              "IPY_MODEL_0af27cac6e39495fb077cdc6d9cce9d3",
              "IPY_MODEL_2ea975ae53694a3b9ab0a63fa35fc5ff",
              "IPY_MODEL_8144b69b7e9b47acac92f0e0e11ae741"
            ],
            "layout": "IPY_MODEL_896e876024e44b68b630f244e88c3ade"
          }
        },
        "0af27cac6e39495fb077cdc6d9cce9d3": {
          "model_module": "@jupyter-widgets/controls",
          "model_name": "HTMLModel",
          "model_module_version": "1.5.0",
          "state": {
            "_dom_classes": [],
            "_model_module": "@jupyter-widgets/controls",
            "_model_module_version": "1.5.0",
            "_model_name": "HTMLModel",
            "_view_count": null,
            "_view_module": "@jupyter-widgets/controls",
            "_view_module_version": "1.5.0",
            "_view_name": "HTMLView",
            "description": "",
            "description_tooltip": null,
            "layout": "IPY_MODEL_c2a2777d221e45c9b92aa66fbaffa8e2",
            "placeholder": "​",
            "style": "IPY_MODEL_77ff152c254347a6b4be67f8663e5df3",
            "value": "Sanity Checking DataLoader 0: 100%"
          }
        },
        "2ea975ae53694a3b9ab0a63fa35fc5ff": {
          "model_module": "@jupyter-widgets/controls",
          "model_name": "FloatProgressModel",
          "model_module_version": "1.5.0",
          "state": {
            "_dom_classes": [],
            "_model_module": "@jupyter-widgets/controls",
            "_model_module_version": "1.5.0",
            "_model_name": "FloatProgressModel",
            "_view_count": null,
            "_view_module": "@jupyter-widgets/controls",
            "_view_module_version": "1.5.0",
            "_view_name": "ProgressView",
            "bar_style": "",
            "description": "",
            "description_tooltip": null,
            "layout": "IPY_MODEL_cc057655510342c59b13000628326a4a",
            "max": 2,
            "min": 0,
            "orientation": "horizontal",
            "style": "IPY_MODEL_12947cda614744aabd58fd350c0b5284",
            "value": 2
          }
        },
        "8144b69b7e9b47acac92f0e0e11ae741": {
          "model_module": "@jupyter-widgets/controls",
          "model_name": "HTMLModel",
          "model_module_version": "1.5.0",
          "state": {
            "_dom_classes": [],
            "_model_module": "@jupyter-widgets/controls",
            "_model_module_version": "1.5.0",
            "_model_name": "HTMLModel",
            "_view_count": null,
            "_view_module": "@jupyter-widgets/controls",
            "_view_module_version": "1.5.0",
            "_view_name": "HTMLView",
            "description": "",
            "description_tooltip": null,
            "layout": "IPY_MODEL_d0689fccc6a54b168c27ad5ccd9429be",
            "placeholder": "​",
            "style": "IPY_MODEL_366c23dfd9d44b1b84e5aabced013595",
            "value": " 2/2 [00:00&lt;00:00,  6.20it/s]"
          }
        },
        "896e876024e44b68b630f244e88c3ade": {
          "model_module": "@jupyter-widgets/base",
          "model_name": "LayoutModel",
          "model_module_version": "1.2.0",
          "state": {
            "_model_module": "@jupyter-widgets/base",
            "_model_module_version": "1.2.0",
            "_model_name": "LayoutModel",
            "_view_count": null,
            "_view_module": "@jupyter-widgets/base",
            "_view_module_version": "1.2.0",
            "_view_name": "LayoutView",
            "align_content": null,
            "align_items": null,
            "align_self": null,
            "border": null,
            "bottom": null,
            "display": "inline-flex",
            "flex": null,
            "flex_flow": "row wrap",
            "grid_area": null,
            "grid_auto_columns": null,
            "grid_auto_flow": null,
            "grid_auto_rows": null,
            "grid_column": null,
            "grid_gap": null,
            "grid_row": null,
            "grid_template_areas": null,
            "grid_template_columns": null,
            "grid_template_rows": null,
            "height": null,
            "justify_content": null,
            "justify_items": null,
            "left": null,
            "margin": null,
            "max_height": null,
            "max_width": null,
            "min_height": null,
            "min_width": null,
            "object_fit": null,
            "object_position": null,
            "order": null,
            "overflow": null,
            "overflow_x": null,
            "overflow_y": null,
            "padding": null,
            "right": null,
            "top": null,
            "visibility": "hidden",
            "width": "100%"
          }
        },
        "c2a2777d221e45c9b92aa66fbaffa8e2": {
          "model_module": "@jupyter-widgets/base",
          "model_name": "LayoutModel",
          "model_module_version": "1.2.0",
          "state": {
            "_model_module": "@jupyter-widgets/base",
            "_model_module_version": "1.2.0",
            "_model_name": "LayoutModel",
            "_view_count": null,
            "_view_module": "@jupyter-widgets/base",
            "_view_module_version": "1.2.0",
            "_view_name": "LayoutView",
            "align_content": null,
            "align_items": null,
            "align_self": null,
            "border": null,
            "bottom": null,
            "display": null,
            "flex": null,
            "flex_flow": null,
            "grid_area": null,
            "grid_auto_columns": null,
            "grid_auto_flow": null,
            "grid_auto_rows": null,
            "grid_column": null,
            "grid_gap": null,
            "grid_row": null,
            "grid_template_areas": null,
            "grid_template_columns": null,
            "grid_template_rows": null,
            "height": null,
            "justify_content": null,
            "justify_items": null,
            "left": null,
            "margin": null,
            "max_height": null,
            "max_width": null,
            "min_height": null,
            "min_width": null,
            "object_fit": null,
            "object_position": null,
            "order": null,
            "overflow": null,
            "overflow_x": null,
            "overflow_y": null,
            "padding": null,
            "right": null,
            "top": null,
            "visibility": null,
            "width": null
          }
        },
        "77ff152c254347a6b4be67f8663e5df3": {
          "model_module": "@jupyter-widgets/controls",
          "model_name": "DescriptionStyleModel",
          "model_module_version": "1.5.0",
          "state": {
            "_model_module": "@jupyter-widgets/controls",
            "_model_module_version": "1.5.0",
            "_model_name": "DescriptionStyleModel",
            "_view_count": null,
            "_view_module": "@jupyter-widgets/base",
            "_view_module_version": "1.2.0",
            "_view_name": "StyleView",
            "description_width": ""
          }
        },
        "cc057655510342c59b13000628326a4a": {
          "model_module": "@jupyter-widgets/base",
          "model_name": "LayoutModel",
          "model_module_version": "1.2.0",
          "state": {
            "_model_module": "@jupyter-widgets/base",
            "_model_module_version": "1.2.0",
            "_model_name": "LayoutModel",
            "_view_count": null,
            "_view_module": "@jupyter-widgets/base",
            "_view_module_version": "1.2.0",
            "_view_name": "LayoutView",
            "align_content": null,
            "align_items": null,
            "align_self": null,
            "border": null,
            "bottom": null,
            "display": null,
            "flex": "2",
            "flex_flow": null,
            "grid_area": null,
            "grid_auto_columns": null,
            "grid_auto_flow": null,
            "grid_auto_rows": null,
            "grid_column": null,
            "grid_gap": null,
            "grid_row": null,
            "grid_template_areas": null,
            "grid_template_columns": null,
            "grid_template_rows": null,
            "height": null,
            "justify_content": null,
            "justify_items": null,
            "left": null,
            "margin": null,
            "max_height": null,
            "max_width": null,
            "min_height": null,
            "min_width": null,
            "object_fit": null,
            "object_position": null,
            "order": null,
            "overflow": null,
            "overflow_x": null,
            "overflow_y": null,
            "padding": null,
            "right": null,
            "top": null,
            "visibility": null,
            "width": null
          }
        },
        "12947cda614744aabd58fd350c0b5284": {
          "model_module": "@jupyter-widgets/controls",
          "model_name": "ProgressStyleModel",
          "model_module_version": "1.5.0",
          "state": {
            "_model_module": "@jupyter-widgets/controls",
            "_model_module_version": "1.5.0",
            "_model_name": "ProgressStyleModel",
            "_view_count": null,
            "_view_module": "@jupyter-widgets/base",
            "_view_module_version": "1.2.0",
            "_view_name": "StyleView",
            "bar_color": null,
            "description_width": ""
          }
        },
        "d0689fccc6a54b168c27ad5ccd9429be": {
          "model_module": "@jupyter-widgets/base",
          "model_name": "LayoutModel",
          "model_module_version": "1.2.0",
          "state": {
            "_model_module": "@jupyter-widgets/base",
            "_model_module_version": "1.2.0",
            "_model_name": "LayoutModel",
            "_view_count": null,
            "_view_module": "@jupyter-widgets/base",
            "_view_module_version": "1.2.0",
            "_view_name": "LayoutView",
            "align_content": null,
            "align_items": null,
            "align_self": null,
            "border": null,
            "bottom": null,
            "display": null,
            "flex": null,
            "flex_flow": null,
            "grid_area": null,
            "grid_auto_columns": null,
            "grid_auto_flow": null,
            "grid_auto_rows": null,
            "grid_column": null,
            "grid_gap": null,
            "grid_row": null,
            "grid_template_areas": null,
            "grid_template_columns": null,
            "grid_template_rows": null,
            "height": null,
            "justify_content": null,
            "justify_items": null,
            "left": null,
            "margin": null,
            "max_height": null,
            "max_width": null,
            "min_height": null,
            "min_width": null,
            "object_fit": null,
            "object_position": null,
            "order": null,
            "overflow": null,
            "overflow_x": null,
            "overflow_y": null,
            "padding": null,
            "right": null,
            "top": null,
            "visibility": null,
            "width": null
          }
        },
        "366c23dfd9d44b1b84e5aabced013595": {
          "model_module": "@jupyter-widgets/controls",
          "model_name": "DescriptionStyleModel",
          "model_module_version": "1.5.0",
          "state": {
            "_model_module": "@jupyter-widgets/controls",
            "_model_module_version": "1.5.0",
            "_model_name": "DescriptionStyleModel",
            "_view_count": null,
            "_view_module": "@jupyter-widgets/base",
            "_view_module_version": "1.2.0",
            "_view_name": "StyleView",
            "description_width": ""
          }
        },
        "8addf983e9e040d6995944635e9281f4": {
          "model_module": "@jupyter-widgets/controls",
          "model_name": "HBoxModel",
          "model_module_version": "1.5.0",
          "state": {
            "_dom_classes": [],
            "_model_module": "@jupyter-widgets/controls",
            "_model_module_version": "1.5.0",
            "_model_name": "HBoxModel",
            "_view_count": null,
            "_view_module": "@jupyter-widgets/controls",
            "_view_module_version": "1.5.0",
            "_view_name": "HBoxView",
            "box_style": "",
            "children": [
              "IPY_MODEL_2ce1d5f033ba40adaac9d6e53ac3a6cc",
              "IPY_MODEL_57342c37a626434e899dc751827315de",
              "IPY_MODEL_adbc48917f5b4b1fa9ed1f130ebff8d1"
            ],
            "layout": "IPY_MODEL_088ad7d931c64c40bc77eab78a8f2076"
          }
        },
        "2ce1d5f033ba40adaac9d6e53ac3a6cc": {
          "model_module": "@jupyter-widgets/controls",
          "model_name": "HTMLModel",
          "model_module_version": "1.5.0",
          "state": {
            "_dom_classes": [],
            "_model_module": "@jupyter-widgets/controls",
            "_model_module_version": "1.5.0",
            "_model_name": "HTMLModel",
            "_view_count": null,
            "_view_module": "@jupyter-widgets/controls",
            "_view_module_version": "1.5.0",
            "_view_name": "HTMLView",
            "description": "",
            "description_tooltip": null,
            "layout": "IPY_MODEL_bcfde84949ca4da8915c010358f126da",
            "placeholder": "​",
            "style": "IPY_MODEL_2b1a29ce8a044942bbd0e0ac4c9bb913",
            "value": "Epoch 0:   0%"
          }
        },
        "57342c37a626434e899dc751827315de": {
          "model_module": "@jupyter-widgets/controls",
          "model_name": "FloatProgressModel",
          "model_module_version": "1.5.0",
          "state": {
            "_dom_classes": [],
            "_model_module": "@jupyter-widgets/controls",
            "_model_module_version": "1.5.0",
            "_model_name": "FloatProgressModel",
            "_view_count": null,
            "_view_module": "@jupyter-widgets/controls",
            "_view_module_version": "1.5.0",
            "_view_name": "ProgressView",
            "bar_style": "",
            "description": "",
            "description_tooltip": null,
            "layout": "IPY_MODEL_cd570200eff543c6a14a460d9a8343e5",
            "max": 3466,
            "min": 0,
            "orientation": "horizontal",
            "style": "IPY_MODEL_5e6029ba85954a4b91b22d2be1e6cf79",
            "value": 0
          }
        },
        "adbc48917f5b4b1fa9ed1f130ebff8d1": {
          "model_module": "@jupyter-widgets/controls",
          "model_name": "HTMLModel",
          "model_module_version": "1.5.0",
          "state": {
            "_dom_classes": [],
            "_model_module": "@jupyter-widgets/controls",
            "_model_module_version": "1.5.0",
            "_model_name": "HTMLModel",
            "_view_count": null,
            "_view_module": "@jupyter-widgets/controls",
            "_view_module_version": "1.5.0",
            "_view_name": "HTMLView",
            "description": "",
            "description_tooltip": null,
            "layout": "IPY_MODEL_339d9cd9741a41a79827082093c96aba",
            "placeholder": "​",
            "style": "IPY_MODEL_0a44f65884f84c93835319066342d2a1",
            "value": " 0/3466 [00:00&lt;?, ?it/s]"
          }
        },
        "088ad7d931c64c40bc77eab78a8f2076": {
          "model_module": "@jupyter-widgets/base",
          "model_name": "LayoutModel",
          "model_module_version": "1.2.0",
          "state": {
            "_model_module": "@jupyter-widgets/base",
            "_model_module_version": "1.2.0",
            "_model_name": "LayoutModel",
            "_view_count": null,
            "_view_module": "@jupyter-widgets/base",
            "_view_module_version": "1.2.0",
            "_view_name": "LayoutView",
            "align_content": null,
            "align_items": null,
            "align_self": null,
            "border": null,
            "bottom": null,
            "display": "inline-flex",
            "flex": null,
            "flex_flow": "row wrap",
            "grid_area": null,
            "grid_auto_columns": null,
            "grid_auto_flow": null,
            "grid_auto_rows": null,
            "grid_column": null,
            "grid_gap": null,
            "grid_row": null,
            "grid_template_areas": null,
            "grid_template_columns": null,
            "grid_template_rows": null,
            "height": null,
            "justify_content": null,
            "justify_items": null,
            "left": null,
            "margin": null,
            "max_height": null,
            "max_width": null,
            "min_height": null,
            "min_width": null,
            "object_fit": null,
            "object_position": null,
            "order": null,
            "overflow": null,
            "overflow_x": null,
            "overflow_y": null,
            "padding": null,
            "right": null,
            "top": null,
            "visibility": null,
            "width": "100%"
          }
        },
        "bcfde84949ca4da8915c010358f126da": {
          "model_module": "@jupyter-widgets/base",
          "model_name": "LayoutModel",
          "model_module_version": "1.2.0",
          "state": {
            "_model_module": "@jupyter-widgets/base",
            "_model_module_version": "1.2.0",
            "_model_name": "LayoutModel",
            "_view_count": null,
            "_view_module": "@jupyter-widgets/base",
            "_view_module_version": "1.2.0",
            "_view_name": "LayoutView",
            "align_content": null,
            "align_items": null,
            "align_self": null,
            "border": null,
            "bottom": null,
            "display": null,
            "flex": null,
            "flex_flow": null,
            "grid_area": null,
            "grid_auto_columns": null,
            "grid_auto_flow": null,
            "grid_auto_rows": null,
            "grid_column": null,
            "grid_gap": null,
            "grid_row": null,
            "grid_template_areas": null,
            "grid_template_columns": null,
            "grid_template_rows": null,
            "height": null,
            "justify_content": null,
            "justify_items": null,
            "left": null,
            "margin": null,
            "max_height": null,
            "max_width": null,
            "min_height": null,
            "min_width": null,
            "object_fit": null,
            "object_position": null,
            "order": null,
            "overflow": null,
            "overflow_x": null,
            "overflow_y": null,
            "padding": null,
            "right": null,
            "top": null,
            "visibility": null,
            "width": null
          }
        },
        "2b1a29ce8a044942bbd0e0ac4c9bb913": {
          "model_module": "@jupyter-widgets/controls",
          "model_name": "DescriptionStyleModel",
          "model_module_version": "1.5.0",
          "state": {
            "_model_module": "@jupyter-widgets/controls",
            "_model_module_version": "1.5.0",
            "_model_name": "DescriptionStyleModel",
            "_view_count": null,
            "_view_module": "@jupyter-widgets/base",
            "_view_module_version": "1.2.0",
            "_view_name": "StyleView",
            "description_width": ""
          }
        },
        "cd570200eff543c6a14a460d9a8343e5": {
          "model_module": "@jupyter-widgets/base",
          "model_name": "LayoutModel",
          "model_module_version": "1.2.0",
          "state": {
            "_model_module": "@jupyter-widgets/base",
            "_model_module_version": "1.2.0",
            "_model_name": "LayoutModel",
            "_view_count": null,
            "_view_module": "@jupyter-widgets/base",
            "_view_module_version": "1.2.0",
            "_view_name": "LayoutView",
            "align_content": null,
            "align_items": null,
            "align_self": null,
            "border": null,
            "bottom": null,
            "display": null,
            "flex": "2",
            "flex_flow": null,
            "grid_area": null,
            "grid_auto_columns": null,
            "grid_auto_flow": null,
            "grid_auto_rows": null,
            "grid_column": null,
            "grid_gap": null,
            "grid_row": null,
            "grid_template_areas": null,
            "grid_template_columns": null,
            "grid_template_rows": null,
            "height": null,
            "justify_content": null,
            "justify_items": null,
            "left": null,
            "margin": null,
            "max_height": null,
            "max_width": null,
            "min_height": null,
            "min_width": null,
            "object_fit": null,
            "object_position": null,
            "order": null,
            "overflow": null,
            "overflow_x": null,
            "overflow_y": null,
            "padding": null,
            "right": null,
            "top": null,
            "visibility": null,
            "width": null
          }
        },
        "5e6029ba85954a4b91b22d2be1e6cf79": {
          "model_module": "@jupyter-widgets/controls",
          "model_name": "ProgressStyleModel",
          "model_module_version": "1.5.0",
          "state": {
            "_model_module": "@jupyter-widgets/controls",
            "_model_module_version": "1.5.0",
            "_model_name": "ProgressStyleModel",
            "_view_count": null,
            "_view_module": "@jupyter-widgets/base",
            "_view_module_version": "1.2.0",
            "_view_name": "StyleView",
            "bar_color": null,
            "description_width": ""
          }
        },
        "339d9cd9741a41a79827082093c96aba": {
          "model_module": "@jupyter-widgets/base",
          "model_name": "LayoutModel",
          "model_module_version": "1.2.0",
          "state": {
            "_model_module": "@jupyter-widgets/base",
            "_model_module_version": "1.2.0",
            "_model_name": "LayoutModel",
            "_view_count": null,
            "_view_module": "@jupyter-widgets/base",
            "_view_module_version": "1.2.0",
            "_view_name": "LayoutView",
            "align_content": null,
            "align_items": null,
            "align_self": null,
            "border": null,
            "bottom": null,
            "display": null,
            "flex": null,
            "flex_flow": null,
            "grid_area": null,
            "grid_auto_columns": null,
            "grid_auto_flow": null,
            "grid_auto_rows": null,
            "grid_column": null,
            "grid_gap": null,
            "grid_row": null,
            "grid_template_areas": null,
            "grid_template_columns": null,
            "grid_template_rows": null,
            "height": null,
            "justify_content": null,
            "justify_items": null,
            "left": null,
            "margin": null,
            "max_height": null,
            "max_width": null,
            "min_height": null,
            "min_width": null,
            "object_fit": null,
            "object_position": null,
            "order": null,
            "overflow": null,
            "overflow_x": null,
            "overflow_y": null,
            "padding": null,
            "right": null,
            "top": null,
            "visibility": null,
            "width": null
          }
        },
        "0a44f65884f84c93835319066342d2a1": {
          "model_module": "@jupyter-widgets/controls",
          "model_name": "DescriptionStyleModel",
          "model_module_version": "1.5.0",
          "state": {
            "_model_module": "@jupyter-widgets/controls",
            "_model_module_version": "1.5.0",
            "_model_name": "DescriptionStyleModel",
            "_view_count": null,
            "_view_module": "@jupyter-widgets/base",
            "_view_module_version": "1.2.0",
            "_view_name": "StyleView",
            "description_width": ""
          }
        },
        "942a8492dd044bc79621acc848b6fffc": {
          "model_module": "@jupyter-widgets/controls",
          "model_name": "HBoxModel",
          "model_module_version": "1.5.0",
          "state": {
            "_dom_classes": [],
            "_model_module": "@jupyter-widgets/controls",
            "_model_module_version": "1.5.0",
            "_model_name": "HBoxModel",
            "_view_count": null,
            "_view_module": "@jupyter-widgets/controls",
            "_view_module_version": "1.5.0",
            "_view_name": "HBoxView",
            "box_style": "",
            "children": [
              "IPY_MODEL_24e30264e5b14aaf8dfbceabe9bad247",
              "IPY_MODEL_50b99cd10b8f47c6b4237fef6009847b",
              "IPY_MODEL_a5e6579cba8643b3a92d78c2e2a3c5b8"
            ],
            "layout": "IPY_MODEL_b5b9d23639fb400fb7ecc9455a9718e7"
          }
        },
        "24e30264e5b14aaf8dfbceabe9bad247": {
          "model_module": "@jupyter-widgets/controls",
          "model_name": "HTMLModel",
          "model_module_version": "1.5.0",
          "state": {
            "_dom_classes": [],
            "_model_module": "@jupyter-widgets/controls",
            "_model_module_version": "1.5.0",
            "_model_name": "HTMLModel",
            "_view_count": null,
            "_view_module": "@jupyter-widgets/controls",
            "_view_module_version": "1.5.0",
            "_view_name": "HTMLView",
            "description": "",
            "description_tooltip": null,
            "layout": "IPY_MODEL_18e67b5391344ec88b940c544dd3efc9",
            "placeholder": "​",
            "style": "IPY_MODEL_339afd5b0efa4d9bb23481ff78091afe",
            "value": "100%"
          }
        },
        "50b99cd10b8f47c6b4237fef6009847b": {
          "model_module": "@jupyter-widgets/controls",
          "model_name": "FloatProgressModel",
          "model_module_version": "1.5.0",
          "state": {
            "_dom_classes": [],
            "_model_module": "@jupyter-widgets/controls",
            "_model_module_version": "1.5.0",
            "_model_name": "FloatProgressModel",
            "_view_count": null,
            "_view_module": "@jupyter-widgets/controls",
            "_view_module_version": "1.5.0",
            "_view_name": "ProgressView",
            "bar_style": "success",
            "description": "",
            "description_tooltip": null,
            "layout": "IPY_MODEL_5b0cdac2e7c640608b73a6a178f04f9e",
            "max": 3,
            "min": 0,
            "orientation": "horizontal",
            "style": "IPY_MODEL_7f54bd30b029446aa4a924e1004008a5",
            "value": 3
          }
        },
        "a5e6579cba8643b3a92d78c2e2a3c5b8": {
          "model_module": "@jupyter-widgets/controls",
          "model_name": "HTMLModel",
          "model_module_version": "1.5.0",
          "state": {
            "_dom_classes": [],
            "_model_module": "@jupyter-widgets/controls",
            "_model_module_version": "1.5.0",
            "_model_name": "HTMLModel",
            "_view_count": null,
            "_view_module": "@jupyter-widgets/controls",
            "_view_module_version": "1.5.0",
            "_view_name": "HTMLView",
            "description": "",
            "description_tooltip": null,
            "layout": "IPY_MODEL_e4954a1ff90f4b42abca58f9326187eb",
            "placeholder": "​",
            "style": "IPY_MODEL_8f005458f5c44466948731774dd55bb5",
            "value": " 3/3 [00:00&lt;00:00, 29.42it/s]"
          }
        },
        "b5b9d23639fb400fb7ecc9455a9718e7": {
          "model_module": "@jupyter-widgets/base",
          "model_name": "LayoutModel",
          "model_module_version": "1.2.0",
          "state": {
            "_model_module": "@jupyter-widgets/base",
            "_model_module_version": "1.2.0",
            "_model_name": "LayoutModel",
            "_view_count": null,
            "_view_module": "@jupyter-widgets/base",
            "_view_module_version": "1.2.0",
            "_view_name": "LayoutView",
            "align_content": null,
            "align_items": null,
            "align_self": null,
            "border": null,
            "bottom": null,
            "display": null,
            "flex": null,
            "flex_flow": null,
            "grid_area": null,
            "grid_auto_columns": null,
            "grid_auto_flow": null,
            "grid_auto_rows": null,
            "grid_column": null,
            "grid_gap": null,
            "grid_row": null,
            "grid_template_areas": null,
            "grid_template_columns": null,
            "grid_template_rows": null,
            "height": null,
            "justify_content": null,
            "justify_items": null,
            "left": null,
            "margin": null,
            "max_height": null,
            "max_width": null,
            "min_height": null,
            "min_width": null,
            "object_fit": null,
            "object_position": null,
            "order": null,
            "overflow": null,
            "overflow_x": null,
            "overflow_y": null,
            "padding": null,
            "right": null,
            "top": null,
            "visibility": null,
            "width": null
          }
        },
        "18e67b5391344ec88b940c544dd3efc9": {
          "model_module": "@jupyter-widgets/base",
          "model_name": "LayoutModel",
          "model_module_version": "1.2.0",
          "state": {
            "_model_module": "@jupyter-widgets/base",
            "_model_module_version": "1.2.0",
            "_model_name": "LayoutModel",
            "_view_count": null,
            "_view_module": "@jupyter-widgets/base",
            "_view_module_version": "1.2.0",
            "_view_name": "LayoutView",
            "align_content": null,
            "align_items": null,
            "align_self": null,
            "border": null,
            "bottom": null,
            "display": null,
            "flex": null,
            "flex_flow": null,
            "grid_area": null,
            "grid_auto_columns": null,
            "grid_auto_flow": null,
            "grid_auto_rows": null,
            "grid_column": null,
            "grid_gap": null,
            "grid_row": null,
            "grid_template_areas": null,
            "grid_template_columns": null,
            "grid_template_rows": null,
            "height": null,
            "justify_content": null,
            "justify_items": null,
            "left": null,
            "margin": null,
            "max_height": null,
            "max_width": null,
            "min_height": null,
            "min_width": null,
            "object_fit": null,
            "object_position": null,
            "order": null,
            "overflow": null,
            "overflow_x": null,
            "overflow_y": null,
            "padding": null,
            "right": null,
            "top": null,
            "visibility": null,
            "width": null
          }
        },
        "339afd5b0efa4d9bb23481ff78091afe": {
          "model_module": "@jupyter-widgets/controls",
          "model_name": "DescriptionStyleModel",
          "model_module_version": "1.5.0",
          "state": {
            "_model_module": "@jupyter-widgets/controls",
            "_model_module_version": "1.5.0",
            "_model_name": "DescriptionStyleModel",
            "_view_count": null,
            "_view_module": "@jupyter-widgets/base",
            "_view_module_version": "1.2.0",
            "_view_name": "StyleView",
            "description_width": ""
          }
        },
        "5b0cdac2e7c640608b73a6a178f04f9e": {
          "model_module": "@jupyter-widgets/base",
          "model_name": "LayoutModel",
          "model_module_version": "1.2.0",
          "state": {
            "_model_module": "@jupyter-widgets/base",
            "_model_module_version": "1.2.0",
            "_model_name": "LayoutModel",
            "_view_count": null,
            "_view_module": "@jupyter-widgets/base",
            "_view_module_version": "1.2.0",
            "_view_name": "LayoutView",
            "align_content": null,
            "align_items": null,
            "align_self": null,
            "border": null,
            "bottom": null,
            "display": null,
            "flex": null,
            "flex_flow": null,
            "grid_area": null,
            "grid_auto_columns": null,
            "grid_auto_flow": null,
            "grid_auto_rows": null,
            "grid_column": null,
            "grid_gap": null,
            "grid_row": null,
            "grid_template_areas": null,
            "grid_template_columns": null,
            "grid_template_rows": null,
            "height": null,
            "justify_content": null,
            "justify_items": null,
            "left": null,
            "margin": null,
            "max_height": null,
            "max_width": null,
            "min_height": null,
            "min_width": null,
            "object_fit": null,
            "object_position": null,
            "order": null,
            "overflow": null,
            "overflow_x": null,
            "overflow_y": null,
            "padding": null,
            "right": null,
            "top": null,
            "visibility": null,
            "width": null
          }
        },
        "7f54bd30b029446aa4a924e1004008a5": {
          "model_module": "@jupyter-widgets/controls",
          "model_name": "ProgressStyleModel",
          "model_module_version": "1.5.0",
          "state": {
            "_model_module": "@jupyter-widgets/controls",
            "_model_module_version": "1.5.0",
            "_model_name": "ProgressStyleModel",
            "_view_count": null,
            "_view_module": "@jupyter-widgets/base",
            "_view_module_version": "1.2.0",
            "_view_name": "StyleView",
            "bar_color": null,
            "description_width": ""
          }
        },
        "e4954a1ff90f4b42abca58f9326187eb": {
          "model_module": "@jupyter-widgets/base",
          "model_name": "LayoutModel",
          "model_module_version": "1.2.0",
          "state": {
            "_model_module": "@jupyter-widgets/base",
            "_model_module_version": "1.2.0",
            "_model_name": "LayoutModel",
            "_view_count": null,
            "_view_module": "@jupyter-widgets/base",
            "_view_module_version": "1.2.0",
            "_view_name": "LayoutView",
            "align_content": null,
            "align_items": null,
            "align_self": null,
            "border": null,
            "bottom": null,
            "display": null,
            "flex": null,
            "flex_flow": null,
            "grid_area": null,
            "grid_auto_columns": null,
            "grid_auto_flow": null,
            "grid_auto_rows": null,
            "grid_column": null,
            "grid_gap": null,
            "grid_row": null,
            "grid_template_areas": null,
            "grid_template_columns": null,
            "grid_template_rows": null,
            "height": null,
            "justify_content": null,
            "justify_items": null,
            "left": null,
            "margin": null,
            "max_height": null,
            "max_width": null,
            "min_height": null,
            "min_width": null,
            "object_fit": null,
            "object_position": null,
            "order": null,
            "overflow": null,
            "overflow_x": null,
            "overflow_y": null,
            "padding": null,
            "right": null,
            "top": null,
            "visibility": null,
            "width": null
          }
        },
        "8f005458f5c44466948731774dd55bb5": {
          "model_module": "@jupyter-widgets/controls",
          "model_name": "DescriptionStyleModel",
          "model_module_version": "1.5.0",
          "state": {
            "_model_module": "@jupyter-widgets/controls",
            "_model_module_version": "1.5.0",
            "_model_name": "DescriptionStyleModel",
            "_view_count": null,
            "_view_module": "@jupyter-widgets/base",
            "_view_module_version": "1.2.0",
            "_view_name": "StyleView",
            "description_width": ""
          }
        }
      }
    }
  },
  "cells": [
    {
      "cell_type": "markdown",
      "metadata": {
        "id": "view-in-github",
        "colab_type": "text"
      },
      "source": [
        "<a href=\"https://colab.research.google.com/github/macgyver121/DADS7202_final_project/blob/main/Fine_tune_Code_k2t_tiny.ipynb\" target=\"_parent\"><img src=\"https://colab.research.google.com/assets/colab-badge.svg\" alt=\"Open In Colab\"/></a>"
      ]
    },
    {
      "cell_type": "markdown",
      "metadata": {
        "id": "h-7bq0hWR3ny"
      },
      "source": [
        "## Set-up environment\n",
        "\n",
        "Let's first install the required libraries:\n",
        "* HuggingFace Transformers (for the CodeT5 model)\n",
        "* HuggingFace Datasets (for loading the dataset + preprocessing it)\n",
        "* PyTorch Lightning (for training)\n",
        "* Weights and Biases (for logging training metrics)."
      ]
    },
    {
      "cell_type": "code",
      "metadata": {
        "id": "i8n4pEe2RXFB"
      },
      "source": [
        "!pip install -q transformers datasets"
      ],
      "execution_count": 82,
      "outputs": []
    },
    {
      "cell_type": "code",
      "metadata": {
        "id": "cPM1mjMVaPzy"
      },
      "source": [
        "!pip install -q pytorch-lightning wandb"
      ],
      "execution_count": 83,
      "outputs": []
    },
    {
      "cell_type": "markdown",
      "metadata": {
        "id": "8x-xYVZfR5ji"
      },
      "source": [
        "## Preprocess data\n",
        "\n",
        "Here, we load the \"code_to_text\" portion of the [CodeXGLUE](https://microsoft.github.io/CodeXGLUE/) dataset. As you may know, GLUE [(Wang et al., 2018)](https://arxiv.org/abs/1804.07461) is a famous benchmark in NLP, which led to a lot of progress (see the leaderboard [here](https://gluebenchmark.com/)). Microsoft has now created a similar benchmark called CodeXGLUE [(Lu et al., 2021)](https://arxiv.org/abs/2102.04664), but for code + natural language instead of just natural language. It consits of several subtasks (similar to GLUE).\n",
        "\n",
        "Let's only load the examples of the Ruby programming language. This is a fairly small dataset, which is ideally suited for demonstration purposes in Google Colab. The Python split has way more training examples (250,000), but training this in Google Colab isn't ideal."
      ]
    },
    {
      "cell_type": "code",
      "source": [
        "import re\n",
        "import csv\n",
        "List_key = []\n",
        "# Open the CSV file for reading\n",
        "for i in range(10): \n",
        "    with open(str(i)+'.csv', 'r') as f:\n",
        " # Read the contents of the file into a list of rows\n",
        "        rows = list(csv.reader(f))\n",
        "# Concatenate the rows into a single string\n",
        "    csv_string = '\\n'.join(['\\t'.join(row) for row in rows])\n",
        "    csv_string = re.sub('\\s+',' ',csv_string)\n",
        "    f1 = open(str(i)+'.txt', 'r')\n",
        "    content = f1.read()\n",
        "    content = re.sub('\\s+',' ',content)\n",
        "    dict1 = {'key':csv_string,'text':content}\n",
        "    List_key += [dict1]\n",
        "print(len(List_key))\n",
        "print(List_key)"
      ],
      "metadata": {
        "colab": {
          "base_uri": "https://localhost:8080/"
        },
        "id": "S-fqXHpMt643",
        "outputId": "a268213c-5840-4843-e3ac-97b19819fd17"
      },
      "execution_count": 71,
      "outputs": [
        {
          "output_type": "stream",
          "name": "stdout",
          "text": [
            "10\n",
            "[{'key': \"Quarter Number of users in millions Q4 '19 2498 Q3 '19 2449 Q2 '19 2414 Q1 '19 2375 Q4 '18 2320 Q3 '18 2271 Q2 '18 2234 Q1 '18 2196 Q4 '17 2129 Q3 '17 2072 Q2 '17 2006 Q1 '17 1936 Q4 '16 1860 Q3 '16 1788 Q2 '16 1712 Q1 '16 1654 Q4 '15 1591 Q3 '15 1545 Q2 '15 1490 Q1 '15 1441 Q4 '14 1393 Q3 '14 1350 Q2 '14 1317 Q1 '14 1276 Q4 '13 1228 Q3 '13 1189 Q2 '13 1155 Q1 '13 1110 Q4 '12 1056 Q3 '12 1007 Q2 '12 955 Q1 '12 901 Q4 '11 845 Q3 '11 800 Q2 '11 739 Q1 '11 680 Q4 '10 608 Q3 '10 550 Q2 '10 482 Q1 '10 431 Q4 '09 360 Q3 '09 305 Q2 '09 242 Q1 '09 197 Q3 '08 100\", 'text': \"How many users does Facebook have ? With almost 2.5 billion monthly active users as of the fourth quarter of 2019 , Facebook is the biggest social network worldwide . In the third quarter of 2012 , the number of active Facebook users surpassed one billion , making it the first social network ever to do so . Active users are those which have logged in to Facebook during the last 30 days . During the last reported quarter , the company stated that 2.9 billion people were using at least one of the company 's core products ( Facebook , WhatsApp , Instagram , or Messenger ) each month . Facebook 's beginnings Founded in 2004 , Facebook is currently the biggest social networking service based on global reach and total active users . Launched by Harvard student Mark Zuckerberg and some of his contemporaries , the service was initially only available to Harvard students but soon expanded to regional universities , the Ivy League and further colleges before opening up to high school students and global users aged 13 or over . As of October 2018 , India , the United States and Indonesia rank first in terms of Facebook user base size . How Facebook works Facebook users must register before using the social network and are free to create a personal profile in order to interact with other users which they can add as friends . Furthermore , Facebook users may join user groups based on workplace , college or school and can also categorize their Facebook contacts into lists . Users can post status updates or other content and message each other . Facebook users can also interact with a wide selection of applications including social games or other services like the photo-sharing app Instagram . Mobile Facebook usage The social network is also accessible to mobile web users and has published a series of apps based on original Facebook features such as Facebook Messenger , which had 1.3 billion monthly active users as of the most recently reported period4 . The wide range of Facebook-related apps ensure that the company is one of the most popular app publishers worldwide based on downloads . \"}, {'key': \"NBA player Number of points scored Kareem Abdul-Jabbar 38387 Karl Malone 36928 LeBron James* 33655 Kobe Bryant 33643 Michael Jordan 32292 Dirk Nowitzki 31560 Wilt Chamberlain 31419 Shaquille O'Neal 28596 Moses Malone 27409 Elvin Hayes 27313 Hakeem Olajuwon 26946 Oscar Robertson 26710 Dominique Wilkins 26668 Tim Duncan 26496 Paul Pierce 26397 John Havlicek 26395 Kevin Garnett 26071 Carmelo Anthony* 26067 Vince Carter* 25623 Alex English 25613 Reggie Miller 25279 Jerry West 25192 Patrick Ewing 24815 Ray Allen 24505 Allen Iverson 24368 Charles Barkley 23757 Robert Parish 23334 Adrian Dantley 23177 Dwyane Wade 23165 Elgin Baylor 23149 Kevin Durant* 22940\", 'text': \"How many points does LeBron James have ? In January 2020 , LeBron James passed Kobe Bryant on the NBA all-time scoring list , scoring 29 points to in a regular season game against the Philadelphia 76ers . If James continues to produce at about his career average , he has a shot to move up even further and pass Karl Malone with about two more full seasons of games , and even catch Kareem Abdul-Jabbar , the NBA 's current all-time leading scorer . James ' current contract with the Los Angeles Lakers runs through the 2021/22 season . LeBron James already leader in playoff scoring The statistic shows only the points scored in regular season NBA games and does not take into account production in the playoffs . When looking at playoff scoring by itself , LeBron James is the all-time leading scorer in the NBA already , with 6,911 points . He is also the only player with more than 10,000 minutes played in playoff games , in large part thanks to his impressive streak of 14 consecutive playoff appearances ( 2004/05 - 2017/18 ) and a streak of eight straight NBA finals appearances ( 2010/11 - 2017/18 ) . He is also the career leader for the Cleveland Cavaliers , for which he played a total of 11 seasons , in many important statistical categories like points , assists , rebounds , steals , and games played . The exclusive 30,0000 club – next member Kevin Durant ? In the history of the NBA , only seven players have scored more than 30,000 points . LeBron James is the only member of this group still playing in the NBA . Of all the players active in the league right now , Kevin Durant has the best chance to join that group at some point . The 30-year-old currently plays for the Golden State Warriors and needs about 7,000 points to reach the 30K mark – about four more full seasons of work . \"}, {'key': 'Platform Number of followers in millions Instagram 334.72 Cristiano Ronaldo 205.01 Ariana Grande 176.01 Dwayne Johnson (The Rock) 172.97 Selena Gomez 169.21 Kylie Jenner 163.8 Kim Kardashian West 161.07 Leo Messi 143.63 Beyoncé 141.49 Neymar Jr. 134.37', 'text': \"Footballer Cristiano Ronaldo heads the ranking of the most popular Instagram accounts . He is the most-followed person on the photo sharing app platform with almost 205 million followers . Instagram 's own account was ranked first with almost 334 million followers . Instagram is a photo-sharing social networking service that enables users to take pictures and edit them with filters . The platform allows users to post and share their images online and directly with their friends and followers on the social network . As of June 2018 , the cross-platform app reported more than 1 billion monthly active users . Currently , there are almost 105 million Instagram users in the United States and experts project this figure to surpass 130 million users in 2022 . Instagram audiences are predominantly young – recent U.S. data states that half of Instagram users are aged 34 years or younger . Spring 2018 data reveals that Instagram is also one of the second-most important social networks of teenage internet users and one of the most-visited social networks among teenagers in the United States . Brands are keen to reach Instagram audiences as users of the social network show high engagement rates with the displayed content . Sports content such as NBA and NFL , as well as sporting sites Bleacher Report and Barstool sports have highly engaged audiences on the platform and it is not uncommon for athletes to generate additional income with social media advertising . Unsurprisingly , Ronaldo ranks first again , as the average media value of one of his Instagram posts is 735,386 U.S. dollars . \"}, {'key': 'Team Super Bowl wins Pittsburgh Steelers 6 New England Patriots 6 San Francisco 49ers 5 Dallas Cowboys 5 Green Bay Packers 4 New York Giants 4 Denver Broncos 3 Washington Redskins 3 Los Angeles / Oakland Raiders 3 Baltimore / Indianapolis Colts 2 Kansas City Chiefs 2 Baltimore Ravens 2 Miami Dolphins 2 New York Jets 1 Tampa Bay Buccaneers 1 New Orleans Saints 1 Los Angeles / St. Louis Rams 1 Chicago Bears 1 Seattle Seahawks 1 Philadelphia Eagles 1', 'text': \"How many Super Bowls have been won per team ? The New England Patriots have won the Super Bowl six times , most recently Super Bowl LIII in February 2019 . Joining them at the top of this list is the Pittsburgh Steelers , whose most recent of their six titles came in 2009 . The franchise 's most successful period came between 1975 and 1980 , during which they claimed the title four times . The history of the big game The Super Bowl is the annual championship game of the National Football League ( NFL ) , pitting the champions of the NFL 's two conferences ( AFC and NFC ) against each other . The games were originally created as part of a merger agreement between the American Football League ( AFL ) and the National Football League , with the first Super Bowl being played on January 15 , 1967 , following the 1966 football season . To identify the games , successive Roman numerals are used leading up to the most recent Super Bowl in 2014 ( Super Bowl XLVIII ) . Super Bowl greats With six championships wins each , the Pittsburgh Steelers and the New England Patriots are the most successful NFL franchises in terms of Super Bows won . Of these two teams , the New England Patriots are the most recent champions , defeating the Los Angeles Rams in Super Bowl LIII in 2019 with a score of 13 - 3 . Winning Super Bowl LIII made Tom Brady the player with the most Super Bowl rings as players with a record setting sixth Super Bowl win . Charles Haley , who played from 1986 to 1999 , has the second-most Super Bowl rings with five . Notable players who have won four Super Bowl rings are Joe Montana , Bill Romanowski , Adam Vinatieri , Ronnie Lott , Matt Millen and Terry Bradshaw . In 2020 , Patrick Mahomes joined the illustrious list of quarterbacks to have won a Super Bowl ring . Having been 10 - 20 down to the San Francisco 49ers in the final quarter , the Kansas City Chiefs scored 21 unanswered points to claim their first Super Bowl victory in 50 years . Legendary quarterbacks While Tom Brady is certainly a legend of the game , he does not top the list of quarterbacks with the most passing yards in NFL history . This honor belongs to fellow quarterback legend , Drew Brees , who has thrown a total of over 74 thousand yards in his career . However , Brady is the undoubted master of the playoffs , having won a total of 30 playoff games during his career , almost double that of his closest rival on the list , Joe Montana . The Patriots quarterback is also peerless when it comes to total passing yards for the franchise – his over-70,000 yards are more than double those of Drew Bledsoe , who occupies second place on the Patriots ' all-time list . \"}, {'key': \"Ranking of the companies rank 1 to 100 Market value in billion U.S. dollars Apple 961.3 Microsoft 946.5 Amazon.com 916.1 Alphabet 863.2 Berkshire Hathaway 516.4 Facebook 512.0 Alibaba 480.8 Tencent Holdings 472.1 JPMorgan Chase 368.5 Johnson & Johnson 366.2 Visa 351.9 ExxonMobil 343.4 ICBC 305.1 Walmart 296.1 Bank of America 287.3 Nestlé 281.3 Samsung Electronics 272.4 Procter & Gamble 265.3 Royal Dutch Shell 264.9 Intel 263.1 Cisco Systems 248.3 Mastercard 247.1 Verizon Communications 239.7 Walt Disney 238.1 AT&T 233.3 Chevron 228.3 Home Depot 226.8 China Construction Bank 225.0 Nike 224.3 Taiwan Semiconductor 222.4 Roche Holding 222.0 Ping An Insurance Group 220.2 Pfizer 218.6 Wells Fargo 214.7 Boeing 214.5 UnitedHealth Group 212.8 Coca-Cola 203.0 PetroChina 198.7 China Mobile 197.6 Agricultural Bank of China 197.0 Comcast 192.0 Merck & Co. 189.1 Oracle 186.3 PepsiCo 178.2 Kweichow Moutai 177.1 Toyota Motor 176.6 Novartis 175.6 HSBC Holdings 175.5 Citigroup 161.1 Netflix 157.3 Unilever 153.6 L'Oréal Group 153.0 BP 149.5 Total 149.5 McDonald's 148.8 Bank of China 143.0 BHP Billiton 138.3 SAP 134.9 Adobe Systems 132.0 Philip Morris International 131.5 China Merchants Bank 130.4 Abbott Laboratories 129.8 Reliance Industries 126.4 Broadcom 126.1 3M 126.1 PayPal 125.8 Union Pacific 125.6 IBM 124.9 Honeywell International 123.1 AIA Group 122.2 Salesforce.com 120.9 Eli Lilly 119.3 United Technologies 118.1 Novo Nordisk 116.3 Tata Consultancy Services 116.1 Royal Bank of Canada 114.9 AbbVie 114.7 China Life Insurance 114.2 Accenture 113.9 NVIDIA 113.4 Medtronic 113.0 Softbank 112.4 Naspers 111.3 Amgen 109.3 Texas Instruments 108.4 Costco Wholesale 108.1 Sinopec 105.6 AIRBUS 104.9 Thermo Fisher Scientific 103.9 TD Bank Group 103.8 Allianz 102.3 Sanofi 102.0 Altria Group 101.8 Rio Tinto 100.0 Saudi Basic Industries 100.0 AstraZeneca 99.2 United Parcel Service 98.3 Linde 98.3 Inditex 98.0 Anheuser-Busch InBev 0.7\", 'text': \"With a market value of 961.3 billion U.S. dollars , Apple led the ranking of the world 's largest companies in 2018 . Some of the most recognizable companies in the world , Amazon , Alphabet ( Google ) , Microsoft , and Facebook followed closely behind , rounding out the top five . Apple also led the way in 2018 as the world 's most profitable company , with a net income of 59.4 billion U.S. dollars . Determining value Market value and market capitalization are two terms frequently heard when discussing the profitability and viability of companies . Put simply , market capitalization , or market cap , is the worth of a company based on stock price ; an important metric when determining value for potential trading opportunities . Market value , however , is what a company is worth in a much broader context and can change greatly depending on the business cycle . It is determined by multiple factors , including stockholder equity , corporate debt , and the market environment as a whole . The world 's top companies In fiscal year 2018 , Apple 's global revenue stood at 265.6 billion U.S. dollars , but somewhat surprisingly , did not manage to crack the top ten of companies with the largest revenue . The American multinational retailer Walmart led the way as the largest company in the world when considering revenue and employment . \"}, {'key': 'Video Game Share of playing time League of Legends 22.92% Counter-Strike: Global Offensive 6.88% Fallout 4 5.78% DOTA 2 5.09% World of Warcraft 4.82% World of Tanks 3.48% Hearthstone: Heroes of Warcraft 2.14% Minecraft 1.97% Smite 1.3% Grand Theft Auto V 1.29% Heroes of the Storm 1.16% ARK: Survival Evolved 1.15% Guild Wars 2 1.12% Star Wars:The Old Republic 1.1% Diablo III 1.08% StarCraft II 1.04% Spider Solitaire 0.89% Battlefield 4 0.8% Final Fantasy XIV Online 0.73% Call of Duty: Black Ops III 0.72%', 'text': \"The statistic presents the most-played PC games on the online gaming platform Raptr in November 2015 , by share of total time played . According to Raptr 's blog , 4.82 percent of all time spent gaming on their platform in November 2015 was dedicated to playing World of Warcraft . In the fourth quarter of 2014 , World of Warcraft gained more than 10 million subscribers , mostly owing to 'Warlords of Draenor ' expansion release in November 2014 . Data shows that WoW was also the second best selling PC game worldwide as of January 2017 . \"}, {'key': 'State Number of murder victims California 1739 Texas 1322 Florida 1107 Illinois 884 Pennsylvania 784 Georgia 642 North Carolina 628 Missouri 607 Ohio 564 New York 562 Michigan 551 Louisiana 530 Tennessee 498 Maryland 490 Indiana 438 South Carolina 392 Virginia 391 Alabama 383 Arizona 369 New Jersey 286 Kentucky 244 Washington 236 Arkansas 216 Colorado 210 Oklahoma 206 Nevada 202 Wisconsin 176 Mississippi 171 New Mexico 167 District of Columbia 160 Massachusetts 136 Kansas 113 Minnesota 106 Connecticut 83 Oregon 82 West Virginia 67 Utah 60 Iowa 54 Delaware 48 Alaska 47 Nebraska 44 Hawaii 36 Idaho 35 Montana 34 Maine 24 New Hampshire 21 North Dakota 18 Rhode Island 16 Wyoming 13 South Dakota 12 Vermont 10', 'text': \"This statistic displays the number of murders in the United States by state . Data includes murder and nonnegligent manslaughter . In 2018 , the number of murders in California amounted to 1,739 victims . Murder in the United States Violent crime statistics , particularly murder and homicide data , provide key insights into law enforcement in the United States and inform national debate surrounding crime policies . There were a total of 16,214 reported murder and non-negligent manslaughter cases in the U.S. in 2018 . Although the number of cases has declined in the past twenty years , when viewed in international comparison , the U.S. murder rate is still high . In 2012 , Germany 's murder rate stood at 0.8 , compared to 4.7 in the United States . The most dangerous U.S. state in 2018 , if measured by the number of murders per hundred thousand inhabitants , was Louisiana . The murder and non-negligent manslaughter rate in Louisiana came to 11.4 that year , more than twice the national average . The least dangerous state in 2018 , on the other hand , was South Dakota , with a murder rate of 1.4 . Murder , homicide and violent crime statistics regularly influence America 's current political debate on gun law . Under the Second Amendment , U.S. citizens are entitled to own and carry firearms , though gun control and regulation laws are hotly contested . The amount of firearms in circulation in the U.S. is fairly high , when compared with European countries . About 43 percent of American households have a gun in their home . Though any causal connection between firearm circulation and homicide rate is purely speculative , murder by firearm is nonetheless high . About 63 percent of murders and non-negligent manslaughter cases in the U.S. were carried out using a firearm , including handguns , rifles , and shotguns . This number sums up to 10,265 murders by firearm . The ranking of the most dangerous cities in the world based on murder rate per capita can be accessed here . \"}, {'key': 'Year Subscribers in millions 2023* 4.46 2022* 4.59 2021* 4.74 2020* 4.88 2019* 5.03 2018* 5.19 2017* 5.42 2016* 5.67 2015 5.5', 'text': \"How many people play World of Warcraft ? In 2015 , when Activision Blizzard last reported on WoW 's subscriptions , the game had 5.5 million global subscribers . It is projected that the numbers will be gradually decreasing to reach 4.46 million in 2023 . The game reached the peak of its popularity in the second half of 2010 , when Activision Blizzard 's estimates put the global number of WoW subscribers at 12 million . Before that , the number had been climbing steadily from 1.5 million in the first quarter of 2005 , exceeding five million in the fourth quarter of 2006 and 10 million in the fourth quarter of 2007 . In 2011 , the figures started falling and by the first quarter of 2014 , they decreased to the 2006 level . World of Warcraft history World of Warcraft is the fourth in the series of games published by Blizzard Entertainment , after `` Orcs & Humans , '' `` Tides of Darkness , '' and `` The Frozen Throne . '' It was released in late November 2004 ; the date was not arbitrary – the release celebrated the 10th anniversary of the whole franchise . As of August 2018 , seven expansions to the game had been released , with the fifth – `` Warlords of Draenor '' – having appeared on the market in fall 2014 . Within the first day of its release , the expansion pack sold 3.3 million copies , as did the sixth expansion - Legion . The main appeal of the series is the possibility for players to transform into many different creatures , so called races , yet most still choose to be human.World of Warcraft players The massively multiplayer online role-playing game has gained a legion of fans across the world , but it appears that it has become particularly popular in some parts of Europe . Three Scandinavian countries took up the top three places in terms of share of WoW 's player base , with Sweden accounting for 19.6 percent of the WoW core gamer player base . However , Activision Blizzard still generates the largest share of its revenue in the Americas , with the EMEA region coming in a close second . For the first time in 2018 , the revenues in the Asia Pacific region topped one billion dollars , suggesting that the popularity of games such as World of Warcraft show no signs of slowing down . \"}, {'key': 'Platform Number of active users in millions Facebook 2449 YouTube 2000 WhatsApp* 1600 Facebook Messenger* 1300 Weixin / WeChat 1151 Instagram* 1000 Douyin / Tik Tok 800 QQ 731 QZone 517 Sina Weibo 497 Reddit 430 Snapchat** 382 Twitter** 340 Pinterest 322 Kuaishou 316', 'text': 'This statistic provides information on the most popular networks worldwide as of January 2020 , ranked by number of active accounts . Market leader Facebook was the first social network to surpass 1 billion registered accounts and currently sits at almost 2.45 billion monthly active users . Sixth-ranked photo-sharing app Instagram had 1 billion monthly active accounts . Social networks The leading social networks are usually available in multiple languages and enable users to connect with friends or people across geographical , political or economic borders . Approximately 2 billion internet users are using social networks and these figures are still expected to grow as mobile device usage and mobile social networks increasingly gain traction . The most popular social networks usually display a high number of user accounts or strong user engagement . For example , market leader Facebook was the first social network to surpass 1 billion monthly active users , whereas recent newcomer Pinterest was the fastest independently launched site to reach 10 million unique monthly visitors . The majority of social networks with more than 100 million users originated in the United States , but European services like VK or Chinese social networks Qzone and Renren have also garnered mainstream appeal in their areas due to local context and content . Social network usage by consumers is highly diverse : platforms such as Facebook or Google+ are highly focused on exchanges between friends and family and are constantly pushing interaction through features like photo or status sharing and social games . Other social networks like Tumblr or Twitter are all about rapid communication and are aptly termed microblogs . Some social networks focus on community ; others highlight and display user-generated content . Due to a constant presence in the lives of their users , social networks have a decidedly strong social impact . The blurring between offline and virtual life as well as the concept of digital identity and online social interactions are some of the aspects that have emerged in recent discussions . '}, {'key': 'Month Number of Grand Slam victories Roger Federer (SUI) 20 Rafael Nadal (ESP) 19 Novak Djokovic (SRB) 17 Pete Sampras (USA) 14 Roy Emerson (AUS) 12 Björn Borg (SWE) 11 Rodney Laver (AUS) 11 William Tilden (USA) 10 Frederick Perry (ENG) 8 Andre Agassi (USA) 8 James Connors (USA) 8 Kenneth Rosewall (AUS) 8 Ivan Lendl (CZE/USA) 8 Henri Cochet (FRA) 8 Max Décugis (FRA) 8', 'text': \"The statistic depicts the tennis players with the most Grand Slam tournament titles . Roger Federer has won the most Grand Slam titles , most recently the Australian Open in 2018 , with a total of 20 . He has also consistently ranked amongst the top tennis players in the ATP Rankings throughout his career . Most Grand Slam wins - additional information The Grand Slam tournaments , also known as the majors , are the four most important annual tennis tournaments . The Australian Open ( played on hard court ) is the first major of the year , taking place in mid-January , followed by French Open ( played on clay ) in May/June . Wimbledon , the only of the four majors to be played on grass , takes place in June/July , and the Grand Slam seasons finishes with the US Open ( hard court ) played in August/September . Roger Federer has won a record-breaking 20 Grand Slam titles , including five consecutive victories at Wimbledon from 2003 to 2007 , matching a feat otherwise only achieved by Björn Borg ( 1976 - 80 and 11 total Grand Slam titles ) in the Open Era . Federer also won five consecutive titles at the US Open from 2004 to 2008 , breaking the previous record of three consecutive titles achieved by Ivan Lendl and John McEnroe . With his victory at Wimbledon in 2009 , Federer gained his 15th Grand Slam title and thus broke the record of 14 previously held by Pete Sampras . Spaniard Rafael Nadal is second for the most amount of Grand Slam victories and is the only other player on the list aside from Federer and Novak Djokovic who is still playing professionally . Nadal holds the honor of being the only player to have won five consecutive titles at the French Open ( 2010 to 2014 ) following the four consecutive titles he won there from 2005 to 2008 . By winning his ninth French Open title in 2014 , Nadal became the first male to win nine major titles at a Grand Slam event , which is only equaled by Martina Navratilova 's nine victories at Wimbledon Nadal also holds the record for being the youngest player to win all four majors at the age of 24 and remains the only player to win one Grand Slam or more for 10 consecutive years . \"}]\n"
          ]
        }
      ]
    },
    {
      "cell_type": "code",
      "metadata": {
        "colab": {
          "base_uri": "https://localhost:8080/",
          "height": 329,
          "referenced_widgets": [
            "253b922d9b5447479bae6ac0a92d3c77",
            "e1a750371e93443baa24f9365ad2c2a5",
            "32ed0c75405b4e639330c945d46a39b3",
            "9640b67a5263467791951d774d6f6989",
            "3b20c64920de4db8b214b671ce45978b",
            "76caaa417d5740a4bbc5524614a9a400",
            "5b3cd4d06fd040769e47043f19be621a",
            "f81501b3aab345b2b265cc76faf1b3a4",
            "f8f921c5627946829a558cbf48f2b73e",
            "482a0493b0d641a6a0545a27076b8235",
            "740815dfeacb48718d9f4244d4104e9a"
          ]
        },
        "id": "wUT9392IR3MZ",
        "outputId": "752bce1c-1013-42e1-ef8b-7fe292aa581c"
      },
      "source": [
        "from datasets import load_dataset\n",
        "\n",
        "dataset = load_dataset(\"code_x_glue_ct_code_to_text\", \"ruby\")\n",
        "print(dataset)"
      ],
      "execution_count": 84,
      "outputs": [
        {
          "output_type": "stream",
          "name": "stderr",
          "text": [
            "WARNING:datasets.builder:Found cached dataset code_x_glue_ct_code_to_text (/root/.cache/huggingface/datasets/code_x_glue_ct_code_to_text/ruby/0.0.0/f8b7e9d51f609a87e7ec7c7431706d4ee0b402e3398560410313d4acc67060a0)\n"
          ]
        },
        {
          "output_type": "display_data",
          "data": {
            "text/plain": [
              "  0%|          | 0/3 [00:00<?, ?it/s]"
            ],
            "application/vnd.jupyter.widget-view+json": {
              "version_major": 2,
              "version_minor": 0,
              "model_id": "253b922d9b5447479bae6ac0a92d3c77"
            }
          },
          "metadata": {}
        },
        {
          "output_type": "stream",
          "name": "stdout",
          "text": [
            "DatasetDict({\n",
            "    train: Dataset({\n",
            "        features: ['id', 'repo', 'path', 'func_name', 'original_string', 'language', 'code', 'code_tokens', 'docstring', 'docstring_tokens', 'sha', 'url'],\n",
            "        num_rows: 24927\n",
            "    })\n",
            "    validation: Dataset({\n",
            "        features: ['id', 'repo', 'path', 'func_name', 'original_string', 'language', 'code', 'code_tokens', 'docstring', 'docstring_tokens', 'sha', 'url'],\n",
            "        num_rows: 1400\n",
            "    })\n",
            "    test: Dataset({\n",
            "        features: ['id', 'repo', 'path', 'func_name', 'original_string', 'language', 'code', 'code_tokens', 'docstring', 'docstring_tokens', 'sha', 'url'],\n",
            "        num_rows: 1261\n",
            "    })\n",
            "})\n"
          ]
        }
      ]
    },
    {
      "cell_type": "code",
      "source": [
        "print(type(dataset['train'][0]['code']))\n",
        "print(dataset['train'][0]['code'])\n",
        "print(type(dataset['train'][0]))\n",
        "print(dataset['train'][0])\n",
        "print(type(dataset['train']))\n",
        "print(dataset['train'])\n",
        "print(type(dataset))\n",
        "print(dataset)"
      ],
      "metadata": {
        "colab": {
          "base_uri": "https://localhost:8080/"
        },
        "id": "6SYhRe5c2p1j",
        "outputId": "06ec48c2-a285-4de8-f790-8111ff00861a"
      },
      "execution_count": 93,
      "outputs": [
        {
          "output_type": "stream",
          "name": "stdout",
          "text": [
            "<class 'str'>\n",
            "def render_body(context, options)\n",
            "      if options.key?(:partial)\n",
            "        [render_partial(context, options)]\n",
            "      else\n",
            "        StreamingTemplateRenderer.new(@lookup_context).render(context, options)\n",
            "      end\n",
            "    end\n",
            "<class 'dict'>\n",
            "{'id': 0, 'repo': 'rails/rails', 'path': 'actionview/lib/action_view/renderer/renderer.rb', 'func_name': 'ActionView.Renderer.render_body', 'original_string': 'def render_body(context, options)\\n      if options.key?(:partial)\\n        [render_partial(context, options)]\\n      else\\n        StreamingTemplateRenderer.new(@lookup_context).render(context, options)\\n      end\\n    end', 'language': 'ruby', 'code': 'def render_body(context, options)\\n      if options.key?(:partial)\\n        [render_partial(context, options)]\\n      else\\n        StreamingTemplateRenderer.new(@lookup_context).render(context, options)\\n      end\\n    end', 'code_tokens': ['def', 'render_body', '(', 'context', ',', 'options', ')', 'if', 'options', '.', 'key?', '(', ':partial', ')', '[', 'render_partial', '(', 'context', ',', 'options', ')', ']', 'else', 'StreamingTemplateRenderer', '.', 'new', '(', '@lookup_context', ')', '.', 'render', '(', 'context', ',', 'options', ')', 'end', 'end'], 'docstring': 'Render but returns a valid Rack body. If fibers are defined, we return\\n a streaming body that renders the template piece by piece.\\n\\n Note that partials are not supported to be rendered with streaming,\\n so in such cases, we just wrap them in an array.', 'docstring_tokens': ['Render', 'but', 'returns', 'a', 'valid', 'Rack', 'body', '.', 'If', 'fibers', 'are', 'defined', 'we', 'return', 'a', 'streaming', 'body', 'that', 'renders', 'the', 'template', 'piece', 'by', 'piece', '.'], 'sha': '85a8bc644be69908f05740a5886ec19cd3679df5', 'url': 'https://github.com/rails/rails/blob/85a8bc644be69908f05740a5886ec19cd3679df5/actionview/lib/action_view/renderer/renderer.rb#L38-L44'}\n",
            "<class 'datasets.arrow_dataset.Dataset'>\n",
            "Dataset({\n",
            "    features: ['id', 'repo', 'path', 'func_name', 'original_string', 'language', 'code', 'code_tokens', 'docstring', 'docstring_tokens', 'sha', 'url'],\n",
            "    num_rows: 24927\n",
            "})\n",
            "<class 'datasets.dataset_dict.DatasetDict'>\n",
            "DatasetDict({\n",
            "    train: Dataset({\n",
            "        features: ['id', 'repo', 'path', 'func_name', 'original_string', 'language', 'code', 'code_tokens', 'docstring', 'docstring_tokens', 'sha', 'url'],\n",
            "        num_rows: 24927\n",
            "    })\n",
            "    validation: Dataset({\n",
            "        features: ['id', 'repo', 'path', 'func_name', 'original_string', 'language', 'code', 'code_tokens', 'docstring', 'docstring_tokens', 'sha', 'url'],\n",
            "        num_rows: 1400\n",
            "    })\n",
            "    test: Dataset({\n",
            "        features: ['id', 'repo', 'path', 'func_name', 'original_string', 'language', 'code', 'code_tokens', 'docstring', 'docstring_tokens', 'sha', 'url'],\n",
            "        num_rows: 1261\n",
            "    })\n",
            "})\n"
          ]
        }
      ]
    },
    {
      "cell_type": "markdown",
      "metadata": {
        "id": "1UAZ7UPCU-uk"
      },
      "source": [
        "As you can see, the \"code-to-text/ruby\" split consists of a training, validation and test set. Let's look at one particular example:"
      ]
    },
    {
      "cell_type": "code",
      "metadata": {
        "colab": {
          "base_uri": "https://localhost:8080/"
        },
        "id": "cdpm7pHoU7t1",
        "outputId": "0a9315e6-a0a9-499d-f242-fecbca950cc3"
      },
      "source": [
        "example = dataset['train'][0]\n",
        "\n",
        "print(\"Code:\", example[\"code\"], type(example))\n",
        "print(\"Docstring:\", example[\"docstring\"])"
      ],
      "execution_count": 36,
      "outputs": [
        {
          "output_type": "stream",
          "name": "stdout",
          "text": [
            "Code: def render_body(context, options)\n",
            "      if options.key?(:partial)\n",
            "        [render_partial(context, options)]\n",
            "      else\n",
            "        StreamingTemplateRenderer.new(@lookup_context).render(context, options)\n",
            "      end\n",
            "    end <class 'dict'>\n",
            "Docstring: Render but returns a valid Rack body. If fibers are defined, we return\n",
            " a streaming body that renders the template piece by piece.\n",
            "\n",
            " Note that partials are not supported to be rendered with streaming,\n",
            " so in such cases, we just wrap them in an array.\n"
          ]
        }
      ]
    },
    {
      "cell_type": "markdown",
      "metadata": {
        "id": "56tFfwcdn4A_"
      },
      "source": [
        "The goal for the model is to generate a docstring based on the provided code. \n",
        "\n",
        "Let's now prepare the examples (i.e. code-docstring pairs) for the model. As you might know, Transformer models like BERT, BART, T5 etc. don't expect text as direct input, but rather integers which are called `input_ids` in HuggingFace Transformers. These represent tokens of a certain vocabulary. The model will learn rich contextual embedding vectors for each token, allowing it to get good results.\n",
        "\n",
        "In other words, we need to turn the \"Code\" input from above into `input_ids`, and similarly, we need to turn the \"Docstring\" output from above into `input_ids`, which will serve as the `labels` for the model.\n",
        "\n",
        "In addition, as these models are trained on batches of examples rather than one example at a time, we'll need to pad/truncate both the inputs and labels, such that they are all of the same length. That's why we also will add an `attention_mask` input to the model, such that it knows not to take into account padding tokens when computing attention scores.\n",
        "\n",
        "To summarize: \n",
        "* input: code, which is turned into `input_ids` + `attention_mask`\n",
        "* output: docstrings, which are turned into `labels` (which are the `input_ids` of the docstrings).\n",
        "\n",
        "Below, we define a `preprocess_examples` function, which we can apply on the entire dataset. "
      ]
    },
    {
      "cell_type": "code",
      "source": [
        "print(example['code'])"
      ],
      "metadata": {
        "colab": {
          "base_uri": "https://localhost:8080/"
        },
        "id": "LroiQLBavhj2",
        "outputId": "688a7c0e-29b4-44d9-d74d-a79f5bd703ac"
      },
      "execution_count": 75,
      "outputs": [
        {
          "output_type": "stream",
          "name": "stdout",
          "text": [
            "def render_body(context, options)\n",
            "      if options.key?(:partial)\n",
            "        [render_partial(context, options)]\n",
            "      else\n",
            "        StreamingTemplateRenderer.new(@lookup_context).render(context, options)\n",
            "      end\n",
            "    end\n"
          ]
        }
      ]
    },
    {
      "cell_type": "code",
      "metadata": {
        "id": "wvRHDkCIS91f"
      },
      "source": [
        "from transformers import AutoTokenizer, AutoModelWithLMHead\n",
        "\n",
        "tokenizer = AutoTokenizer.from_pretrained(\"gagan3012/k2t\")\n",
        "\n",
        "prefix = \"Text generation: \"\n",
        "max_input_length = 256\n",
        "max_target_length = 128\n",
        "\n",
        "def preprocess_examples(examples):\n",
        "  # encode the code-docstring pairs\n",
        "  codes = examples['key']\n",
        "  docstrings = examples['text']\n",
        "  \n",
        "  inputs = [prefix + code for code in codes]\n",
        "  model_inputs = tokenizer(inputs, max_length=max_input_length, padding=\"max_length\", truncation=True)\n",
        "\n",
        "  # encode the summaries\n",
        "  labels = tokenizer(docstrings, max_length=max_target_length, padding=\"max_length\", truncation=True).input_ids\n",
        "\n",
        "  # important: we need to replace the index of the padding tokens by -100\n",
        "  # such that they are not taken into account by the CrossEntropyLoss\n",
        "  labels_with_ignore_index = []\n",
        "  for labels_example in labels:\n",
        "    labels_example = [label if label != 0 else -100 for label in labels_example]\n",
        "    labels_with_ignore_index.append(labels_example)\n",
        "  \n",
        "  model_inputs[\"labels\"] = labels_with_ignore_index\n",
        "\n",
        "  return model_inputs"
      ],
      "execution_count": 99,
      "outputs": []
    },
    {
      "cell_type": "code",
      "source": [
        "'''def preprocess_examples(A, B):\n",
        "  # encode the code-docstring pairs\n",
        "  codes = A[0]\n",
        "  docstrings = B[0]\n",
        "  \n",
        "  inputs = [prefix + code for code in codes]\n",
        "  model_inputs = tokenizer(inputs, max_length=max_input_length, padding=\"max_length\", truncation=True)\n",
        "\n",
        "  # encode the summaries\n",
        "  labels = tokenizer(docstrings, max_length=max_target_length, padding=\"max_length\", truncation=True).input_ids\n",
        "\n",
        "  # important: we need to replace the index of the padding tokens by -100\n",
        "  # such that they are not taken into account by the CrossEntropyLoss\n",
        "  labels_with_ignore_index = []\n",
        "  for labels_example in labels:\n",
        "    labels_example = [label if label != 0 else -100 for label in labels_example]\n",
        "    labels_with_ignore_index.append(labels_example)\n",
        "  \n",
        "  model_inputs[\"labels\"] = labels_with_ignore_index\n",
        "\n",
        "  return model_inputs'''"
      ],
      "metadata": {
        "id": "811XjfQnvzSE"
      },
      "execution_count": 80,
      "outputs": []
    },
    {
      "cell_type": "markdown",
      "metadata": {
        "id": "SP2fCGi5quHg"
      },
      "source": [
        "Now that we have defined the function, let's call `.map()` on the HuggingFace Dataset object, which allows us to apply this function in batches (by default a batch size of 1,000 is used!) - hence super fast."
      ]
    },
    {
      "cell_type": "code",
      "source": [
        "from datasets import load_dataset\n",
        "\n",
        "dataset = load_dataset(\"json\", data_files=\"data-train.json\", field=\"data\")"
      ],
      "metadata": {
        "colab": {
          "base_uri": "https://localhost:8080/",
          "height": 217,
          "referenced_widgets": [
            "d2fee8797d384496b7553a7f37d8a384",
            "6c05b10b3bd54ec6843a40af711980a6",
            "5e65516fb50149d6bf5008ff913c2a8e",
            "fe93e202086f40d1a6488f1609fd0bca",
            "0b4e4205be2e4b7a9a856acfd884c0a2",
            "3812d9b217ac4a748247dd0303b38fbf",
            "8d16c94be48b4e1997b739a479d78de7",
            "132ebf1d07134584b4670688d8cae2ea",
            "ac058c2401694158863290da11643886",
            "4fc1a56b3ea541febb02caed58a1fa30",
            "793832e373244f2ab9809532a0efff87",
            "f6b5f73d720f42e0bbff20397484cae3",
            "229ed48593684ba3bee2e2fff1763d49",
            "55184065361c47f5b3889dbd1149d158",
            "f8ee64cef5f74f0ba8ac058f5db7db7c",
            "93a139bc82614339a3d5303e44cfb4d6",
            "5378887c48484f5ea03de350c81e2c5d",
            "dde112663c474be4bcf133905a54a306",
            "612c3975b88f4fb59502182ccd9325c9",
            "58d869a646b54683a128288cca93018b",
            "ddbcde74202c4d56881692d454aca86a",
            "f378f3fda04f4294ab4029fd494f9036",
            "8db17c8b3cb74816ab0adee005212a54",
            "26463252a6d14ac99120132f3424b921",
            "a01724b1aaa94b40beaa5863e96bfa21",
            "1c918763e0064ac29eb6973620a5c50f",
            "17684fe39b064d2496cfbab209b8abc8",
            "7fb719c48a0a4028b802f8201a43aaac",
            "7394ec9f5b97414892cc61aef51bf616",
            "b606861901e9465685bb60ff9f11432b",
            "5591d318abcc478c8787ed99f7f4bc51",
            "27fe9963d8054c828e58457efb01879f",
            "4824211b4b8049a7a59b5f5aff6242e3",
            "4c093ed84abe46d7b0bbad679b710f57",
            "eb136572953f49629678b1cf362da51c",
            "cd17d9be3eef4d1bbafebcca2be77599",
            "61b8c53dc0f94bbb9b88d54583eb1b7c",
            "d219899daf4c407e8485f475c105c7c7",
            "5b1bdd76c41647aeb4843d7505d76e52",
            "e5e20bffa4394cf1acf353da4c3fcef0",
            "44236afb48354288a76d170b24b7fce4",
            "93046b750a4844e88f5d6ced70cc86f8",
            "83fe88a6886547008c864656be0a661b",
            "3e3c6555d78f4aa9b516251ad7843773"
          ]
        },
        "id": "aXxUz2TjJArF",
        "outputId": "3e650cca-0707-437b-a0d9-1976ba4b74fe"
      },
      "execution_count": 94,
      "outputs": [
        {
          "output_type": "stream",
          "name": "stderr",
          "text": [
            "WARNING:datasets.builder:Using custom data configuration default-232849c84107e3fc\n"
          ]
        },
        {
          "output_type": "stream",
          "name": "stdout",
          "text": [
            "Downloading and preparing dataset json/default to /root/.cache/huggingface/datasets/json/default-232849c84107e3fc/0.0.0/0f7e3662623656454fcd2b650f34e886a7db4b9104504885bd462096cc7a9f51...\n"
          ]
        },
        {
          "output_type": "display_data",
          "data": {
            "text/plain": [
              "Downloading data files:   0%|          | 0/1 [00:00<?, ?it/s]"
            ],
            "application/vnd.jupyter.widget-view+json": {
              "version_major": 2,
              "version_minor": 0,
              "model_id": "d2fee8797d384496b7553a7f37d8a384"
            }
          },
          "metadata": {}
        },
        {
          "output_type": "display_data",
          "data": {
            "text/plain": [
              "Extracting data files:   0%|          | 0/1 [00:00<?, ?it/s]"
            ],
            "application/vnd.jupyter.widget-view+json": {
              "version_major": 2,
              "version_minor": 0,
              "model_id": "f6b5f73d720f42e0bbff20397484cae3"
            }
          },
          "metadata": {}
        },
        {
          "output_type": "display_data",
          "data": {
            "text/plain": [
              "Generating train split: 0 examples [00:00, ? examples/s]"
            ],
            "application/vnd.jupyter.widget-view+json": {
              "version_major": 2,
              "version_minor": 0,
              "model_id": "8db17c8b3cb74816ab0adee005212a54"
            }
          },
          "metadata": {}
        },
        {
          "output_type": "stream",
          "name": "stdout",
          "text": [
            "Dataset json downloaded and prepared to /root/.cache/huggingface/datasets/json/default-232849c84107e3fc/0.0.0/0f7e3662623656454fcd2b650f34e886a7db4b9104504885bd462096cc7a9f51. Subsequent calls will reuse this data.\n"
          ]
        },
        {
          "output_type": "display_data",
          "data": {
            "text/plain": [
              "  0%|          | 0/1 [00:00<?, ?it/s]"
            ],
            "application/vnd.jupyter.widget-view+json": {
              "version_major": 2,
              "version_minor": 0,
              "model_id": "4c093ed84abe46d7b0bbad679b710f57"
            }
          },
          "metadata": {}
        }
      ]
    },
    {
      "cell_type": "code",
      "metadata": {
        "colab": {
          "base_uri": "https://localhost:8080/",
          "height": 49,
          "referenced_widgets": [
            "94a49e857d53425c8225dfba2bf2ae3e",
            "6da10e824cee4d3bb3c2439a8ca2f556",
            "9eddce11e4ff495f9e162e68fcd5717b",
            "f607b17f3447499c9203b5f63188408e",
            "44fb3bf8766448289d4ac6ee2df36698",
            "6c5e375ba48042a48129b79c9943fee9",
            "c638742b83594accade9d8a385104dc9",
            "b5935f68a9d5419da85bd122b09dfed8",
            "4504ae63b5f84def873110356956f525",
            "5a2ff1c203b146d98867eb6d69cb618e",
            "d1247a8c8f2244be824209aa7bd5e14b"
          ]
        },
        "id": "S2lYwT-ZWMk0",
        "outputId": "dcaf42d6-2a02-4ad6-c2a3-d3f1e0ee5daa"
      },
      "source": [
        "tokenizer.pad_token = tokenizer.eos_token\n",
        "\n",
        "dataset = dataset.map(preprocess_examples, batched=True)"
      ],
      "execution_count": 100,
      "outputs": [
        {
          "output_type": "display_data",
          "data": {
            "text/plain": [
              "  0%|          | 0/1 [00:00<?, ?ba/s]"
            ],
            "application/vnd.jupyter.widget-view+json": {
              "version_major": 2,
              "version_minor": 0,
              "model_id": "94a49e857d53425c8225dfba2bf2ae3e"
            }
          },
          "metadata": {}
        }
      ]
    },
    {
      "cell_type": "code",
      "metadata": {
        "colab": {
          "base_uri": "https://localhost:8080/"
        },
        "id": "nevKo-Sob21L",
        "outputId": "ad376a00-4505-49e5-f18c-96a29101f29b"
      },
      "source": [
        "dataset"
      ],
      "execution_count": 101,
      "outputs": [
        {
          "output_type": "execute_result",
          "data": {
            "text/plain": [
              "DatasetDict({\n",
              "    train: Dataset({\n",
              "        features: ['key', 'text', 'input_ids', 'attention_mask', 'labels'],\n",
              "        num_rows: 2\n",
              "    })\n",
              "})"
            ]
          },
          "metadata": {},
          "execution_count": 101
        }
      ]
    },
    {
      "cell_type": "markdown",
      "metadata": {
        "id": "9mSM2_eDalx-"
      },
      "source": [
        "Next, let's set the format to \"torch\" and create PyTorch dataloaders."
      ]
    },
    {
      "cell_type": "code",
      "metadata": {
        "id": "gq2-xLG_alXH"
      },
      "source": [
        "from torch.utils.data import DataLoader\n",
        "\n",
        "dataset.set_format(type=\"torch\", columns=['input_ids', 'attention_mask', 'labels'])\n",
        "train_dataloader = DataLoader(dataset['train'], shuffle=True, batch_size=8)\n",
        "valid_dataloader = DataLoader(dataset['validation'], batch_size=4)\n",
        "test_dataloader = DataLoader(dataset['test'], batch_size=4)"
      ],
      "execution_count": 40,
      "outputs": []
    },
    {
      "cell_type": "code",
      "metadata": {
        "colab": {
          "base_uri": "https://localhost:8080/"
        },
        "id": "6y0l7v8obmml",
        "outputId": "051be6e4-1249-40f4-d19a-4a7cc8b3faa8"
      },
      "source": [
        "batch = next(iter(train_dataloader))\n",
        "print(batch.keys())"
      ],
      "execution_count": 41,
      "outputs": [
        {
          "output_type": "stream",
          "name": "stdout",
          "text": [
            "dict_keys(['input_ids', 'attention_mask', 'labels'])\n"
          ]
        }
      ]
    },
    {
      "cell_type": "markdown",
      "metadata": {
        "id": "YH4MIhxFc2BR"
      },
      "source": [
        "Let's verify an example, by decoding it back into text:"
      ]
    },
    {
      "cell_type": "code",
      "metadata": {
        "colab": {
          "base_uri": "https://localhost:8080/",
          "height": 140
        },
        "id": "jsqjA1OHcn5V",
        "outputId": "0ac94bb3-a183-48a5-eaa2-02b98f5e972f"
      },
      "source": [
        "tokenizer.decode(batch['input_ids'][0])"
      ],
      "execution_count": 42,
      "outputs": [
        {
          "output_type": "execute_result",
          "data": {
            "text/plain": [
              "\"Text generation: def consume_component_value(input = @tokens) return nil unless token = input.consume case token[:node] when :'<unk>', :'[', :'(' consume_simple_block(input) when :function if token.key?(:name) # This is a parsed function, not a function token. This step isn't # mentioned in the spec, but it's necessary to avoid re-parsing # functions that have already been parsed. token else consume_function(input) end else token end end</s><pad><pad><pad><pad><pad><pad><pad><pad><pad><pad><pad><pad><pad><pad><pad><pad><pad><pad><pad><pad><pad><pad><pad><pad><pad><pad><pad><pad><pad><pad><pad><pad><pad><pad><pad><pad><pad><pad><pad><pad><pad><pad><pad><pad><pad><pad><pad><pad><pad><pad><pad><pad><pad><pad><pad><pad><pad><pad><pad><pad><pad><pad><pad><pad><pad><pad><pad><pad><pad><pad><pad><pad><pad><pad><pad><pad><pad><pad><pad><pad><pad><pad><pad><pad><pad><pad><pad><pad><pad><pad><pad><pad><pad><pad><pad><pad><pad><pad><pad><pad><pad><pad><pad><pad><pad><pad><pad>\""
            ],
            "application/vnd.google.colaboratory.intrinsic+json": {
              "type": "string"
            }
          },
          "metadata": {},
          "execution_count": 42
        }
      ]
    },
    {
      "cell_type": "code",
      "metadata": {
        "colab": {
          "base_uri": "https://localhost:8080/",
          "height": 53
        },
        "id": "sYQWyCDzcqzh",
        "outputId": "234dbefe-2aba-4dad-c769-2809a839f623"
      },
      "source": [
        "labels = batch['labels'][0]\n",
        "tokenizer.decode([label for label in labels if label != -100])"
      ],
      "execution_count": 43,
      "outputs": [
        {
          "output_type": "execute_result",
          "data": {
            "text/plain": [
              "'Consumes a component value and returns it, or <unk>nil<unk> if there are no more tokens. 5.4.6. http://dev.w3.org/csswg/css-syntax-3/#consume-a-component-value</s>'"
            ],
            "application/vnd.google.colaboratory.intrinsic+json": {
              "type": "string"
            }
          },
          "metadata": {},
          "execution_count": 43
        }
      ]
    },
    {
      "cell_type": "markdown",
      "metadata": {
        "id": "MOxapqxzS0PO"
      },
      "source": [
        "## Fine-tune using PyTorch Lightning\n",
        "\n",
        "As we will train the model using PyTorch Lightning, we first need to define a `LightningModule`, which is an `nn.Module` with some additional functionalities. We just need to define the `forward` pass, `training_step` (and optionally `validation_step` and `test_step`), and the corresponding dataloaders. PyTorch Lightning will then automate the training for us, handling device placement (i.e. we don't need to type `.to(device)` anywhere), etc. It also comes with support for loggers (such as Tensorboard, Weights and Biases) and callbacks.\n",
        "\n",
        "Of course, you could also train the model in other ways:\n",
        "* using regular PyTorch\n",
        "* using the HuggingFace Trainer (in this case, the Seq2SeqTrainer)\n",
        "* using HuggingFace Accelerate\n",
        "* etc."
      ]
    },
    {
      "cell_type": "code",
      "metadata": {
        "id": "RuHlP1MuR_tJ"
      },
      "source": [
        "from transformers import T5ForConditionalGeneration, AdamW, get_linear_schedule_with_warmup\n",
        "import pytorch_lightning as pl\n",
        "\n",
        "class CodeT5(pl.LightningModule):\n",
        "    def __init__(self, lr=5e-5, num_train_epochs=3, warmup_steps=100):\n",
        "        super().__init__()\n",
        "        self.model = AutoModelWithLMHead.from_pretrained(\"gagan3012/k2t-tiny\")\n",
        "        self.save_hyperparameters()\n",
        "\n",
        "    def forward(self, input_ids, attention_mask, labels=None):     \n",
        "        outputs = self.model(input_ids=input_ids, attention_mask=attention_mask, labels=labels)\n",
        "        return outputs\n",
        "    \n",
        "    def common_step(self, batch, batch_idx):\n",
        "        outputs = self(**batch)\n",
        "        loss = outputs.loss\n",
        "\n",
        "        return loss\n",
        "      \n",
        "    def training_step(self, batch, batch_idx):\n",
        "        loss = self.common_step(batch, batch_idx)     \n",
        "        # logs metrics for each training_step,\n",
        "        # and the average across the epoch\n",
        "        self.log(\"training_loss\", loss)\n",
        "\n",
        "        return loss\n",
        "\n",
        "    def validation_step(self, batch, batch_idx):\n",
        "        loss = self.common_step(batch, batch_idx)     \n",
        "        self.log(\"validation_loss\", loss, on_epoch=True)\n",
        "\n",
        "        return loss\n",
        "\n",
        "    def test_step(self, batch, batch_idx):\n",
        "        loss = self.common_step(batch, batch_idx)     \n",
        "\n",
        "        return loss\n",
        "\n",
        "    def configure_optimizers(self):\n",
        "        # create optimizer\n",
        "        optimizer = AdamW(self.parameters(), lr=self.hparams.lr)\n",
        "        # create learning rate scheduler\n",
        "        num_train_optimization_steps = self.hparams.num_train_epochs * len(train_dataloader)\n",
        "        lr_scheduler = {'scheduler': get_linear_schedule_with_warmup(optimizer,\n",
        "                                                    num_warmup_steps=self.hparams.warmup_steps,\n",
        "                                                    num_training_steps=num_train_optimization_steps),\n",
        "                        'name': 'learning_rate',\n",
        "                        'interval':'step',\n",
        "                        'frequency': 1}\n",
        "        \n",
        "        return {\"optimizer\": optimizer, \"lr_scheduler\": lr_scheduler}\n",
        "\n",
        "    def train_dataloader(self):\n",
        "        return train_dataloader\n",
        "\n",
        "    def val_dataloader(self):\n",
        "        return valid_dataloader\n",
        "\n",
        "    def test_dataloader(self):\n",
        "        return test_dataloader"
      ],
      "execution_count": 72,
      "outputs": []
    },
    {
      "cell_type": "markdown",
      "metadata": {
        "id": "CuYF6-tYZuuN"
      },
      "source": [
        "Let's start up Weights and Biases!"
      ]
    },
    {
      "cell_type": "code",
      "metadata": {
        "colab": {
          "base_uri": "https://localhost:8080/"
        },
        "id": "HKDavW52ZuKv",
        "outputId": "e90d14fe-7058-49b2-b6ba-e90c7d8459cc"
      },
      "source": [
        "import wandb\n",
        "\n",
        "wandb.login()"
      ],
      "execution_count": 45,
      "outputs": [
        {
          "output_type": "stream",
          "name": "stderr",
          "text": [
            "\u001b[34m\u001b[1mwandb\u001b[0m: \u001b[33mWARNING\u001b[0m Calling wandb.login() after wandb.init() has no effect.\n"
          ]
        },
        {
          "output_type": "execute_result",
          "data": {
            "text/plain": [
              "True"
            ]
          },
          "metadata": {},
          "execution_count": 45
        }
      ]
    },
    {
      "cell_type": "markdown",
      "metadata": {
        "id": "sAxLx7_Td1G-"
      },
      "source": [
        "Next, we initialize the model."
      ]
    },
    {
      "cell_type": "code",
      "source": [
        "#model = T5ForConditionalGeneration.from_pretrained(\"gagan3012/k2t\")"
      ],
      "metadata": {
        "id": "SV_4ScKR_mQ0"
      },
      "execution_count": 46,
      "outputs": []
    },
    {
      "cell_type": "code",
      "metadata": {
        "id": "ZtDmLYzEc9uP",
        "colab": {
          "base_uri": "https://localhost:8080/",
          "height": 81,
          "referenced_widgets": [
            "6fda8a8dad164d01bcb3c67081753dd0",
            "30d741d7d1784d228cf5400ef9867d06",
            "45acceadd0a540b6a97bab7bf3733097",
            "3229c36b7fea4988a936cf19e703035e",
            "db8903778e4845de8e7d8139c8a5c7b4",
            "5910964042694d93bfa26dfc2e3d21c0",
            "8ff89bf0773943e1a69e2395aa8fe512",
            "dc44cfa0fdab400db7daf1eb140d65f3",
            "3b1c73f9536d46bc8afd34f77450777b",
            "dc09ea9f666d484ab1cedeea0e1f0b51",
            "7c3b796ff0f74b0baddf7bee958e4056",
            "a15a707acf0740c39424ccd72bd72ffe",
            "0edc25ae8b054381928e34b59e4d302d",
            "f242515228c74c798093f795d87e8ee8",
            "c79657c8fbfe4650a233e9fd3283a99e",
            "d0e40dd8bc3f44ddb56f61fdf23c7996",
            "9ea92ae8dd9a4f178219134dbf6e2d04",
            "04f4f3271f1e4b57aedab2b40cfc1c3d",
            "b5b846f06de2498f9e5735e524920f9c",
            "9f651f3be99448ac9445e2e90310a721",
            "bd19fc5050b74c3484f2b9ec44161836",
            "2597b68ed766421687b7f7cf62c6a79a"
          ]
        },
        "outputId": "1578a525-8956-43c1-a97b-10caa9dd5687"
      },
      "source": [
        "model = CodeT5()"
      ],
      "execution_count": 68,
      "outputs": [
        {
          "output_type": "display_data",
          "data": {
            "text/plain": [
              "Downloading:   0%|          | 0.00/1.22k [00:00<?, ?B/s]"
            ],
            "application/vnd.jupyter.widget-view+json": {
              "version_major": 2,
              "version_minor": 0,
              "model_id": "6fda8a8dad164d01bcb3c67081753dd0"
            }
          },
          "metadata": {}
        },
        {
          "output_type": "display_data",
          "data": {
            "text/plain": [
              "Downloading:   0%|          | 0.00/8.87M [00:00<?, ?B/s]"
            ],
            "application/vnd.jupyter.widget-view+json": {
              "version_major": 2,
              "version_minor": 0,
              "model_id": "a15a707acf0740c39424ccd72bd72ffe"
            }
          },
          "metadata": {}
        }
      ]
    },
    {
      "cell_type": "markdown",
      "metadata": {
        "id": "KPzgguodd2uS"
      },
      "source": [
        "We can now simply start training on Colab's GPU."
      ]
    },
    {
      "cell_type": "code",
      "metadata": {
        "colab": {
          "base_uri": "https://localhost:8080/",
          "height": 275,
          "referenced_widgets": [
            "50019c5fde384d3fb01e3b21aa5c144e",
            "0af27cac6e39495fb077cdc6d9cce9d3",
            "2ea975ae53694a3b9ab0a63fa35fc5ff",
            "8144b69b7e9b47acac92f0e0e11ae741",
            "896e876024e44b68b630f244e88c3ade",
            "c2a2777d221e45c9b92aa66fbaffa8e2",
            "77ff152c254347a6b4be67f8663e5df3",
            "cc057655510342c59b13000628326a4a",
            "12947cda614744aabd58fd350c0b5284",
            "d0689fccc6a54b168c27ad5ccd9429be",
            "366c23dfd9d44b1b84e5aabced013595",
            "8addf983e9e040d6995944635e9281f4",
            "2ce1d5f033ba40adaac9d6e53ac3a6cc",
            "57342c37a626434e899dc751827315de",
            "adbc48917f5b4b1fa9ed1f130ebff8d1",
            "088ad7d931c64c40bc77eab78a8f2076",
            "bcfde84949ca4da8915c010358f126da",
            "2b1a29ce8a044942bbd0e0ac4c9bb913",
            "cd570200eff543c6a14a460d9a8343e5",
            "5e6029ba85954a4b91b22d2be1e6cf79",
            "339d9cd9741a41a79827082093c96aba",
            "0a44f65884f84c93835319066342d2a1"
          ]
        },
        "id": "WroP64V8dWuO",
        "outputId": "dd6834b8-632d-4d28-8aae-066031c44424"
      },
      "source": [
        "from pytorch_lightning import Trainer\n",
        "from pytorch_lightning.loggers import WandbLogger\n",
        "from pytorch_lightning.callbacks import EarlyStopping, LearningRateMonitor\n",
        "\n",
        "wandb_logger = WandbLogger(name='codet5-finetune-code-summarization-ruby-shuffle', project='CodeT5')\n",
        "# for early stopping, see https://pytorch-lightning.readthedocs.io/en/1.0.0/early_stopping.html?highlight=early%20stopping\n",
        "early_stop_callback = EarlyStopping(\n",
        "    monitor='validation_loss',\n",
        "    patience=3,\n",
        "    strict=False,\n",
        "    verbose=False,\n",
        "    mode='min'\n",
        ")\n",
        "lr_monitor = LearningRateMonitor(logging_interval='step')\n",
        "\n",
        "trainer = Trainer(#gpus=1, \n",
        "                  default_root_dir=\"/content/drive/MyDrive/CodeT5/Notebooks/Checkpoints\", \n",
        "                  #logger=wandb_logger, \n",
        "                  callbacks=[early_stop_callback, lr_monitor])\n",
        "trainer.fit(model)"
      ],
      "execution_count": 70,
      "outputs": [
        {
          "output_type": "stream",
          "name": "stderr",
          "text": [
            "INFO:pytorch_lightning.utilities.rank_zero:GPU available: False, used: False\n",
            "INFO:pytorch_lightning.utilities.rank_zero:TPU available: False, using: 0 TPU cores\n",
            "INFO:pytorch_lightning.utilities.rank_zero:IPU available: False, using: 0 IPUs\n",
            "INFO:pytorch_lightning.utilities.rank_zero:HPU available: False, using: 0 HPUs\n",
            "INFO:pytorch_lightning.callbacks.model_summary:\n",
            "  | Name  | Type                       | Params\n",
            "-----------------------------------------------------\n",
            "0 | model | T5ForConditionalGeneration | 2.2 M \n",
            "-----------------------------------------------------\n",
            "2.2 M     Trainable params\n",
            "0         Non-trainable params\n",
            "2.2 M     Total params\n",
            "8.851     Total estimated model params size (MB)\n"
          ]
        },
        {
          "output_type": "display_data",
          "data": {
            "text/plain": [
              "Sanity Checking: 0it [00:00, ?it/s]"
            ],
            "application/vnd.jupyter.widget-view+json": {
              "version_major": 2,
              "version_minor": 0,
              "model_id": "50019c5fde384d3fb01e3b21aa5c144e"
            }
          },
          "metadata": {}
        },
        {
          "output_type": "display_data",
          "data": {
            "text/plain": [
              "Training: 0it [00:00, ?it/s]"
            ],
            "application/vnd.jupyter.widget-view+json": {
              "version_major": 2,
              "version_minor": 0,
              "model_id": "8addf983e9e040d6995944635e9281f4"
            }
          },
          "metadata": {}
        }
      ]
    },
    {
      "cell_type": "markdown",
      "metadata": {
        "id": "oMxAo19KIo9j"
      },
      "source": [
        "Once we're done training, we can also save the HuggingFace model as follows:"
      ]
    },
    {
      "cell_type": "code",
      "metadata": {
        "id": "EhfLMOAmhIG6"
      },
      "source": [
        "save_directory = \"/content\" # save in the current working directory, you can change this of course\n",
        "model.model.save_pretrained(save_directory)"
      ],
      "execution_count": 16,
      "outputs": []
    },
    {
      "cell_type": "markdown",
      "metadata": {
        "id": "jr0O3iN5IsdW"
      },
      "source": [
        "This allows us to easily load the trained model again using the `from_pretrained()` method, as shown below."
      ]
    },
    {
      "cell_type": "markdown",
      "metadata": {
        "id": "BzhasngvAwX3"
      },
      "source": [
        "## Inference\n",
        "\n",
        "Now that we've trained a model, let's test it on some examples from the test set."
      ]
    },
    {
      "cell_type": "code",
      "metadata": {
        "colab": {
          "base_uri": "https://localhost:8080/",
          "height": 156,
          "referenced_widgets": [
            "942a8492dd044bc79621acc848b6fffc",
            "24e30264e5b14aaf8dfbceabe9bad247",
            "50b99cd10b8f47c6b4237fef6009847b",
            "a5e6579cba8643b3a92d78c2e2a3c5b8",
            "b5b9d23639fb400fb7ecc9455a9718e7",
            "18e67b5391344ec88b940c544dd3efc9",
            "339afd5b0efa4d9bb23481ff78091afe",
            "5b0cdac2e7c640608b73a6a178f04f9e",
            "7f54bd30b029446aa4a924e1004008a5",
            "e4954a1ff90f4b42abca58f9326187eb",
            "8f005458f5c44466948731774dd55bb5"
          ]
        },
        "id": "iPXM9tH8AyCN",
        "outputId": "423e0956-1d9d-4c5a-b0e2-d54fb39fd8a2"
      },
      "source": [
        "from datasets import load_dataset\n",
        "\n",
        "dataset = load_dataset(\"code_x_glue_ct_code_to_text\", \"ruby\")\n",
        "print(dataset['test'])"
      ],
      "execution_count": 17,
      "outputs": [
        {
          "output_type": "stream",
          "name": "stderr",
          "text": [
            "WARNING:datasets.builder:Found cached dataset code_x_glue_ct_code_to_text (/root/.cache/huggingface/datasets/code_x_glue_ct_code_to_text/ruby/0.0.0/f8b7e9d51f609a87e7ec7c7431706d4ee0b402e3398560410313d4acc67060a0)\n"
          ]
        },
        {
          "output_type": "display_data",
          "data": {
            "text/plain": [
              "  0%|          | 0/3 [00:00<?, ?it/s]"
            ],
            "application/vnd.jupyter.widget-view+json": {
              "version_major": 2,
              "version_minor": 0,
              "model_id": "942a8492dd044bc79621acc848b6fffc"
            }
          },
          "metadata": {}
        },
        {
          "output_type": "stream",
          "name": "stdout",
          "text": [
            "Dataset({\n",
            "    features: ['id', 'repo', 'path', 'func_name', 'original_string', 'language', 'code', 'code_tokens', 'docstring', 'docstring_tokens', 'sha', 'url'],\n",
            "    num_rows: 1261\n",
            "})\n"
          ]
        }
      ]
    },
    {
      "cell_type": "code",
      "metadata": {
        "colab": {
          "base_uri": "https://localhost:8080/"
        },
        "id": "spbNHeE5ETpG",
        "outputId": "f036cedb-2966-4b50-cd20-29716f8c3c56"
      },
      "source": [
        "test_example = dataset['test'][2]\n",
        "print(\"Code:\", test_example['code'])"
      ],
      "execution_count": 18,
      "outputs": [
        {
          "output_type": "stream",
          "name": "stdout",
          "text": [
            "Code: def confirm_ejson_keys_not_prunable\n",
            "      secret = ejson_provisioner.ejson_keys_secret\n",
            "      return unless secret.dig(\"metadata\", \"annotations\", KubernetesResource::LAST_APPLIED_ANNOTATION)\n",
            "\n",
            "      @logger.error(\"Deploy cannot proceed because protected resource \" \\\n",
            "        \"Secret/#{EjsonSecretProvisioner::EJSON_KEYS_SECRET} would be pruned.\")\n",
            "      raise EjsonPrunableError\n",
            "    rescue Kubectl::ResourceNotFoundError => e\n",
            "      @logger.debug(\"Secret/#{EjsonSecretProvisioner::EJSON_KEYS_SECRET} does not exist: #{e}\")\n",
            "    end\n"
          ]
        }
      ]
    },
    {
      "cell_type": "markdown",
      "metadata": {
        "id": "4XwCaigDI622"
      },
      "source": [
        "We can load our trained model as follows:"
      ]
    },
    {
      "cell_type": "code",
      "metadata": {
        "id": "Vu68VMzTEXek"
      },
      "source": [
        "from transformers import T5ForConditionalGeneration\n",
        "\n",
        "model = T5ForConditionalGeneration.from_pretrained(save_directory)"
      ],
      "execution_count": 19,
      "outputs": []
    },
    {
      "cell_type": "markdown",
      "metadata": {
        "id": "2w7JC9CxJJ_F"
      },
      "source": [
        "We can prepare the example using `RobertaTokenizer`, and generate using the `.generate()` method. Note that there are several ways of doing generation (greedy decoding/beam search/top k sampling/etc.), for that I refer to Patrick's blog post which you can find [here](https://huggingface.co/blog/how-to-generate). Here we will just use the default settings (i.e. greedy decoding)."
      ]
    },
    {
      "cell_type": "code",
      "metadata": {
        "colab": {
          "base_uri": "https://localhost:8080/"
        },
        "id": "NhpiAr6UE7vG",
        "outputId": "ab4b3954-8afe-472e-da6e-60da831c284c"
      },
      "source": [
        "# prepare for the model\n",
        "input_ids = tokenizer(test_example['code'], return_tensors='pt').input_ids\n",
        "# generate\n",
        "outputs = model.generate(input_ids)\n",
        "print(\"Generated docstring:\", tokenizer.decode(outputs[0], skip_special_tokens=True))"
      ],
      "execution_count": 20,
      "outputs": [
        {
          "output_type": "stream",
          "name": "stderr",
          "text": [
            "/usr/local/lib/python3.8/dist-packages/transformers/generation/utils.py:1387: UserWarning: Neither `max_length` nor `max_new_tokens` has been set, `max_length` will default to 20 (`self.config.max_length`). Controlling `max_length` via the config is deprecated and `max_length` will be removed from the config in v5 of Transformers -- we recommend using `max_new_tokens` to control the maximum length of the generation.\n",
            "  warnings.warn(\n"
          ]
        },
        {
          "output_type": "stream",
          "name": "stdout",
          "text": [
            "Generated docstring: confirm that the ejson keys secret is pruned.\n",
            "\n",
            " @raise [EjsonPr\n"
          ]
        }
      ]
    },
    {
      "cell_type": "markdown",
      "metadata": {
        "id": "cjxvMu0rKDzL"
      },
      "source": [
        "Let's compare this to the ground-truth docstring:"
      ]
    },
    {
      "cell_type": "code",
      "metadata": {
        "colab": {
          "base_uri": "https://localhost:8080/"
        },
        "id": "gLy5iUqHKHmy",
        "outputId": "899435d2-d733-4b01-a599-2968d6f0dd04"
      },
      "source": [
        "print(\"Ground truth:\", test_example['docstring'])"
      ],
      "execution_count": 21,
      "outputs": [
        {
          "output_type": "stream",
          "name": "stdout",
          "text": [
            "Ground truth: make sure to never prune the ejson-keys secret\n"
          ]
        }
      ]
    },
    {
      "cell_type": "markdown",
      "metadata": {
        "id": "nC_9q7BDF_cU"
      },
      "source": [
        "## Upload trained model to the hub\n",
        "\n",
        "Cool! We can also share our model with the world, by uploading it to [hf.co](https://hf.co). For that, we need to install Git-LFS, which is used for using git with large files (note that each model on the hub = a git repository!)."
      ]
    },
    {
      "cell_type": "code",
      "metadata": {
        "colab": {
          "base_uri": "https://localhost:8080/"
        },
        "id": "I_qTWbVoFKUi",
        "outputId": "9924bcad-efcf-49f5-a6e0-1ddcc55c1bfc"
      },
      "source": [
        "!sudo apt-get install git-lfs\n",
        "!git config --global user.email \"niels.rogge1@gmail.com\"\n",
        "!git config --global user.name \"Niels Rogge\""
      ],
      "execution_count": null,
      "outputs": [
        {
          "output_type": "stream",
          "name": "stdout",
          "text": [
            "Reading package lists... Done\n",
            "Building dependency tree       \n",
            "Reading state information... Done\n",
            "The following NEW packages will be installed:\n",
            "  git-lfs\n",
            "0 upgraded, 1 newly installed, 0 to remove and 40 not upgraded.\n",
            "Need to get 2,129 kB of archives.\n",
            "After this operation, 7,662 kB of additional disk space will be used.\n",
            "Get:1 http://archive.ubuntu.com/ubuntu bionic/universe amd64 git-lfs amd64 2.3.4-1 [2,129 kB]\n",
            "Fetched 2,129 kB in 1s (1,837 kB/s)\n",
            "debconf: unable to initialize frontend: Dialog\n",
            "debconf: (No usable dialog-like program is installed, so the dialog based frontend cannot be used. at /usr/share/perl5/Debconf/FrontEnd/Dialog.pm line 76, <> line 1.)\n",
            "debconf: falling back to frontend: Readline\n",
            "debconf: unable to initialize frontend: Readline\n",
            "debconf: (This frontend requires a controlling tty.)\n",
            "debconf: falling back to frontend: Teletype\n",
            "dpkg-preconfigure: unable to re-open stdin: \n",
            "Selecting previously unselected package git-lfs.\n",
            "(Reading database ... 148492 files and directories currently installed.)\n",
            "Preparing to unpack .../git-lfs_2.3.4-1_amd64.deb ...\n",
            "Unpacking git-lfs (2.3.4-1) ...\n",
            "Setting up git-lfs (2.3.4-1) ...\n",
            "Processing triggers for man-db (2.8.3-2ubuntu0.1) ...\n"
          ]
        }
      ]
    },
    {
      "cell_type": "markdown",
      "metadata": {
        "id": "7zKZKbHrJ05q"
      },
      "source": [
        "Next, we can login with the credentials of our HuggingFace account (you can sign up on [hf.co](https://hf.co) if you haven't already!)."
      ]
    },
    {
      "cell_type": "code",
      "metadata": {
        "colab": {
          "base_uri": "https://localhost:8080/"
        },
        "id": "JSVClVYvGBBn",
        "outputId": "af77f7d0-d2a3-4d7e-d196-4ad87883a3d9"
      },
      "source": [
        "!huggingface-cli login"
      ],
      "execution_count": null,
      "outputs": [
        {
          "output_type": "stream",
          "name": "stdout",
          "text": [
            "\n",
            "        _|    _|  _|    _|    _|_|_|    _|_|_|  _|_|_|  _|      _|    _|_|_|      _|_|_|_|    _|_|      _|_|_|  _|_|_|_|\n",
            "        _|    _|  _|    _|  _|        _|          _|    _|_|    _|  _|            _|        _|    _|  _|        _|\n",
            "        _|_|_|_|  _|    _|  _|  _|_|  _|  _|_|    _|    _|  _|  _|  _|  _|_|      _|_|_|    _|_|_|_|  _|        _|_|_|\n",
            "        _|    _|  _|    _|  _|    _|  _|    _|    _|    _|    _|_|  _|    _|      _|        _|    _|  _|        _|\n",
            "        _|    _|    _|_|      _|_|_|    _|_|_|  _|_|_|  _|      _|    _|_|_|      _|        _|    _|    _|_|_|  _|_|_|_|\n",
            "\n",
            "        \n",
            "Username: nielsr\n",
            "Password: \n",
            "Login successful\n",
            "Your token has been saved to /root/.huggingface/token\n",
            "\u001b[1m\u001b[31mAuthenticated through git-crendential store but this isn't the helper defined on your machine.\n",
            "You will have to re-authenticate when pushing to the Hugging Face Hub. Run the following command in your terminal to set it as the default\n",
            "\n",
            "git config --global credential.helper store\u001b[0m\n"
          ]
        }
      ]
    },
    {
      "cell_type": "code",
      "metadata": {
        "id": "qmWFxFncHA8l"
      },
      "source": [
        "repo_url = \"https://huggingface.co/nielsr/codet5-small-code-summarization-ruby\""
      ],
      "execution_count": null,
      "outputs": []
    },
    {
      "cell_type": "code",
      "metadata": {
        "colab": {
          "base_uri": "https://localhost:8080/"
        },
        "id": "q_9dhtuoHBnr",
        "outputId": "9741c2d3-6daa-4cb3-94ae-011dbbb79bb4"
      },
      "source": [
        "from huggingface_hub import Repository\n",
        "\n",
        "repo = Repository(local_dir=\"checkpoint\", # note that this directory must not exist already\n",
        "                  clone_from=repo_url,\n",
        "                  git_user=\"Niels Rogge\",\n",
        "                  git_email=\"niels.rogge1@gmail.com\",\n",
        "                  use_auth_token=True,\n",
        ")"
      ],
      "execution_count": null,
      "outputs": [
        {
          "output_type": "stream",
          "name": "stderr",
          "text": [
            "Cloning https://huggingface.co/nielsr/codet5-small-code-summarization-ruby into local empty directory.\n"
          ]
        }
      ]
    },
    {
      "cell_type": "code",
      "metadata": {
        "id": "W3aKp8-JHNom"
      },
      "source": [
        "model.save_pretrained(\"/content/checkpoint\")\n",
        "tokenizer.save_pretrained(\"/content/checkpoint\")"
      ],
      "execution_count": null,
      "outputs": []
    },
    {
      "cell_type": "code",
      "metadata": {
        "colab": {
          "base_uri": "https://localhost:8080/",
          "height": 67,
          "referenced_widgets": [
            "b194e01ec8e4445ea89e658ff3a16e31",
            "607e13af157a4e3db72925f0e838ce09",
            "f426b19fbf4d4b688192c43e31710e6a",
            "551ec23b892d4d5dbc36dd58efe2ca01",
            "6ddb79d1d79d4d87b1fecbf92226d39b",
            "a4476b44ef6844e5b096299476e95b4f",
            "bd7eeaa744884b98a64b38af9cd5ff84",
            "e0fe868886b54b0c833d7469aeeb5eb9",
            "a927ba91200f45ff84a20511dc1ca738",
            "a7c75ea8186c4fb8ac274a00ea95a4d3",
            "cc626c2bb0fa4da38f11e0df0d08bf08"
          ]
        },
        "id": "B_LPaTJnHD9j",
        "outputId": "bfee5e95-0aea-4c44-ae1a-46c1f8895ead"
      },
      "source": [
        "# push to hub\n",
        "repo.push_to_hub(commit_message=\"First commit\")"
      ],
      "execution_count": null,
      "outputs": [
        {
          "output_type": "display_data",
          "data": {
            "application/vnd.jupyter.widget-view+json": {
              "model_id": "b194e01ec8e4445ea89e658ff3a16e31",
              "version_minor": 0,
              "version_major": 2
            },
            "text/plain": [
              "Upload file pytorch_model.bin:   0%|          | 3.43k/231M [00:00<?, ?B/s]"
            ]
          },
          "metadata": {}
        },
        {
          "output_type": "execute_result",
          "data": {
            "application/vnd.google.colaboratory.intrinsic+json": {
              "type": "string"
            },
            "text/plain": [
              "'https://huggingface.co/nielsr/codet5-small-code-summarization-ruby/commit/338c3a3b3f8d19dd32d2e881948a2236f09945e9'"
            ]
          },
          "metadata": {},
          "execution_count": 40
        }
      ]
    },
    {
      "cell_type": "code",
      "metadata": {
        "id": "Qo7cID0bHWVN"
      },
      "source": [],
      "execution_count": null,
      "outputs": []
    }
  ]
}